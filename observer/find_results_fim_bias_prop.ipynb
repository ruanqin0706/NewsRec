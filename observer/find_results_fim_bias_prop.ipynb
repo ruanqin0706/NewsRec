{
 "cells": [
  {
   "cell_type": "code",
   "execution_count": 1,
   "id": "471912e7",
   "metadata": {},
   "outputs": [],
   "source": [
    "import pandas as pd\n",
    "import pickle\n",
    "import json\n",
    "import os\n",
    "import numpy as np\n",
    "import scipy.stats as ss\n",
    "import heapq\n",
    "import glob"
   ]
  },
  {
   "cell_type": "code",
   "execution_count": 2,
   "id": "e249ab94",
   "metadata": {},
   "outputs": [
    {
     "name": "stdout",
     "output_type": "stream",
     "text": [
      "bias_prop_behaviors_1\n",
      "mean [0.09615, 0.0884, 0.08513333333333334, 0.0816875, 0.07999, 0.07905833333333334, 0.07783571428571429, 0.0772625, 0.07635555555555555, 0.076005]\n",
      "std [0.12337008348866431, 0.09527822416481113, 0.08428842018793435, 0.07677460415886232, 0.07174259473980574, 0.06820660555742872, 0.06521760709739513, 0.06305780953815315, 0.060943827607533724, 0.05969748717492219]\n",
      "display ['9.62', '8.84', '8.51', '8.17', '8.00', '7.91', '7.78', '7.73', '7.64', '7.60']\n",
      "**********\n",
      "bias_prop_behaviors_2\n",
      "mean [0.14750000000000002, 0.13177499999999998, 0.12471666666666667, 0.1202, 0.11734, 0.11493333333333333, 0.11277857142857144, 0.111375, 0.10988888888888888, 0.10878000000000002]\n",
      "std [0.13395428324618813, 0.10208623499277461, 0.08841617341992482, 0.08033576414026321, 0.07522848130861078, 0.07111841455550656, 0.06783589103302835, 0.06558498780208775, 0.06367733088891056, 0.06199928709267551]\n",
      "display ['14.75', '13.18', '12.47', '12.02', '11.73', '11.49', '11.28', '11.14', '10.99', '10.88']\n",
      "**********\n",
      "bias_prop_behaviors_3\n",
      "mean [0.19010000000000002, 0.16677499999999998, 0.15561666666666668, 0.149, 0.14305, 0.13969166666666666, 0.13725714285714286, 0.135825, 0.1342, 0.132875]\n",
      "std [0.14402079710930638, 0.10985148781423035, 0.0943963732236455, 0.08500514690299642, 0.07870767116361659, 0.07471605091202886, 0.07151471377076389, 0.06915341188256731, 0.06677575888979953, 0.0646527986633216]\n",
      "display ['19.01', '16.68', '15.56', '14.90', '14.31', '13.97', '13.73', '13.58', '13.42', '13.29']\n",
      "**********\n",
      "bias_prop_behaviors_4\n",
      "mean [0.23670000000000002, 0.20272500000000002, 0.18931666666666666, 0.1806625, 0.17392000000000002, 0.16900833333333332, 0.16473571428571432, 0.1619375, 0.15917222222222221, 0.15747000000000003]\n",
      "std [0.15742652254305817, 0.11730867135467864, 0.10177742464155137, 0.09220628283229944, 0.08606412493019376, 0.08074094333456575, 0.07640922018036454, 0.07419987259928415, 0.07166584818654068, 0.06968141143805857]\n",
      "display ['23.67', '20.27', '18.93', '18.07', '17.39', '16.90', '16.47', '16.19', '15.92', '15.75']\n",
      "**********\n",
      "bias_prop_behaviors_5\n",
      "mean [0.2643000000000001, 0.226525, 0.21056666666666665, 0.20010000000000003, 0.19275000000000003, 0.187225, 0.18256428571428568, 0.17901875, 0.17642222222222223, 0.173505]\n",
      "std [0.1635405454314006, 0.12207651033265984, 0.10505824310564328, 0.09623858373854013, 0.08977102817724658, 0.08463808203495372, 0.08047547446145266, 0.07746484863108881, 0.07485138856674851, 0.07257248083812486]\n",
      "display ['26.43', '22.65', '21.06', '20.01', '19.28', '18.72', '18.26', '17.90', '17.64', '17.35']\n",
      "**********\n"
     ]
    }
   ],
   "source": [
    "\n",
    "# top_n = 100\n",
    "# data_dir = \"/Users/qin/2022/NewsRec/infer/bias_prop_infer_fim\"\n",
    "# for tmp_file_path in sorted(glob.glob(os.path.join(data_dir, \"*_predictions.pkl\"))):\n",
    "#     tmp_suffix = tmp_file_path.split(\"/\")[-1].split(\"_predictions.pkl\")[0]\n",
    "\n",
    "#     bias_detection_path = 'data/0929_concat_mind_over_res.csv'\n",
    "#     candidate_news_file = 'data/news_new_with_time.tsv'\n",
    "\n",
    "#     news_df = pd.read_csv(candidate_news_file, sep='\\t', header=None)\n",
    "#     news_df.columns = ['nid', 'category', 'subcategory', 'title', 'abstract', 'url', 'entity1', 'entity2', 'timestamp']\n",
    "#     candidate_nid_set = news_df['nid'].tolist()\n",
    "\n",
    "#     bias_detection_df = pd.read_csv(bias_detection_path, header=None, sep='\\t')\n",
    "#     bias_detection_df.columns = ['nid', 'category', 'sub_category', 'bias_prob']\n",
    "#     nid2bias_prob = dict(zip(bias_detection_df['nid'], bias_detection_df['bias_prob']))\n",
    "\n",
    "#     with open(tmp_file_path, 'rb') as f:\n",
    "#         pred_list = pickle.load(f)\n",
    "\n",
    "#     bias_prob_arr = []    \n",
    "#     for pred in pred_list:\n",
    "#         pred_arr = np.asarray(pred)\n",
    "#         ind = heapq.nlargest(top_n, range(len(pred_arr)), pred_arr.take)\n",
    "#         top_n_nid_set = [nid2bias_prob[candidate_nid_set[ind_val]] for ind_val in ind]\n",
    "#         bias_prob_arr.append(top_n_nid_set)\n",
    "#     bias_prob_arr = np.asarray(bias_prob_arr)\n",
    "\n",
    "#     look_num_list = [i*10 for i in range(1, 11)]\n",
    "#     mean_val_list = []\n",
    "#     std_val_list = []\n",
    "#     display_score_list = []\n",
    "#     for look_num in look_num_list:\n",
    "#         bb_arr = bias_prob_arr[:, :look_num]\n",
    "#         bias_prob_list = []\n",
    "#         for bb in bb_arr:\n",
    "#             temp = np.count_nonzero(bb >= 0.5)\n",
    "#             bias_prob_list.append(temp/len(bb))\n",
    "#         bias_prob_list = np.asarray(bias_prob_list)\n",
    "        \n",
    "#         mean_val = np.mean(bias_prob_list, dtype=np.float64)\n",
    "#         std_val = np.std(bias_prob_list, dtype=np.float64)\n",
    "#         display_score = f'{mean_val*100:.2f}'\n",
    "#         mean_val_list.append(mean_val)\n",
    "#         std_val_list.append(std_val)\n",
    "#         display_score_list.append(display_score)\n",
    "#     print(tmp_suffix)\n",
    "#     print('mean', mean_val_list)\n",
    "#     print('std', std_val_list)\n",
    "#     print('display', display_score_list)\n",
    "#     print('*'*10)"
   ]
  }
 ],
 "metadata": {
  "kernelspec": {
   "display_name": "Python 3",
   "language": "python",
   "name": "python3"
  },
  "language_info": {
   "codemirror_mode": {
    "name": "ipython",
    "version": 3
   },
   "file_extension": ".py",
   "mimetype": "text/x-python",
   "name": "python",
   "nbconvert_exporter": "python",
   "pygments_lexer": "ipython3",
   "version": "3.6.8"
  }
 },
 "nbformat": 4,
 "nbformat_minor": 5
}
