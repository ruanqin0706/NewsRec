{
 "cells": [
  {
   "cell_type": "code",
   "execution_count": 1,
   "id": "fce62bd5",
   "metadata": {},
   "outputs": [],
   "source": [
    "import pandas as pd\n",
    "import pickle\n",
    "import json\n",
    "import os\n",
    "import numpy as np\n",
    "import scipy.stats as ss\n",
    "import heapq\n",
    "import glob"
   ]
  },
  {
   "cell_type": "code",
   "execution_count": 3,
   "id": "c57cc0ee",
   "metadata": {},
   "outputs": [
    {
     "name": "stdout",
     "output_type": "stream",
     "text": [
      "bias_prop_behaviors_1\n",
      "mean [0.11215, 0.09680000000000001, 0.08871666666666667, 0.084225, 0.08032, 0.07804166666666666, 0.07613571428571428, 0.07466249999999999, 0.07318333333333334, 0.07194]\n",
      "std [0.12952751638165536, 0.09979859718452962, 0.08724115841861697, 0.08093530981592645, 0.07603089898192707, 0.07325885185422987, 0.07154409194221935, 0.07027765358739575, 0.06899500585791216, 0.06794436253288422]\n",
      "display ['11.21', '9.68', '8.87', '8.42', '8.03', '7.80', '7.61', '7.47', '7.32', '7.19']\n",
      "**********\n",
      "bias_prop_behaviors_2\n",
      "mean [0.17, 0.14397500000000002, 0.13183333333333333, 0.123625, 0.11870000000000001, 0.11540833333333333, 0.11232142857142857, 0.110325, 0.10832777777777779, 0.10653000000000001]\n",
      "std [0.14233762678926468, 0.10916707092800466, 0.09489745927988683, 0.08875167251945171, 0.08562423722287983, 0.08308596577240547, 0.08157704978129822, 0.08039718200907293, 0.07927195707822751, 0.07799332727868455]\n",
      "display ['17.00', '14.40', '13.18', '12.36', '11.87', '11.54', '11.23', '11.03', '10.83', '10.65']\n",
      "**********\n",
      "bias_prop_behaviors_3\n",
      "mean [0.21744999999999998, 0.1876, 0.17348333333333335, 0.16277499999999998, 0.15722000000000003, 0.15175833333333333, 0.14775, 0.14502500000000002, 0.14221666666666666, 0.14032499999999998]\n",
      "std [0.1512960591026746, 0.118832823748323, 0.10751061833863462, 0.10139304401683578, 0.09889727802118721, 0.09758524727698913, 0.09608583933342188, 0.0949470214119432, 0.09354163247545362, 0.09253509807094819]\n",
      "display ['21.74', '18.76', '17.35', '16.28', '15.72', '15.18', '14.77', '14.50', '14.22', '14.03']\n",
      "**********\n",
      "bias_prop_behaviors_4\n",
      "mean [0.26485000000000003, 0.230925, 0.2136666666666667, 0.20455, 0.19823000000000002, 0.19270833333333331, 0.1890857142857143, 0.18558750000000002, 0.18247222222222223, 0.18004000000000003]\n",
      "std [0.1591837852923469, 0.12806207235165298, 0.1185087901099886, 0.11590911310160215, 0.11487326538407447, 0.11342777162141554, 0.1122527250703264, 0.11070695481201712, 0.10859824803056743, 0.10764895912176763]\n",
      "display ['26.49', '23.09', '21.37', '20.46', '19.82', '19.27', '18.91', '18.56', '18.25', '18.00']\n",
      "**********\n",
      "bias_prop_behaviors_5\n",
      "mean [0.29869999999999997, 0.2601, 0.24068333333333333, 0.23317500000000002, 0.22644000000000003, 0.22156666666666666, 0.21713571428571427, 0.21328125, 0.2095, 0.20661500000000002]\n",
      "std [0.16528251571173522, 0.1374881449434823, 0.12892237005267937, 0.12594163082555349, 0.12463597554478402, 0.12336211826254533, 0.12220649950149201, 0.12133733565328315, 0.11976982812209035, 0.11812828524532133]\n",
      "display ['29.87', '26.01', '24.07', '23.32', '22.64', '22.16', '21.71', '21.33', '20.95', '20.66']\n",
      "**********\n"
     ]
    }
   ],
   "source": [
    "# top_n = 100\n",
    "# data_dir = \"../infer/bias_prop_infer_two\"\n",
    "# for tmp_file_path in sorted(glob.glob(os.path.join(data_dir, \"*_predictions.pkl\"))):\n",
    "#     tmp_suffix = tmp_file_path.split(\"/\")[-1].split(\"_predictions.pkl\")[0]\n",
    "\n",
    "#     bias_detection_path = 'data/0929_concat_mind_over_res.csv'\n",
    "#     candidate_news_file = 'data/news_new_with_time.tsv'\n",
    "\n",
    "#     news_df = pd.read_csv(candidate_news_file, sep='\\t', header=None)\n",
    "#     news_df.columns = ['nid', 'category', 'subcategory', 'title', 'abstract', 'url', 'entity1', 'entity2', 'timestamp']\n",
    "#     candidate_nid_set = news_df['nid'].tolist()\n",
    "\n",
    "#     bias_detection_df = pd.read_csv(bias_detection_path, header=None, sep='\\t')\n",
    "#     bias_detection_df.columns = ['nid', 'category', 'sub_category', 'bias_prob']\n",
    "#     nid2bias_prob = dict(zip(bias_detection_df['nid'], bias_detection_df['bias_prob']))\n",
    "\n",
    "#     with open(tmp_file_path, 'rb') as f:\n",
    "#         pred_list = pickle.load(f)\n",
    "\n",
    "#     bias_prob_arr = []    \n",
    "#     for pred in pred_list:\n",
    "#         pred_arr = np.asarray(pred)\n",
    "#         ind = heapq.nlargest(top_n, range(len(pred_arr)), pred_arr.take)\n",
    "#         top_n_nid_set = [nid2bias_prob[candidate_nid_set[ind_val]] for ind_val in ind]\n",
    "#         bias_prob_arr.append(top_n_nid_set)\n",
    "#     bias_prob_arr = np.asarray(bias_prob_arr)\n",
    "\n",
    "#     look_num_list = [i*10 for i in range(1, 11)]\n",
    "#     mean_val_list = []\n",
    "#     std_val_list = []\n",
    "#     display_score_list = []\n",
    "#     for look_num in look_num_list:\n",
    "#         bb_arr = bias_prob_arr[:, :look_num]\n",
    "#         bias_prob_list = []\n",
    "#         for bb in bb_arr:\n",
    "#             temp = np.count_nonzero(bb >= 0.5)\n",
    "#             bias_prob_list.append(temp/len(bb))\n",
    "#         bias_prob_list = np.asarray(bias_prob_list)\n",
    "        \n",
    "#         mean_val = np.mean(bias_prob_list, dtype=np.float64)\n",
    "#         std_val = np.std(bias_prob_list, dtype=np.float64)\n",
    "#         display_score = f'{mean_val*100:.2f}'\n",
    "#         mean_val_list.append(mean_val)\n",
    "#         std_val_list.append(std_val)\n",
    "#         display_score_list.append(display_score)\n",
    "    \n",
    "#     print(tmp_suffix)\n",
    "#     print('mean', mean_val_list)\n",
    "#     print('std', std_val_list)\n",
    "#     print('display', display_score_list)\n",
    "#     print('*'*10)"
   ]
  }
 ],
 "metadata": {
  "kernelspec": {
   "display_name": "Python 3",
   "language": "python",
   "name": "python3"
  },
  "language_info": {
   "codemirror_mode": {
    "name": "ipython",
    "version": 3
   },
   "file_extension": ".py",
   "mimetype": "text/x-python",
   "name": "python",
   "nbconvert_exporter": "python",
   "pygments_lexer": "ipython3",
   "version": "3.6.8"
  }
 },
 "nbformat": 4,
 "nbformat_minor": 5
}
