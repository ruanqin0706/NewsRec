{
 "cells": [
  {
   "cell_type": "code",
   "execution_count": 1,
   "id": "8a117b71",
   "metadata": {},
   "outputs": [
    {
     "data": {
      "text/plain": [
       "<Figure size 864x540 with 0 Axes>"
      ]
     },
     "execution_count": 1,
     "metadata": {},
     "output_type": "execute_result"
    },
    {
     "data": {
      "text/plain": [
       "<Figure size 864x540 with 0 Axes>"
      ]
     },
     "metadata": {},
     "output_type": "display_data"
    }
   ],
   "source": [
    "import pickle\n",
    "import pandas as pd\n",
    "import numpy as np\n",
    "from sklearn.cluster import KMeans\n",
    "from sklearn.manifold import TSNE\n",
    "import sklearn\n",
    "import matplotlib.pyplot as plt\n",
    "plt.figure(figsize=(12, 7.5))"
   ]
  },
  {
   "cell_type": "markdown",
   "id": "7d2eb9cc",
   "metadata": {},
   "source": [
    "step 1: Statistical user information - based on interest grouping \n",
    "step 2: draw aggregated graphs for the counted users according to category vectors \n",
    "step 3: draw histograms about the distribution of user bias"
   ]
  },
  {
   "cell_type": "code",
   "execution_count": 2,
   "id": "eb3a773c",
   "metadata": {},
   "outputs": [],
   "source": [
    "\n",
    "user_info_path = 'data/interests_user_info_dict_2000.pkl'\n",
    "kmeans_path = 'data/kmeans/kmean_model.pkl'\n",
    "behavior_path = 'data/behaviors_new_with_kmeans_labels.tsv'\n",
    "nid2category_path = 'data/kmeans/nid2category.pkl'\n",
    "category2idx_path = 'data/kmeans/category2idx.pkl'"
   ]
  },
  {
   "cell_type": "code",
   "execution_count": 3,
   "id": "ce882002",
   "metadata": {},
   "outputs": [],
   "source": [
    "\n",
    "with open(user_info_path, 'rb') as f:\n",
    "    user_info_dict = pickle.load(f)\n"
   ]
  },
  {
   "cell_type": "code",
   "execution_count": 4,
   "id": "c2a46c39",
   "metadata": {},
   "outputs": [
    {
     "name": "stdout",
     "output_type": "stream",
     "text": [
      "20000\n"
     ]
    }
   ],
   "source": [
    "uid_list = []\n",
    "for k, v in user_info_dict.items():\n",
    "    uid_list.extend(v['uid'].tolist())\n",
    "print(len(uid_list))"
   ]
  },
  {
   "cell_type": "code",
   "execution_count": 5,
   "id": "91c0185f",
   "metadata": {},
   "outputs": [],
   "source": [
    "\n",
    "behavior_df = pd.read_csv(behavior_path, sep='\\t', header=None)\n",
    "behavior_df.columns = ['idx', 'uid', 'date', 'history', 'impression', 'labels']\n"
   ]
  },
  {
   "cell_type": "code",
   "execution_count": 6,
   "id": "1ccd04cf",
   "metadata": {},
   "outputs": [
    {
     "data": {
      "text/plain": [
       "(333948, 6)"
      ]
     },
     "execution_count": 6,
     "metadata": {},
     "output_type": "execute_result"
    }
   ],
   "source": [
    "behavior_df.shape"
   ]
  },
  {
   "cell_type": "code",
   "execution_count": 7,
   "id": "ee6101d8",
   "metadata": {},
   "outputs": [],
   "source": [
    "interest_behavior_df = behavior_df[behavior_df['uid'].isin(uid_list)]"
   ]
  },
  {
   "cell_type": "code",
   "execution_count": 8,
   "id": "2ec5c900",
   "metadata": {},
   "outputs": [
    {
     "data": {
      "text/plain": [
       "(20000, 6)"
      ]
     },
     "execution_count": 8,
     "metadata": {},
     "output_type": "execute_result"
    }
   ],
   "source": [
    "interest_behavior_df.shape"
   ]
  },
  {
   "cell_type": "code",
   "execution_count": 9,
   "id": "86eb95dd",
   "metadata": {},
   "outputs": [
    {
     "data": {
      "text/html": [
       "<div>\n",
       "<style scoped>\n",
       "    .dataframe tbody tr th:only-of-type {\n",
       "        vertical-align: middle;\n",
       "    }\n",
       "\n",
       "    .dataframe tbody tr th {\n",
       "        vertical-align: top;\n",
       "    }\n",
       "\n",
       "    .dataframe thead th {\n",
       "        text-align: right;\n",
       "    }\n",
       "</style>\n",
       "<table border=\"1\" class=\"dataframe\">\n",
       "  <thead>\n",
       "    <tr style=\"text-align: right;\">\n",
       "      <th></th>\n",
       "      <th>idx</th>\n",
       "      <th>uid</th>\n",
       "      <th>date</th>\n",
       "      <th>history</th>\n",
       "      <th>impression</th>\n",
       "      <th>labels</th>\n",
       "    </tr>\n",
       "  </thead>\n",
       "  <tbody>\n",
       "    <tr>\n",
       "      <th>0</th>\n",
       "      <td>2</td>\n",
       "      <td>U231077</td>\n",
       "      <td>11/19/2019 5:28:08 AM</td>\n",
       "      <td>N45124 N84730 N45128 N104312 N70022 N99111 N26...</td>\n",
       "      <td>N14657 N51253 N49521 N126571 N74286 N101071 N1...</td>\n",
       "      <td>2</td>\n",
       "    </tr>\n",
       "    <tr>\n",
       "      <th>6</th>\n",
       "      <td>17</td>\n",
       "      <td>U36211</td>\n",
       "      <td>11/22/2019 11:09:00 PM</td>\n",
       "      <td>N65259 N81692 N11397 N76677 N24701 N5287 N1236...</td>\n",
       "      <td>N92450 N111382 N32454 N101867 N103387 N84276 N...</td>\n",
       "      <td>2</td>\n",
       "    </tr>\n",
       "    <tr>\n",
       "      <th>23</th>\n",
       "      <td>77</td>\n",
       "      <td>U363463</td>\n",
       "      <td>11/22/2019 5:04:54 PM</td>\n",
       "      <td>N38014 N85659 N65119 N14240 N52405 N83253 N112...</td>\n",
       "      <td>N115848 N124107 N22832 N94108 N106421 N103387 ...</td>\n",
       "      <td>0</td>\n",
       "    </tr>\n",
       "    <tr>\n",
       "      <th>41</th>\n",
       "      <td>134</td>\n",
       "      <td>U192357</td>\n",
       "      <td>11/17/2019 5:36:16 AM</td>\n",
       "      <td>N61319 N73122 N51893 N79285 N73120 N92079 N722...</td>\n",
       "      <td>N35994 N33607 N54666 N129869 N68662 N77433 N90...</td>\n",
       "      <td>3</td>\n",
       "    </tr>\n",
       "    <tr>\n",
       "      <th>70</th>\n",
       "      <td>208</td>\n",
       "      <td>U729867</td>\n",
       "      <td>11/18/2019 12:55:10 PM</td>\n",
       "      <td>N48215 N25197 N3948 N107555 N113328 N91865</td>\n",
       "      <td>N101001 N20055 N65799 N78064 N32131 N86965 N11...</td>\n",
       "      <td>0</td>\n",
       "    </tr>\n",
       "  </tbody>\n",
       "</table>\n",
       "</div>"
      ],
      "text/plain": [
       "    idx      uid                    date  \\\n",
       "0     2  U231077   11/19/2019 5:28:08 AM   \n",
       "6    17   U36211  11/22/2019 11:09:00 PM   \n",
       "23   77  U363463   11/22/2019 5:04:54 PM   \n",
       "41  134  U192357   11/17/2019 5:36:16 AM   \n",
       "70  208  U729867  11/18/2019 12:55:10 PM   \n",
       "\n",
       "                                              history  \\\n",
       "0   N45124 N84730 N45128 N104312 N70022 N99111 N26...   \n",
       "6   N65259 N81692 N11397 N76677 N24701 N5287 N1236...   \n",
       "23  N38014 N85659 N65119 N14240 N52405 N83253 N112...   \n",
       "41  N61319 N73122 N51893 N79285 N73120 N92079 N722...   \n",
       "70         N48215 N25197 N3948 N107555 N113328 N91865   \n",
       "\n",
       "                                           impression  labels  \n",
       "0   N14657 N51253 N49521 N126571 N74286 N101071 N1...       2  \n",
       "6   N92450 N111382 N32454 N101867 N103387 N84276 N...       2  \n",
       "23  N115848 N124107 N22832 N94108 N106421 N103387 ...       0  \n",
       "41  N35994 N33607 N54666 N129869 N68662 N77433 N90...       3  \n",
       "70  N101001 N20055 N65799 N78064 N32131 N86965 N11...       0  "
      ]
     },
     "execution_count": 9,
     "metadata": {},
     "output_type": "execute_result"
    }
   ],
   "source": [
    "interest_behavior_df.head()"
   ]
  },
  {
   "cell_type": "markdown",
   "id": "b592da25",
   "metadata": {},
   "source": [
    "### reading distribution"
   ]
  },
  {
   "cell_type": "code",
   "execution_count": 10,
   "id": "234c3a9b",
   "metadata": {},
   "outputs": [
    {
     "name": "stderr",
     "output_type": "stream",
     "text": [
      "/Users/qin/.pyenv/versions/3.6.8/envs/test-env-3.6.8/lib/python3.6/site-packages/sklearn/base.py:315: UserWarning: Trying to unpickle estimator KMeans from version 0.22.2.post1 when using version 0.24.1. This might lead to breaking code or invalid results. Use at your own risk.\n",
      "  UserWarning)\n"
     ]
    }
   ],
   "source": [
    "\n",
    "with open(kmeans_path, 'rb') as f:\n",
    "    kmeans_model = pickle.load(f)\n",
    "    \n",
    "with open(nid2category_path, 'rb') as f:\n",
    "    nid2category = pickle.load(f)\n",
    "\n",
    "with open(category2idx_path, 'rb') as f:\n",
    "    category2idx = pickle.load(f)    \n",
    "    "
   ]
  },
  {
   "cell_type": "code",
   "execution_count": 11,
   "id": "cfe05e10",
   "metadata": {},
   "outputs": [],
   "source": [
    "def convert_vector(history, nid2category, name2idx):\n",
    "    category_vec = np.zeros(len(name2idx))\n",
    "    for nid in history.split():\n",
    "        category_vec[name2idx[nid2category[nid]]] += 1.0\n",
    "    return category_vec"
   ]
  },
  {
   "cell_type": "code",
   "execution_count": 12,
   "id": "58a64369",
   "metadata": {},
   "outputs": [],
   "source": [
    "\n",
    "\n",
    "category_vec_col = interest_behavior_df.apply(lambda x: convert_vector(x['history'], nid2category, category2idx), axis=1)\n",
    "\n",
    "\n"
   ]
  },
  {
   "cell_type": "code",
   "execution_count": 13,
   "id": "fb1fc429",
   "metadata": {},
   "outputs": [
    {
     "data": {
      "text/plain": [
       "(20000,)"
      ]
     },
     "execution_count": 13,
     "metadata": {},
     "output_type": "execute_result"
    }
   ],
   "source": [
    "category_vec_col.shape"
   ]
  },
  {
   "cell_type": "code",
   "execution_count": 14,
   "id": "4e75676d",
   "metadata": {},
   "outputs": [
    {
     "data": {
      "text/plain": [
       "array([0., 3., 2., 1., 0., 1., 0., 1., 0., 5., 0., 1., 0., 0., 0., 0., 0.])"
      ]
     },
     "execution_count": 14,
     "metadata": {},
     "output_type": "execute_result"
    }
   ],
   "source": [
    "category_vec_col[0]"
   ]
  },
  {
   "cell_type": "code",
   "execution_count": 15,
   "id": "ae32812f",
   "metadata": {},
   "outputs": [
    {
     "name": "stderr",
     "output_type": "stream",
     "text": [
      "/Users/qin/.pyenv/versions/3.6.8/envs/test-env-3.6.8/lib/python3.6/site-packages/ipykernel_launcher.py:1: SettingWithCopyWarning: \n",
      "A value is trying to be set on a copy of a slice from a DataFrame.\n",
      "Try using .loc[row_indexer,col_indexer] = value instead\n",
      "\n",
      "See the caveats in the documentation: https://pandas.pydata.org/pandas-docs/stable/user_guide/indexing.html#returning-a-view-versus-a-copy\n",
      "  \"\"\"Entry point for launching an IPython kernel.\n"
     ]
    }
   ],
   "source": [
    "\n",
    "interest_behavior_df['category_num_col'] = category_vec_col\n",
    "\n"
   ]
  },
  {
   "cell_type": "code",
   "execution_count": 16,
   "id": "06272b3b",
   "metadata": {},
   "outputs": [],
   "source": [
    "label_info_dict = {\n",
    "     l: interest_behavior_df[interest_behavior_df['labels'] == l]['category_num_col'].mean() for l in range(5)\n",
    "}"
   ]
  },
  {
   "cell_type": "code",
   "execution_count": 17,
   "id": "1828c896",
   "metadata": {},
   "outputs": [
    {
     "data": {
      "text/plain": [
       "{0: array([1.27975e+00, 1.70100e+00, 7.05500e-01, 3.66750e-01, 2.30000e-01,\n",
       "        7.23000e-01, 9.96250e-01, 1.23175e+00, 1.68000e-01, 4.53500e-01,\n",
       "        1.86125e+00, 4.99500e-01, 4.23000e-01, 3.70750e-01, 0.00000e+00,\n",
       "        2.50000e-04, 0.00000e+00]),\n",
       " 1: array([0.63075, 2.0755 , 1.1315 , 0.7555 , 0.13325, 0.90025, 0.368  ,\n",
       "        0.216  , 0.1645 , 0.206  , 0.5045 , 3.25625, 0.79375, 0.73825,\n",
       "        0.     , 0.     , 0.     ]),\n",
       " 2: array([0.85075, 2.1625 , 3.81025, 0.655  , 0.16075, 0.66025, 0.51425,\n",
       "        0.21025, 0.22   , 0.3165 , 0.61075, 0.88075, 0.54625, 0.5505 ,\n",
       "        0.     , 0.     , 0.     ]),\n",
       " 3: array([4.99250e-01, 7.81025e+00, 9.61750e-01, 2.99500e-01, 2.33250e-01,\n",
       "        1.48500e+00, 3.72500e-01, 4.25000e-01, 2.56000e-01, 3.15000e-01,\n",
       "        1.12800e+00, 9.18500e-01, 4.61000e-01, 4.58250e-01, 2.50000e-04,\n",
       "        2.50000e-04, 0.00000e+00]),\n",
       " 4: array([0.4115 , 3.095  , 0.703  , 0.3095 , 0.18075, 6.60025, 0.32625,\n",
       "        0.414  , 0.1665 , 0.24375, 0.88675, 0.97225, 0.5085 , 0.485  ,\n",
       "        0.     , 0.     , 0.     ])}"
      ]
     },
     "execution_count": 17,
     "metadata": {},
     "output_type": "execute_result"
    }
   ],
   "source": [
    "label_info_dict"
   ]
  },
  {
   "cell_type": "code",
   "execution_count": 18,
   "id": "cdd4ea41",
   "metadata": {},
   "outputs": [
    {
     "data": {
      "text/plain": [
       "17"
      ]
     },
     "execution_count": 18,
     "metadata": {},
     "output_type": "execute_result"
    }
   ],
   "source": [
    "label_info_dict[0].shape[0]"
   ]
  },
  {
   "cell_type": "code",
   "execution_count": 19,
   "id": "2f1a389a",
   "metadata": {},
   "outputs": [
    {
     "data": {
      "image/png": "[encoded data removed]",
      "text/plain": [
       "<Figure size 432x288 with 5 Axes>"
      ]
     },
     "metadata": {
      "needs_background": "light"
     },
     "output_type": "display_data"
    }
   ],
   "source": [
    "\n",
    "\n",
    "fig, axs = plt.subplots(5, sharex=True, sharey=True)\n",
    "# fig.suptitle('Sharing both axes')\n",
    "x = np.arange(17)\n",
    "axs[0].bar(x, label_info_dict[0])\n",
    "axs[0].set_title('Interest 1', loc='right', y=0.55, x=1)\n",
    "axs[1].bar(x, label_info_dict[1])\n",
    "axs[1].set_title('Interest 2', loc='right', y=0.55, x=1)\n",
    "axs[2].bar(x, label_info_dict[2])\n",
    "axs[2].set_title('Interest 3', loc='right', y=0.55, x=1)\n",
    "axs[3].bar(x, label_info_dict[3])\n",
    "axs[3].set_title('Interest 4', loc='right', y=0.55, x=1)\n",
    "axs[4].bar(x, label_info_dict[4])\n",
    "axs[4].set_title('Interest 5', loc='right', y=0.55, x=1)\n",
    "\n",
    "plt.xticks(x, category2idx.keys(), rotation=90, fontsize=12)\n",
    "plt.ylabel('Average number of reading', y=2.5, fontweight='bold', fontsize=12)\n",
    "plt.savefig(f'pdf/stat_reading_len_center_point.pdf', bbox_inches='tight')\n"
   ]
  },
  {
   "cell_type": "markdown",
   "id": "374561f1",
   "metadata": {},
   "source": [
    "### TSNE"
   ]
  },
  {
   "cell_type": "code",
   "execution_count": 20,
   "id": "c7f0267d",
   "metadata": {},
   "outputs": [],
   "source": [
    "with open('/Users/qin/2022/NewsRec/temp/interests_20000_tsne.pkl', 'rb') as f:\n",
    "    X_embedded = pickle.load(f)"
   ]
  },
  {
   "cell_type": "code",
   "execution_count": 21,
   "id": "bfda135e",
   "metadata": {},
   "outputs": [
    {
     "name": "stderr",
     "output_type": "stream",
     "text": [
      "/Users/qin/.pyenv/versions/3.6.8/envs/test-env-3.6.8/lib/python3.6/site-packages/ipykernel_launcher.py:1: SettingWithCopyWarning: \n",
      "A value is trying to be set on a copy of a slice from a DataFrame.\n",
      "Try using .loc[row_indexer,col_indexer] = value instead\n",
      "\n",
      "See the caveats in the documentation: https://pandas.pydata.org/pandas-docs/stable/user_guide/indexing.html#returning-a-view-versus-a-copy\n",
      "  \"\"\"Entry point for launching an IPython kernel.\n"
     ]
    }
   ],
   "source": [
    "interest_behavior_df['x1'] = X_embedded[:, 0]"
   ]
  },
  {
   "cell_type": "code",
   "execution_count": 22,
   "id": "6a9ffb23",
   "metadata": {},
   "outputs": [
    {
     "name": "stderr",
     "output_type": "stream",
     "text": [
      "/Users/qin/.pyenv/versions/3.6.8/envs/test-env-3.6.8/lib/python3.6/site-packages/ipykernel_launcher.py:1: SettingWithCopyWarning: \n",
      "A value is trying to be set on a copy of a slice from a DataFrame.\n",
      "Try using .loc[row_indexer,col_indexer] = value instead\n",
      "\n",
      "See the caveats in the documentation: https://pandas.pydata.org/pandas-docs/stable/user_guide/indexing.html#returning-a-view-versus-a-copy\n",
      "  \"\"\"Entry point for launching an IPython kernel.\n"
     ]
    }
   ],
   "source": [
    "interest_behavior_df['x2'] = X_embedded[:, 1]"
   ]
  },
  {
   "cell_type": "code",
   "execution_count": 23,
   "id": "0a942e44",
   "metadata": {},
   "outputs": [
    {
     "data": {
      "text/html": [
       "<div>\n",
       "<style scoped>\n",
       "    .dataframe tbody tr th:only-of-type {\n",
       "        vertical-align: middle;\n",
       "    }\n",
       "\n",
       "    .dataframe tbody tr th {\n",
       "        vertical-align: top;\n",
       "    }\n",
       "\n",
       "    .dataframe thead th {\n",
       "        text-align: right;\n",
       "    }\n",
       "</style>\n",
       "<table border=\"1\" class=\"dataframe\">\n",
       "  <thead>\n",
       "    <tr style=\"text-align: right;\">\n",
       "      <th></th>\n",
       "      <th>idx</th>\n",
       "      <th>uid</th>\n",
       "      <th>date</th>\n",
       "      <th>history</th>\n",
       "      <th>impression</th>\n",
       "      <th>labels</th>\n",
       "      <th>category_num_col</th>\n",
       "      <th>x1</th>\n",
       "      <th>x2</th>\n",
       "    </tr>\n",
       "  </thead>\n",
       "  <tbody>\n",
       "    <tr>\n",
       "      <th>0</th>\n",
       "      <td>2</td>\n",
       "      <td>U231077</td>\n",
       "      <td>11/19/2019 5:28:08 AM</td>\n",
       "      <td>N45124 N84730 N45128 N104312 N70022 N99111 N26...</td>\n",
       "      <td>N14657 N51253 N49521 N126571 N74286 N101071 N1...</td>\n",
       "      <td>2</td>\n",
       "      <td>[0.0, 3.0, 2.0, 1.0, 0.0, 1.0, 0.0, 1.0, 0.0, ...</td>\n",
       "      <td>-6.487731</td>\n",
       "      <td>1.730792</td>\n",
       "    </tr>\n",
       "    <tr>\n",
       "      <th>6</th>\n",
       "      <td>17</td>\n",
       "      <td>U36211</td>\n",
       "      <td>11/22/2019 11:09:00 PM</td>\n",
       "      <td>N65259 N81692 N11397 N76677 N24701 N5287 N1236...</td>\n",
       "      <td>N92450 N111382 N32454 N101867 N103387 N84276 N...</td>\n",
       "      <td>2</td>\n",
       "      <td>[0.0, 2.0, 3.0, 0.0, 1.0, 0.0, 0.0, 0.0, 0.0, ...</td>\n",
       "      <td>-53.718887</td>\n",
       "      <td>-29.801043</td>\n",
       "    </tr>\n",
       "    <tr>\n",
       "      <th>23</th>\n",
       "      <td>77</td>\n",
       "      <td>U363463</td>\n",
       "      <td>11/22/2019 5:04:54 PM</td>\n",
       "      <td>N38014 N85659 N65119 N14240 N52405 N83253 N112...</td>\n",
       "      <td>N115848 N124107 N22832 N94108 N106421 N103387 ...</td>\n",
       "      <td>0</td>\n",
       "      <td>[10.0, 8.0, 2.0, 1.0, 0.0, 1.0, 1.0, 0.0, 0.0,...</td>\n",
       "      <td>-51.752232</td>\n",
       "      <td>21.710484</td>\n",
       "    </tr>\n",
       "    <tr>\n",
       "      <th>41</th>\n",
       "      <td>134</td>\n",
       "      <td>U192357</td>\n",
       "      <td>11/17/2019 5:36:16 AM</td>\n",
       "      <td>N61319 N73122 N51893 N79285 N73120 N92079 N722...</td>\n",
       "      <td>N35994 N33607 N54666 N129869 N68662 N77433 N90...</td>\n",
       "      <td>3</td>\n",
       "      <td>[0.0, 8.0, 2.0, 0.0, 1.0, 1.0, 0.0, 4.0, 0.0, ...</td>\n",
       "      <td>14.031358</td>\n",
       "      <td>40.329384</td>\n",
       "    </tr>\n",
       "    <tr>\n",
       "      <th>70</th>\n",
       "      <td>208</td>\n",
       "      <td>U729867</td>\n",
       "      <td>11/18/2019 12:55:10 PM</td>\n",
       "      <td>N48215 N25197 N3948 N107555 N113328 N91865</td>\n",
       "      <td>N101001 N20055 N65799 N78064 N32131 N86965 N11...</td>\n",
       "      <td>0</td>\n",
       "      <td>[1.0, 1.0, 1.0, 0.0, 0.0, 0.0, 0.0, 3.0, 0.0, ...</td>\n",
       "      <td>29.542845</td>\n",
       "      <td>33.331688</td>\n",
       "    </tr>\n",
       "  </tbody>\n",
       "</table>\n",
       "</div>"
      ],
      "text/plain": [
       "    idx      uid                    date  \\\n",
       "0     2  U231077   11/19/2019 5:28:08 AM   \n",
       "6    17   U36211  11/22/2019 11:09:00 PM   \n",
       "23   77  U363463   11/22/2019 5:04:54 PM   \n",
       "41  134  U192357   11/17/2019 5:36:16 AM   \n",
       "70  208  U729867  11/18/2019 12:55:10 PM   \n",
       "\n",
       "                                              history  \\\n",
       "0   N45124 N84730 N45128 N104312 N70022 N99111 N26...   \n",
       "6   N65259 N81692 N11397 N76677 N24701 N5287 N1236...   \n",
       "23  N38014 N85659 N65119 N14240 N52405 N83253 N112...   \n",
       "41  N61319 N73122 N51893 N79285 N73120 N92079 N722...   \n",
       "70         N48215 N25197 N3948 N107555 N113328 N91865   \n",
       "\n",
       "                                           impression  labels  \\\n",
       "0   N14657 N51253 N49521 N126571 N74286 N101071 N1...       2   \n",
       "6   N92450 N111382 N32454 N101867 N103387 N84276 N...       2   \n",
       "23  N115848 N124107 N22832 N94108 N106421 N103387 ...       0   \n",
       "41  N35994 N33607 N54666 N129869 N68662 N77433 N90...       3   \n",
       "70  N101001 N20055 N65799 N78064 N32131 N86965 N11...       0   \n",
       "\n",
       "                                     category_num_col         x1         x2  \n",
       "0   [0.0, 3.0, 2.0, 1.0, 0.0, 1.0, 0.0, 1.0, 0.0, ...  -6.487731   1.730792  \n",
       "6   [0.0, 2.0, 3.0, 0.0, 1.0, 0.0, 0.0, 0.0, 0.0, ... -53.718887 -29.801043  \n",
       "23  [10.0, 8.0, 2.0, 1.0, 0.0, 1.0, 1.0, 0.0, 0.0,... -51.752232  21.710484  \n",
       "41  [0.0, 8.0, 2.0, 0.0, 1.0, 1.0, 0.0, 4.0, 0.0, ...  14.031358  40.329384  \n",
       "70  [1.0, 1.0, 1.0, 0.0, 0.0, 0.0, 0.0, 3.0, 0.0, ...  29.542845  33.331688  "
      ]
     },
     "execution_count": 23,
     "metadata": {},
     "output_type": "execute_result"
    }
   ],
   "source": [
    "interest_behavior_df.head()"
   ]
  },
  {
   "cell_type": "code",
   "execution_count": 24,
   "id": "4ba15687",
   "metadata": {},
   "outputs": [
    {
     "data": {
      "image/png": "[encoded data removed]",
      "text/plain": [
       "<Figure size 432x288 with 1 Axes>"
      ]
     },
     "metadata": {},
     "output_type": "display_data"
    }
   ],
   "source": [
    "# maker = ['o', 'v', 's', 'D', 'H']\n",
    "# colors = ['red', 'white', 'white', 'white', 'white']\n",
    "labels = ['1', '2', '3', '4', '5']\n",
    "for idx, l in enumerate(range(5)):\n",
    "    x1 = interest_behavior_df.loc[interest_behavior_df['labels'] == l]['x1']\n",
    "    x2 = interest_behavior_df.loc[interest_behavior_df['labels'] == l]['x2']\n",
    "#     plt.scatter(x1, x2, marker=maker[idx], edgecolors=colors[idx], alpha=0.4)\n",
    "    plt.scatter(x1, x2, alpha=0.6)\n",
    "\n",
    "plt.xticks([])\n",
    "plt.yticks([])\n",
    "plt.xlabel('X1', fontweight='bold', fontsize=12)\n",
    "plt.ylabel('X2', fontweight='bold', fontsize=12)\n",
    "plt.legend(labels=labels)\n",
    "plt.savefig(f'pdf/user_group_interest_tsne.pdf')"
   ]
  }
 ],
 "metadata": {
  "kernelspec": {
   "display_name": "Python 3",
   "language": "python",
   "name": "python3"
  },
  "language_info": {
   "codemirror_mode": {
    "name": "ipython",
    "version": 3
   },
   "file_extension": ".py",
   "mimetype": "text/x-python",
   "name": "python",
   "nbconvert_exporter": "python",
   "pygments_lexer": "ipython3",
   "version": "3.6.8"
  }
 },
 "nbformat": 4,
 "nbformat_minor": 5
}
