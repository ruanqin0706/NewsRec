{
 "cells": [
  {
   "cell_type": "code",
   "execution_count": 1,
   "id": "c1b69efa",
   "metadata": {},
   "outputs": [
    {
     "data": {
      "text/plain": [
       "<Figure size 864x540 with 0 Axes>"
      ]
     },
     "execution_count": 1,
     "metadata": {},
     "output_type": "execute_result"
    },
    {
     "data": {
      "text/plain": [
       "<Figure size 864x540 with 0 Axes>"
      ]
     },
     "metadata": {},
     "output_type": "display_data"
    }
   ],
   "source": [
    "import os\n",
    "import pickle\n",
    "import pandas as pd\n",
    "from scipy.stats import mannwhitneyu\n",
    "import matplotlib.pyplot as plt\n",
    "plt.figure(figsize=(12, 7.5))"
   ]
  },
  {
   "cell_type": "code",
   "execution_count": 2,
   "id": "a4f75906",
   "metadata": {},
   "outputs": [],
   "source": [
    "behavior_path = 'data/behaviors_new_with_kmeans_labels.tsv'\n",
    "bias_detection_path = 'data/0929_concat_mind_over_res.csv'\n"
   ]
  },
  {
   "cell_type": "code",
   "execution_count": 3,
   "id": "06dd62f9",
   "metadata": {},
   "outputs": [],
   "source": [
    "\n",
    "# 加载用户候选集\n",
    "behavior_df = pd.read_csv(behavior_path, sep='\\t', header=None)\n",
    "behavior_df.columns = ['idx', 'uid', 'date', 'history', 'impression', 'labels']\n"
   ]
  },
  {
   "cell_type": "code",
   "execution_count": 4,
   "id": "ccf3d01e",
   "metadata": {},
   "outputs": [
    {
     "data": {
      "text/html": [
       "<div>\n",
       "<style scoped>\n",
       "    .dataframe tbody tr th:only-of-type {\n",
       "        vertical-align: middle;\n",
       "    }\n",
       "\n",
       "    .dataframe tbody tr th {\n",
       "        vertical-align: top;\n",
       "    }\n",
       "\n",
       "    .dataframe thead th {\n",
       "        text-align: right;\n",
       "    }\n",
       "</style>\n",
       "<table border=\"1\" class=\"dataframe\">\n",
       "  <thead>\n",
       "    <tr style=\"text-align: right;\">\n",
       "      <th></th>\n",
       "      <th>idx</th>\n",
       "      <th>uid</th>\n",
       "      <th>date</th>\n",
       "      <th>history</th>\n",
       "      <th>impression</th>\n",
       "      <th>labels</th>\n",
       "    </tr>\n",
       "  </thead>\n",
       "  <tbody>\n",
       "    <tr>\n",
       "      <th>0</th>\n",
       "      <td>2</td>\n",
       "      <td>U231077</td>\n",
       "      <td>11/19/2019 5:28:08 AM</td>\n",
       "      <td>N45124 N84730 N45128 N104312 N70022 N99111 N26...</td>\n",
       "      <td>N14657 N51253 N49521 N126571 N74286 N101071 N1...</td>\n",
       "      <td>2</td>\n",
       "    </tr>\n",
       "    <tr>\n",
       "      <th>1</th>\n",
       "      <td>4</td>\n",
       "      <td>U320649</td>\n",
       "      <td>11/21/2019 6:03:51 AM</td>\n",
       "      <td>N110863 N7889 N86335 N85056 N115743 N63372 N19...</td>\n",
       "      <td>N119559 N37657 N108085 N91287 N39136 N130190 N...</td>\n",
       "      <td>3</td>\n",
       "    </tr>\n",
       "    <tr>\n",
       "      <th>2</th>\n",
       "      <td>7</td>\n",
       "      <td>U593249</td>\n",
       "      <td>11/21/2019 10:26:28 AM</td>\n",
       "      <td>N130269 N110630 N127780 N103724 N88400 N57296 ...</td>\n",
       "      <td>N40488 N69116 N47516</td>\n",
       "      <td>3</td>\n",
       "    </tr>\n",
       "    <tr>\n",
       "      <th>3</th>\n",
       "      <td>9</td>\n",
       "      <td>U394469</td>\n",
       "      <td>11/18/2019 9:21:22 AM</td>\n",
       "      <td>N58992 N109724 N79285 N53198 N121550 N28461 N5...</td>\n",
       "      <td>N55737 N31058 N21387 N111735 N78312 N60321 N12...</td>\n",
       "      <td>3</td>\n",
       "    </tr>\n",
       "    <tr>\n",
       "      <th>4</th>\n",
       "      <td>14</td>\n",
       "      <td>U44514</td>\n",
       "      <td>11/19/2019 11:45:01 AM</td>\n",
       "      <td>N60061 N124453 N95072 N90578 N80545 N16463 N36...</td>\n",
       "      <td>N2296 N62785 N15647 N16531 N101071 N54103 N646...</td>\n",
       "      <td>4</td>\n",
       "    </tr>\n",
       "  </tbody>\n",
       "</table>\n",
       "</div>"
      ],
      "text/plain": [
       "   idx      uid                    date  \\\n",
       "0    2  U231077   11/19/2019 5:28:08 AM   \n",
       "1    4  U320649   11/21/2019 6:03:51 AM   \n",
       "2    7  U593249  11/21/2019 10:26:28 AM   \n",
       "3    9  U394469   11/18/2019 9:21:22 AM   \n",
       "4   14   U44514  11/19/2019 11:45:01 AM   \n",
       "\n",
       "                                             history  \\\n",
       "0  N45124 N84730 N45128 N104312 N70022 N99111 N26...   \n",
       "1  N110863 N7889 N86335 N85056 N115743 N63372 N19...   \n",
       "2  N130269 N110630 N127780 N103724 N88400 N57296 ...   \n",
       "3  N58992 N109724 N79285 N53198 N121550 N28461 N5...   \n",
       "4  N60061 N124453 N95072 N90578 N80545 N16463 N36...   \n",
       "\n",
       "                                          impression  labels  \n",
       "0  N14657 N51253 N49521 N126571 N74286 N101071 N1...       2  \n",
       "1  N119559 N37657 N108085 N91287 N39136 N130190 N...       3  \n",
       "2                               N40488 N69116 N47516       3  \n",
       "3  N55737 N31058 N21387 N111735 N78312 N60321 N12...       3  \n",
       "4  N2296 N62785 N15647 N16531 N101071 N54103 N646...       4  "
      ]
     },
     "execution_count": 4,
     "metadata": {},
     "output_type": "execute_result"
    }
   ],
   "source": [
    "behavior_df.head()"
   ]
  },
  {
   "cell_type": "markdown",
   "id": "79582764",
   "metadata": {},
   "source": [
    "### Step 3: Filter some browsing records that are too short"
   ]
  },
  {
   "cell_type": "code",
   "execution_count": 5,
   "id": "f251a594",
   "metadata": {},
   "outputs": [],
   "source": [
    "def filter_by_length(history, min_len=5):\n",
    "    if len(history.split()) < min_len:\n",
    "        return False\n",
    "    else:\n",
    "        return True"
   ]
  },
  {
   "cell_type": "code",
   "execution_count": 6,
   "id": "806148f6",
   "metadata": {},
   "outputs": [],
   "source": [
    "len_boolean = behavior_df.apply(lambda x: filter_by_length(x['history'], min_len=5), axis=1)"
   ]
  },
  {
   "cell_type": "code",
   "execution_count": 7,
   "id": "c410803e",
   "metadata": {},
   "outputs": [],
   "source": [
    "behavior_df = behavior_df[len_boolean]"
   ]
  },
  {
   "cell_type": "code",
   "execution_count": 8,
   "id": "3fa55f9d",
   "metadata": {},
   "outputs": [
    {
     "data": {
      "text/plain": [
       "(279737, 6)"
      ]
     },
     "execution_count": 8,
     "metadata": {},
     "output_type": "execute_result"
    }
   ],
   "source": [
    "behavior_df.shape"
   ]
  },
  {
   "cell_type": "markdown",
   "id": "322cb2e9",
   "metadata": {},
   "source": [
    "### Step 4: calculate bias proportion for each user"
   ]
  },
  {
   "cell_type": "code",
   "execution_count": 9,
   "id": "fab59db1",
   "metadata": {},
   "outputs": [
    {
     "data": {
      "text/plain": [
       "(122137, 4)"
      ]
     },
     "execution_count": 9,
     "metadata": {},
     "output_type": "execute_result"
    }
   ],
   "source": [
    "bias_detection_df = pd.read_csv(bias_detection_path, header=None, sep='\\t')\n",
    "bias_detection_df.columns = ['nid', 'category', 'sub_category', 'bias_prob']\n",
    "bias_detection_df.shape"
   ]
  },
  {
   "cell_type": "code",
   "execution_count": 10,
   "id": "5582cefd",
   "metadata": {},
   "outputs": [],
   "source": [
    "nid2prob = dict(zip(bias_detection_df['nid'], bias_detection_df['bias_prob']))\n"
   ]
  },
  {
   "cell_type": "code",
   "execution_count": 11,
   "id": "ef6f5c2f",
   "metadata": {},
   "outputs": [],
   "source": [
    "\n",
    "\n",
    "# uid, num_unbiased, num_biased, num_unknown, unbiased_nid_list, biased_nid_list\n",
    "\n",
    "def get_user_info(user_group, news_bias_path):\n",
    "    empty_uids = []\n",
    "    num_miss_uid = 0\n",
    "    uid_list = []\n",
    "    label_list = []\n",
    "    num_unbiased_list = []\n",
    "    num_biased_list = []\n",
    "    num_unknown_list = []\n",
    "    num_total_list = []\n",
    "    total_nid_unbiased_list = []\n",
    "    total_nid_biased_list = []\n",
    "    total_nid_unknown_list = []\n",
    "    \n",
    "    news_bias_df = pd.read_csv(news_bias_path, sep=\"\\t\", header=None)\n",
    "    news_bias_df.columns = ['nid', 'category', 'sub_category', 'bias_prob']\n",
    "    nid2category = news_bias_df.set_index('nid').to_dict()['category']\n",
    "    nid2sub_category = news_bias_df.set_index('nid').to_dict()['sub_category']\n",
    "    nid2bias_prob = news_bias_df.set_index('nid').to_dict()['bias_prob']\n",
    "    \n",
    "    for uid, grouped in user_group:\n",
    "        \n",
    "        try:\n",
    "            num_unbiased = 0\n",
    "            num_biased = 0\n",
    "            num_unknown = 0\n",
    "            nid_biased_list = []\n",
    "            nid_unbiased_list = []\n",
    "            nid_unknown_list = []\n",
    "            \n",
    "            nid_history_list = grouped.iloc[0][\"history\"].split(\" \")\n",
    "            for nid in nid_history_list:\n",
    "                if nid in nid2bias_prob:\n",
    "                    if nid2bias_prob[nid] >= 0.5:\n",
    "                        num_biased += 1\n",
    "                        nid_biased_list.append(nid)\n",
    "                    else:\n",
    "                        num_unbiased += 1\n",
    "                        nid_unbiased_list.append(nid)\n",
    "                else:\n",
    "                    num_unknown += 1\n",
    "                    nid_unknown_list.append(nid)\n",
    "            \n",
    "            uid_list.append(uid)\n",
    "            label_list.append(grouped.iloc[0][\"labels\"])\n",
    "            num_unbiased_list.append(num_unbiased)\n",
    "            num_biased_list.append(num_biased)\n",
    "            num_unknown_list.append(num_unknown)\n",
    "            num_total_list.append(len(nid_history_list))\n",
    "            total_nid_unbiased_list.append(nid_unbiased_list)\n",
    "            total_nid_biased_list.append(nid_biased_list)\n",
    "            total_nid_unknown_list.append(nid_unknown_list)\n",
    "        except:\n",
    "            empty_uids.append(uid)\n",
    "            num_miss_uid += 1\n",
    "            \n",
    "    assert len(empty_uids) == num_miss_uid\n",
    "    user_info_df = pd.DataFrame(\n",
    "        {'uid': uid_list,\n",
    "         'label': label_list,\n",
    "         'num_unbiased': num_unbiased_list,\n",
    "         'num_biased': num_biased_list,\n",
    "         'num_unknown': num_unknown_list,\n",
    "         'num_total': num_total_list,\n",
    "         'total_nid_unbiased': total_nid_unbiased_list,\n",
    "         'total_nid_biased': total_nid_biased_list,\n",
    "         'total_nid_unknown': total_nid_unknown_list,\n",
    "        }\n",
    "    )\n",
    "    \n",
    "    return user_info_df, empty_uids\n",
    "\n"
   ]
  },
  {
   "cell_type": "code",
   "execution_count": 12,
   "id": "56a51e42",
   "metadata": {},
   "outputs": [],
   "source": [
    "user_group = behavior_df.groupby('uid')"
   ]
  },
  {
   "cell_type": "code",
   "execution_count": 13,
   "id": "0db3cbb2",
   "metadata": {},
   "outputs": [],
   "source": [
    "user_info_df, empty_uids = get_user_info(user_group=user_group, \n",
    "                                         news_bias_path=bias_detection_path)"
   ]
  },
  {
   "cell_type": "code",
   "execution_count": 14,
   "id": "2511a559",
   "metadata": {},
   "outputs": [
    {
     "data": {
      "text/html": [
       "<div>\n",
       "<style scoped>\n",
       "    .dataframe tbody tr th:only-of-type {\n",
       "        vertical-align: middle;\n",
       "    }\n",
       "\n",
       "    .dataframe tbody tr th {\n",
       "        vertical-align: top;\n",
       "    }\n",
       "\n",
       "    .dataframe thead th {\n",
       "        text-align: right;\n",
       "    }\n",
       "</style>\n",
       "<table border=\"1\" class=\"dataframe\">\n",
       "  <thead>\n",
       "    <tr style=\"text-align: right;\">\n",
       "      <th></th>\n",
       "      <th>uid</th>\n",
       "      <th>label</th>\n",
       "      <th>num_unbiased</th>\n",
       "      <th>num_biased</th>\n",
       "      <th>num_unknown</th>\n",
       "      <th>num_total</th>\n",
       "      <th>total_nid_unbiased</th>\n",
       "      <th>total_nid_biased</th>\n",
       "      <th>total_nid_unknown</th>\n",
       "    </tr>\n",
       "  </thead>\n",
       "  <tbody>\n",
       "    <tr>\n",
       "      <th>0</th>\n",
       "      <td>U1000</td>\n",
       "      <td>3</td>\n",
       "      <td>9</td>\n",
       "      <td>2</td>\n",
       "      <td>0</td>\n",
       "      <td>11</td>\n",
       "      <td>[N20131, N65823, N65823, N111503, N3992, N1047...</td>\n",
       "      <td>[N33446, N70022]</td>\n",
       "      <td>[]</td>\n",
       "    </tr>\n",
       "    <tr>\n",
       "      <th>1</th>\n",
       "      <td>U100008</td>\n",
       "      <td>4</td>\n",
       "      <td>8</td>\n",
       "      <td>1</td>\n",
       "      <td>0</td>\n",
       "      <td>9</td>\n",
       "      <td>[N85167, N124096, N72980, N6120, N14320, N1196...</td>\n",
       "      <td>[N46329]</td>\n",
       "      <td>[]</td>\n",
       "    </tr>\n",
       "    <tr>\n",
       "      <th>2</th>\n",
       "      <td>U100016</td>\n",
       "      <td>4</td>\n",
       "      <td>8</td>\n",
       "      <td>4</td>\n",
       "      <td>0</td>\n",
       "      <td>12</td>\n",
       "      <td>[N80883, N124796, N89166, N99279, N107732, N70...</td>\n",
       "      <td>[N20915, N79214, N29936, N29044]</td>\n",
       "      <td>[]</td>\n",
       "    </tr>\n",
       "    <tr>\n",
       "      <th>3</th>\n",
       "      <td>U100019</td>\n",
       "      <td>0</td>\n",
       "      <td>16</td>\n",
       "      <td>1</td>\n",
       "      <td>0</td>\n",
       "      <td>17</td>\n",
       "      <td>[N55903, N98238, N109468, N29748, N123353, N73...</td>\n",
       "      <td>[N126000]</td>\n",
       "      <td>[]</td>\n",
       "    </tr>\n",
       "    <tr>\n",
       "      <th>4</th>\n",
       "      <td>U100020</td>\n",
       "      <td>4</td>\n",
       "      <td>5</td>\n",
       "      <td>0</td>\n",
       "      <td>0</td>\n",
       "      <td>5</td>\n",
       "      <td>[N119718, N126611, N127629, N3664, N93856]</td>\n",
       "      <td>[]</td>\n",
       "      <td>[]</td>\n",
       "    </tr>\n",
       "  </tbody>\n",
       "</table>\n",
       "</div>"
      ],
      "text/plain": [
       "       uid  label  num_unbiased  num_biased  num_unknown  num_total  \\\n",
       "0    U1000      3             9           2            0         11   \n",
       "1  U100008      4             8           1            0          9   \n",
       "2  U100016      4             8           4            0         12   \n",
       "3  U100019      0            16           1            0         17   \n",
       "4  U100020      4             5           0            0          5   \n",
       "\n",
       "                                  total_nid_unbiased  \\\n",
       "0  [N20131, N65823, N65823, N111503, N3992, N1047...   \n",
       "1  [N85167, N124096, N72980, N6120, N14320, N1196...   \n",
       "2  [N80883, N124796, N89166, N99279, N107732, N70...   \n",
       "3  [N55903, N98238, N109468, N29748, N123353, N73...   \n",
       "4         [N119718, N126611, N127629, N3664, N93856]   \n",
       "\n",
       "                   total_nid_biased total_nid_unknown  \n",
       "0                  [N33446, N70022]                []  \n",
       "1                          [N46329]                []  \n",
       "2  [N20915, N79214, N29936, N29044]                []  \n",
       "3                         [N126000]                []  \n",
       "4                                []                []  "
      ]
     },
     "execution_count": 14,
     "metadata": {},
     "output_type": "execute_result"
    }
   ],
   "source": [
    "user_info_df.head()"
   ]
  },
  {
   "cell_type": "code",
   "execution_count": 15,
   "id": "c3914afc",
   "metadata": {},
   "outputs": [],
   "source": [
    "user_info_df['bias_prop'] = user_info_df['num_biased'] / user_info_df['num_total']"
   ]
  },
  {
   "cell_type": "code",
   "execution_count": 16,
   "id": "9fbc69a7",
   "metadata": {},
   "outputs": [
    {
     "data": {
      "text/html": [
       "<div>\n",
       "<style scoped>\n",
       "    .dataframe tbody tr th:only-of-type {\n",
       "        vertical-align: middle;\n",
       "    }\n",
       "\n",
       "    .dataframe tbody tr th {\n",
       "        vertical-align: top;\n",
       "    }\n",
       "\n",
       "    .dataframe thead th {\n",
       "        text-align: right;\n",
       "    }\n",
       "</style>\n",
       "<table border=\"1\" class=\"dataframe\">\n",
       "  <thead>\n",
       "    <tr style=\"text-align: right;\">\n",
       "      <th></th>\n",
       "      <th>uid</th>\n",
       "      <th>label</th>\n",
       "      <th>num_unbiased</th>\n",
       "      <th>num_biased</th>\n",
       "      <th>num_unknown</th>\n",
       "      <th>num_total</th>\n",
       "      <th>total_nid_unbiased</th>\n",
       "      <th>total_nid_biased</th>\n",
       "      <th>total_nid_unknown</th>\n",
       "      <th>bias_prop</th>\n",
       "    </tr>\n",
       "  </thead>\n",
       "  <tbody>\n",
       "    <tr>\n",
       "      <th>0</th>\n",
       "      <td>U1000</td>\n",
       "      <td>3</td>\n",
       "      <td>9</td>\n",
       "      <td>2</td>\n",
       "      <td>0</td>\n",
       "      <td>11</td>\n",
       "      <td>[N20131, N65823, N65823, N111503, N3992, N1047...</td>\n",
       "      <td>[N33446, N70022]</td>\n",
       "      <td>[]</td>\n",
       "      <td>0.181818</td>\n",
       "    </tr>\n",
       "    <tr>\n",
       "      <th>1</th>\n",
       "      <td>U100008</td>\n",
       "      <td>4</td>\n",
       "      <td>8</td>\n",
       "      <td>1</td>\n",
       "      <td>0</td>\n",
       "      <td>9</td>\n",
       "      <td>[N85167, N124096, N72980, N6120, N14320, N1196...</td>\n",
       "      <td>[N46329]</td>\n",
       "      <td>[]</td>\n",
       "      <td>0.111111</td>\n",
       "    </tr>\n",
       "    <tr>\n",
       "      <th>2</th>\n",
       "      <td>U100016</td>\n",
       "      <td>4</td>\n",
       "      <td>8</td>\n",
       "      <td>4</td>\n",
       "      <td>0</td>\n",
       "      <td>12</td>\n",
       "      <td>[N80883, N124796, N89166, N99279, N107732, N70...</td>\n",
       "      <td>[N20915, N79214, N29936, N29044]</td>\n",
       "      <td>[]</td>\n",
       "      <td>0.333333</td>\n",
       "    </tr>\n",
       "    <tr>\n",
       "      <th>3</th>\n",
       "      <td>U100019</td>\n",
       "      <td>0</td>\n",
       "      <td>16</td>\n",
       "      <td>1</td>\n",
       "      <td>0</td>\n",
       "      <td>17</td>\n",
       "      <td>[N55903, N98238, N109468, N29748, N123353, N73...</td>\n",
       "      <td>[N126000]</td>\n",
       "      <td>[]</td>\n",
       "      <td>0.058824</td>\n",
       "    </tr>\n",
       "    <tr>\n",
       "      <th>4</th>\n",
       "      <td>U100020</td>\n",
       "      <td>4</td>\n",
       "      <td>5</td>\n",
       "      <td>0</td>\n",
       "      <td>0</td>\n",
       "      <td>5</td>\n",
       "      <td>[N119718, N126611, N127629, N3664, N93856]</td>\n",
       "      <td>[]</td>\n",
       "      <td>[]</td>\n",
       "      <td>0.000000</td>\n",
       "    </tr>\n",
       "  </tbody>\n",
       "</table>\n",
       "</div>"
      ],
      "text/plain": [
       "       uid  label  num_unbiased  num_biased  num_unknown  num_total  \\\n",
       "0    U1000      3             9           2            0         11   \n",
       "1  U100008      4             8           1            0          9   \n",
       "2  U100016      4             8           4            0         12   \n",
       "3  U100019      0            16           1            0         17   \n",
       "4  U100020      4             5           0            0          5   \n",
       "\n",
       "                                  total_nid_unbiased  \\\n",
       "0  [N20131, N65823, N65823, N111503, N3992, N1047...   \n",
       "1  [N85167, N124096, N72980, N6120, N14320, N1196...   \n",
       "2  [N80883, N124796, N89166, N99279, N107732, N70...   \n",
       "3  [N55903, N98238, N109468, N29748, N123353, N73...   \n",
       "4         [N119718, N126611, N127629, N3664, N93856]   \n",
       "\n",
       "                   total_nid_biased total_nid_unknown  bias_prop  \n",
       "0                  [N33446, N70022]                []   0.181818  \n",
       "1                          [N46329]                []   0.111111  \n",
       "2  [N20915, N79214, N29936, N29044]                []   0.333333  \n",
       "3                         [N126000]                []   0.058824  \n",
       "4                                []                []   0.000000  "
      ]
     },
     "execution_count": 16,
     "metadata": {},
     "output_type": "execute_result"
    }
   ],
   "source": [
    "user_info_df.head()"
   ]
  },
  {
   "cell_type": "code",
   "execution_count": 17,
   "id": "58c08ae1",
   "metadata": {},
   "outputs": [
    {
     "data": {
      "text/plain": [
       "(279737, 10)"
      ]
     },
     "execution_count": 17,
     "metadata": {},
     "output_type": "execute_result"
    }
   ],
   "source": [
    "user_info_df.shape"
   ]
  },
  {
   "cell_type": "code",
   "execution_count": 18,
   "id": "2ee2ffa6",
   "metadata": {},
   "outputs": [
    {
     "data": {
      "text/plain": [
       "(26956, 10)"
      ]
     },
     "execution_count": 18,
     "metadata": {},
     "output_type": "execute_result"
    }
   ],
   "source": [
    "\n",
    "user_df_0 = user_info_df[user_info_df['label'] == 0]\n",
    "user_df_0.shape"
   ]
  },
  {
   "cell_type": "code",
   "execution_count": 19,
   "id": "33580713",
   "metadata": {},
   "outputs": [
    {
     "data": {
      "text/plain": [
       "0.17138035201175789"
      ]
     },
     "execution_count": 19,
     "metadata": {},
     "output_type": "execute_result"
    }
   ],
   "source": [
    "user_df_0['bias_prop'].mean()"
   ]
  },
  {
   "cell_type": "code",
   "execution_count": 20,
   "id": "5fc79e7a",
   "metadata": {},
   "outputs": [
    {
     "data": {
      "text/plain": [
       "(31926, 10)"
      ]
     },
     "execution_count": 20,
     "metadata": {},
     "output_type": "execute_result"
    }
   ],
   "source": [
    "\n",
    "user_df_1 = user_info_df[user_info_df['label'] == 1]\n",
    "user_df_1.shape\n"
   ]
  },
  {
   "cell_type": "code",
   "execution_count": 21,
   "id": "758e81ac",
   "metadata": {},
   "outputs": [
    {
     "data": {
      "text/plain": [
       "0.08808627629510966"
      ]
     },
     "execution_count": 21,
     "metadata": {},
     "output_type": "execute_result"
    }
   ],
   "source": [
    "user_df_1['bias_prop'].mean()"
   ]
  },
  {
   "cell_type": "code",
   "execution_count": 22,
   "id": "6d43a0fb",
   "metadata": {},
   "outputs": [
    {
     "data": {
      "text/plain": [
       "(26657, 10)"
      ]
     },
     "execution_count": 22,
     "metadata": {},
     "output_type": "execute_result"
    }
   ],
   "source": [
    "\n",
    "user_df_2 = user_info_df[user_info_df['label'] == 2]\n",
    "user_df_2.shape\n"
   ]
  },
  {
   "cell_type": "code",
   "execution_count": 23,
   "id": "3f4e42fe",
   "metadata": {},
   "outputs": [
    {
     "data": {
      "text/plain": [
       "0.11331830679450383"
      ]
     },
     "execution_count": 23,
     "metadata": {},
     "output_type": "execute_result"
    }
   ],
   "source": [
    "user_df_2['bias_prop'].mean()"
   ]
  },
  {
   "cell_type": "code",
   "execution_count": 24,
   "id": "f06a80c4",
   "metadata": {},
   "outputs": [
    {
     "data": {
      "text/plain": [
       "(125154, 10)"
      ]
     },
     "execution_count": 24,
     "metadata": {},
     "output_type": "execute_result"
    }
   ],
   "source": [
    "\n",
    "user_df_3 = user_info_df[user_info_df['label'] == 3]\n",
    "user_df_3.shape\n"
   ]
  },
  {
   "cell_type": "code",
   "execution_count": 25,
   "id": "1dbaf36c",
   "metadata": {},
   "outputs": [
    {
     "data": {
      "text/plain": [
       "0.11492564781471797"
      ]
     },
     "execution_count": 25,
     "metadata": {},
     "output_type": "execute_result"
    }
   ],
   "source": [
    "user_df_3['bias_prop'].mean()"
   ]
  },
  {
   "cell_type": "code",
   "execution_count": 26,
   "id": "f56458e7",
   "metadata": {},
   "outputs": [
    {
     "data": {
      "text/plain": [
       "(69044, 10)"
      ]
     },
     "execution_count": 26,
     "metadata": {},
     "output_type": "execute_result"
    }
   ],
   "source": [
    "\n",
    "user_df_4 = user_info_df[user_info_df['label'] == 4]\n",
    "user_df_4.shape\n"
   ]
  },
  {
   "cell_type": "code",
   "execution_count": 27,
   "id": "2db95bb6",
   "metadata": {},
   "outputs": [
    {
     "data": {
      "text/plain": [
       "0.14144675058899484"
      ]
     },
     "execution_count": 27,
     "metadata": {},
     "output_type": "execute_result"
    }
   ],
   "source": [
    "user_df_4['bias_prop'].mean()"
   ]
  },
  {
   "cell_type": "code",
   "execution_count": 28,
   "id": "ff99b289",
   "metadata": {},
   "outputs": [],
   "source": [
    "\n",
    "interest_intervals = {\n",
    "    'Interest 1': 26956,\n",
    "    'Interest 2': 31926,\n",
    "    'Interest 3': 26657,\n",
    "    'Interest 4': 125154,\n",
    "    'Interest 5': 69044,\n",
    "}\n",
    "\n",
    "\n",
    "\n"
   ]
  },
  {
   "cell_type": "code",
   "execution_count": 29,
   "id": "227509f6",
   "metadata": {},
   "outputs": [
    {
     "data": {
      "text/plain": [
       "(0.17138035201175789,\n",
       " 0.08808627629510966,\n",
       " 0.11331830679450383,\n",
       " 0.11492564781471797,\n",
       " 0.14144675058899484)"
      ]
     },
     "execution_count": 29,
     "metadata": {},
     "output_type": "execute_result"
    }
   ],
   "source": [
    "\n",
    "user_df_0['bias_prop'].mean(), user_df_1['bias_prop'].mean(), user_df_2['bias_prop'].mean(), user_df_3['bias_prop'].mean(), user_df_4['bias_prop'].mean(), \n",
    "\n",
    "\n"
   ]
  },
  {
   "cell_type": "code",
   "execution_count": 30,
   "id": "f09d7e57",
   "metadata": {},
   "outputs": [
    {
     "data": {
      "text/plain": [
       "<AxesSubplot:ylabel='Frequency'>"
      ]
     },
     "execution_count": 30,
     "metadata": {},
     "output_type": "execute_result"
    },
    {
     "data": {
      "image/png": "[encoded data removed]",
      "text/plain": [
       "<Figure size 432x288 with 1 Axes>"
      ]
     },
     "metadata": {
      "needs_background": "light"
     },
     "output_type": "display_data"
    }
   ],
   "source": [
    "\n",
    "user_df_0['bias_prop'].plot.hist()\n",
    "\n"
   ]
  },
  {
   "cell_type": "code",
   "execution_count": 31,
   "id": "ce6ade25",
   "metadata": {},
   "outputs": [
    {
     "data": {
      "text/plain": [
       "<AxesSubplot:ylabel='Frequency'>"
      ]
     },
     "execution_count": 31,
     "metadata": {},
     "output_type": "execute_result"
    },
    {
     "data": {
      "image/png": "[encoded data removed]",
      "text/plain": [
       "<Figure size 432x288 with 1 Axes>"
      ]
     },
     "metadata": {
      "needs_background": "light"
     },
     "output_type": "display_data"
    }
   ],
   "source": [
    "\n",
    "user_df_1['bias_prop'].plot.hist()\n"
   ]
  },
  {
   "cell_type": "code",
   "execution_count": 32,
   "id": "965c2dae",
   "metadata": {},
   "outputs": [
    {
     "data": {
      "text/plain": [
       "<AxesSubplot:ylabel='Frequency'>"
      ]
     },
     "execution_count": 32,
     "metadata": {},
     "output_type": "execute_result"
    },
    {
     "data": {
      "image/png": "[encoded data removed]",
      "text/plain": [
       "<Figure size 432x288 with 1 Axes>"
      ]
     },
     "metadata": {
      "needs_background": "light"
     },
     "output_type": "display_data"
    }
   ],
   "source": [
    "\n",
    "user_df_2['bias_prop'].plot.hist()\n"
   ]
  },
  {
   "cell_type": "code",
   "execution_count": 33,
   "id": "de9dec46",
   "metadata": {},
   "outputs": [
    {
     "data": {
      "text/plain": [
       "<AxesSubplot:ylabel='Frequency'>"
      ]
     },
     "execution_count": 33,
     "metadata": {},
     "output_type": "execute_result"
    },
    {
     "data": {
      "image/png": "[encoded data removed]",
      "text/plain": [
       "<Figure size 432x288 with 1 Axes>"
      ]
     },
     "metadata": {
      "needs_background": "light"
     },
     "output_type": "display_data"
    }
   ],
   "source": [
    "\n",
    "user_df_3['bias_prop'].plot.hist()\n"
   ]
  },
  {
   "cell_type": "code",
   "execution_count": 34,
   "id": "5bbf9481",
   "metadata": {},
   "outputs": [
    {
     "data": {
      "text/plain": [
       "<AxesSubplot:ylabel='Frequency'>"
      ]
     },
     "execution_count": 34,
     "metadata": {},
     "output_type": "execute_result"
    },
    {
     "data": {
      "image/png": "[encoded data removed]",
      "text/plain": [
       "<Figure size 432x288 with 1 Axes>"
      ]
     },
     "metadata": {
      "needs_background": "light"
     },
     "output_type": "display_data"
    }
   ],
   "source": [
    "\n",
    "user_df_4['bias_prop'].plot.hist()\n"
   ]
  },
  {
   "cell_type": "code",
   "execution_count": 30,
   "id": "5f5c84f8",
   "metadata": {},
   "outputs": [],
   "source": [
    "\n",
    "\n",
    "def cal_groups(idx, user_df_tmp, num_sample=2000):\n",
    "    \n",
    "    print(idx, user_df_tmp.bias_prop.quantile(), f'medium is: {user_df_tmp.bias_prop.quantile():.2f}')\n",
    "    media_split_col = user_df_tmp.bias_prop<user_df_tmp.bias_prop.quantile()  # medium split \n",
    "    low_user_df = user_df_tmp[media_split_col]\n",
    "    high_user_df = user_df_tmp[~media_split_col]\n",
    "        \n",
    "    low_bias_prop = low_user_df['bias_prop'].tolist()\n",
    "    high_bias_prop = high_user_df['bias_prop'].tolist()\n",
    "    \n",
    "    print(f'group {idx} mw test', mannwhitneyu(low_bias_prop, high_bias_prop, alternative='two-sided'))\n",
    "\n",
    "    user_info_low = low_user_df.sample(n=num_sample, random_state=2022)\n",
    "    user_info_high = high_user_df.sample(n=num_sample, random_state=2022)\n",
    "    \n",
    "    print(f'group {idx} mean ori:', f'{user_df_tmp[\"bias_prop\"].mean()}', f'{low_user_df[\"bias_prop\"].mean()}', f'{high_user_df[\"bias_prop\"].mean()}')\n",
    "    print(f'group {idx} mean:', f'{user_df_tmp[\"bias_prop\"].mean()*100:.2f}', f'{low_user_df[\"bias_prop\"].mean()*100:.2f}', f'{high_user_df[\"bias_prop\"].mean()*100:.2f}')\n",
    "    print(f'group {idx} sample mean ori:', f'{user_info_low[\"bias_prop\"].mean()}', f'{user_info_high[\"bias_prop\"].mean()}')\n",
    "    print(f'group {idx} sample mean:', f'{user_info_low[\"bias_prop\"].mean()*100:.2f}', f'{user_info_high[\"bias_prop\"].mean()*100:.2f}')\n",
    "    \n",
    "    return user_info_low, user_info_high\n",
    "    "
   ]
  },
  {
   "cell_type": "code",
   "execution_count": 32,
   "id": "90465abf",
   "metadata": {},
   "outputs": [],
   "source": [
    "# draw plots\n",
    "\n",
    "\n",
    "label_list = sorted(user_info_df['label'].unique().tolist())\n",
    "color_list = ['salmon', 'khaki', 'lightskyblue', 'lavender', 'orchid']\n",
    "\n",
    "for j, l in enumerate(label_list):\n",
    "    user_df_tmp = user_info_df[user_info_df['label'] == l]\n",
    "    plt.hist([i*100 for i in user_df_tmp.bias_prop.tolist()], color=color_list[j])\n",
    "    plt.axvline(user_df_tmp.bias_prop.quantile()*100, color='black', linestyle='dashed', linewidth=1)\n",
    "    plt.xlabel(f'Bias Proportion', fontweight='bold', fontsize=12)\n",
    "    plt.ylabel('The Number of Users', fontweight='bold', fontsize=12)\n",
    "    plt.xlim((0, 100))\n",
    "    plt.yticks(fontsize=12)\n",
    "    plt.xticks(fontsize=12)\n",
    "#     plt.show()\n",
    "    plt.savefig(f'pdf/stat_data_interest_hist_l{l}.pdf', bbox_inches='tight')\n",
    "    plt.close()\n",
    "\n"
   ]
  },
  {
   "cell_type": "code",
   "execution_count": 37,
   "id": "2789cdec",
   "metadata": {},
   "outputs": [],
   "source": [
    "# print(f'{0.16666666666666666*100:.2f}', f'{0.07142857142857142*100:.2f}',\n",
    "#       f'{0.1*100:.2f}', f'{0.1*100:.2f}',\n",
    "#       f'{0.125*100:.2f}')"
   ]
  },
  {
   "cell_type": "code",
   "execution_count": 38,
   "id": "49fc0786",
   "metadata": {},
   "outputs": [
    {
     "name": "stdout",
     "output_type": "stream",
     "text": [
      "0 0.16666666666666666 medium is: 0.17\n",
      "group 0 mw test MannwhitneyuResult(statistic=0.0, pvalue=0.0)\n",
      "group 0 mean ori: 0.17138035201175789 0.057511567158988315 0.28128112059568455\n",
      "group 0 mean: 17.14 5.75 28.13\n",
      "group 0 sample mean ori: 0.05740202198568943 0.276845280948735\n",
      "group 0 sample mean: 5.74 27.68\n",
      "1 0.07142857142857142 medium is: 0.07\n",
      "group 1 mw test MannwhitneyuResult(statistic=0.0, pvalue=0.0)\n",
      "group 1 mean ori: 0.08808627629510966 0.007794210012763122 0.167667261536415\n",
      "group 1 mean: 8.81 0.78 16.77\n",
      "group 1 sample mean ori: 0.008007450013983794 0.16689902529150072\n",
      "group 1 sample mean: 0.80 16.69\n",
      "2 0.1 medium is: 0.10\n",
      "group 2 mw test MannwhitneyuResult(statistic=0.0, pvalue=0.0)\n",
      "group 2 mean ori: 0.11331830679450383 0.02117357852706133 0.2040157715764346\n",
      "group 2 mean: 11.33 2.12 20.40\n",
      "group 2 sample mean ori: 0.022257271487105455 0.20572067208157496\n",
      "group 2 sample mean: 2.23 20.57\n",
      "3 0.1 medium is: 0.10\n",
      "group 3 mw test MannwhitneyuResult(statistic=0.0, pvalue=0.0)\n",
      "group 3 mean ori: 0.11492564781471797 0.02386383229253407 0.20345900484541676\n",
      "group 3 mean: 11.49 2.39 20.35\n",
      "group 3 sample mean ori: 0.023889702968626865 0.20445112962854245\n",
      "group 3 sample mean: 2.39 20.45\n",
      "4 0.125 medium is: 0.12\n",
      "group 4 mw test MannwhitneyuResult(statistic=0.0, pvalue=0.0)\n",
      "group 4 mean ori: 0.14144675058899484 0.0421668068881532 0.22757386736473798\n",
      "group 4 mean: 14.14 4.22 22.76\n",
      "group 4 sample mean ori: 0.04306683470765054 0.2269189007511229\n",
      "group 4 sample mean: 4.31 22.69\n"
     ]
    }
   ],
   "source": [
    "\n",
    "num_sample=2000\n",
    "label_list = sorted(user_info_df['label'].unique().tolist())\n",
    "user_info_dict = dict()\n",
    "\n",
    "for l in label_list:\n",
    "    \n",
    "    user_df_tmp = user_info_df[user_info_df['label'] == l]\n",
    "    user_info_low, user_info_high = cal_groups(l, user_df_tmp, num_sample=num_sample)\n",
    "    \n",
    "    user_info_dict[f'{l}_interests_low'] = user_info_low\n",
    "    user_info_dict[f'{l}_interests_high'] = user_info_high\n",
    "    "
   ]
  },
  {
   "cell_type": "code",
   "execution_count": 39,
   "id": "87904cec",
   "metadata": {},
   "outputs": [
    {
     "data": {
      "text/plain": [
       "dict_keys(['0_interests_low', '0_interests_high', '1_interests_low', '1_interests_high', '2_interests_low', '2_interests_high', '3_interests_low', '3_interests_high', '4_interests_low', '4_interests_high'])"
      ]
     },
     "execution_count": 39,
     "metadata": {},
     "output_type": "execute_result"
    }
   ],
   "source": [
    "# check\n",
    "user_info_dict.keys()"
   ]
  },
  {
   "cell_type": "code",
   "execution_count": 40,
   "id": "39e86597",
   "metadata": {},
   "outputs": [
    {
     "name": "stdout",
     "output_type": "stream",
     "text": [
      "0_interests_low 0.05740202198568943\n",
      "0_interests_high 0.276845280948735\n",
      "1_interests_low 0.008007450013983794\n",
      "1_interests_high 0.16689902529150072\n",
      "2_interests_low 0.022257271487105455\n",
      "2_interests_high 0.20572067208157496\n",
      "3_interests_low 0.023889702968626865\n",
      "3_interests_high 0.20445112962854245\n",
      "4_interests_low 0.04306683470765054\n",
      "4_interests_high 0.2269189007511229\n"
     ]
    }
   ],
   "source": [
    "\n",
    "for k in user_info_dict.keys():\n",
    "    print(k, user_info_dict[k]['bias_prop'].mean())\n"
   ]
  },
  {
   "cell_type": "code",
   "execution_count": 41,
   "id": "63d19234",
   "metadata": {},
   "outputs": [],
   "source": [
    "with open(f'data/interests_user_info_dict_{num_sample}.pkl', \"wb\") as f:\n",
    "    pickle.dump(user_info_dict, f)"
   ]
  },
  {
   "cell_type": "code",
   "execution_count": null,
   "id": "4fe4d30d",
   "metadata": {},
   "outputs": [],
   "source": []
  }
 ],
 "metadata": {
  "kernelspec": {
   "display_name": "Python 3",
   "language": "python",
   "name": "python3"
  },
  "language_info": {
   "codemirror_mode": {
    "name": "ipython",
    "version": 3
   },
   "file_extension": ".py",
   "mimetype": "text/x-python",
   "name": "python",
   "nbconvert_exporter": "python",
   "pygments_lexer": "ipython3",
   "version": "3.6.8"
  }
 },
 "nbformat": 4,
 "nbformat_minor": 5
}
