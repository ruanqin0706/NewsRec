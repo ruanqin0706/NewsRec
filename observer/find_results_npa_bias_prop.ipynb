{
 "cells": [
  {
   "cell_type": "code",
   "execution_count": 1,
   "id": "74cabed1",
   "metadata": {},
   "outputs": [],
   "source": [
    "import pickle\n",
    "import os\n",
    "import pandas as pd\n",
    "import numpy as np\n",
    "import heapq"
   ]
  },
  {
   "cell_type": "code",
   "execution_count": 2,
   "id": "9cba8a81",
   "metadata": {},
   "outputs": [
    {
     "name": "stdout",
     "output_type": "stream",
     "text": [
      "bias_prop_behaviors_1\n",
      "mean [0.08715, 0.08045000000000001, 0.0755, 0.07273750000000001, 0.07165, 0.070375, 0.07010714285714287, 0.06986875000000001, 0.0695111111111111, 0.06880000000000001]\n",
      "std [0.09674645988355336, 0.07979848056197561, 0.07410034487848967, 0.07068552605555115, 0.06932010891509044, 0.06740630070698139, 0.06584295439040644, 0.0649494872838693, 0.06356338724085481, 0.06238317080751827]\n",
      "display ['8.71', '8.04', '7.55', '7.27', '7.17', '7.04', '7.01', '6.99', '6.95', '6.88']\n",
      "**********\n",
      "bias_prop_behaviors_2\n",
      "mean [0.11635000000000002, 0.11009999999999999, 0.10741666666666669, 0.1041, 0.10184, 0.09979166666666665, 0.09897857142857143, 0.09841874999999999, 0.0980111111111111, 0.09745000000000002]\n",
      "std [0.10787806774317012, 0.0915313607459214, 0.08858137344962666, 0.08481636045009242, 0.08251432845269967, 0.08077978251944534, 0.07903678780498745, 0.07809299119279207, 0.07666904907731512, 0.07540555350900886]\n",
      "display ['11.64', '11.01', '10.74', '10.41', '10.18', '9.98', '9.90', '9.84', '9.80', '9.75']\n",
      "**********\n",
      "bias_prop_behaviors_3\n",
      "mean [0.14455, 0.135125, 0.13341666666666668, 0.1321375, 0.13066000000000003, 0.1288, 0.12801428571428575, 0.12693125, 0.12695555555555557, 0.12636]\n",
      "std [0.11623380532358046, 0.09834878939265088, 0.0978291807750178, 0.09648830806760994, 0.09393382990169197, 0.09025583391424377, 0.08886756829056115, 0.08670318418857234, 0.08512410982837984, 0.08341373028464799]\n",
      "display ['14.46', '13.51', '13.34', '13.21', '13.07', '12.88', '12.80', '12.69', '12.70', '12.64']\n",
      "**********\n",
      "bias_prop_behaviors_4\n",
      "mean [0.17415, 0.16815, 0.1681666666666667, 0.16647499999999998, 0.16451000000000002, 0.16400833333333334, 0.1627642857142857, 0.16186250000000002, 0.16101111111111113, 0.1602]\n",
      "std [0.11965273711871367, 0.10841161146297937, 0.11157446442224632, 0.10891142903754408, 0.10639295042435848, 0.10457195788068614, 0.10181481563934332, 0.0997186659745807, 0.09748688990681621, 0.09550005235600659]\n",
      "display ['17.41', '16.81', '16.82', '16.65', '16.45', '16.40', '16.28', '16.19', '16.10', '16.02']\n",
      "**********\n",
      "bias_prop_behaviors_5\n",
      "mean [0.20665000000000003, 0.20207499999999998, 0.20128333333333334, 0.2001625, 0.19727000000000003, 0.19556666666666667, 0.19407857142857143, 0.1923875, 0.1916777777777778, 0.19106]\n",
      "std [0.13494731379319858, 0.12552666798334128, 0.12458828975647929, 0.1209092059925546, 0.11702797571521092, 0.11369946252193885, 0.11085630499499276, 0.10794900344028194, 0.10655260046881383, 0.10479253981080905]\n",
      "display ['20.67', '20.21', '20.13', '20.02', '19.73', '19.56', '19.41', '19.24', '19.17', '19.11']\n",
      "**********\n"
     ]
    }
   ],
   "source": [
    "\n",
    "# for j in range(1, 6):\n",
    "#     bias_prob_dir = f'../infer/bias_prob_infer_large_npa/infer_large_npa{j}/predictions.pkl'\n",
    "#     bias_detection_path = 'data/0929_concat_mind_over_res.csv'\n",
    "#     top_n = 100\n",
    "\n",
    "#     with open(os.path.join('../infer/bias_prob_lstur/infer_large_lstur/', f'candiate_nid_list.pkl'), 'rb') as f:\n",
    "#          candidate_nid = pickle.load(f)\n",
    "\n",
    "#     with open(bias_prob_dir, 'rb') as f:\n",
    "#         res_list = pickle.load(f)   \n",
    "\n",
    "#     bias_detection_df = pd.read_csv(bias_detection_path, header=None, sep='\\t')\n",
    "#     bias_detection_df.columns = ['nid', 'category', 'sub_category', 'bias_prob']\n",
    "#     nid2bias_prob = dict(zip(bias_detection_df['nid'], bias_detection_df['bias_prob']))    \n",
    "\n",
    "#     aa_arr = []\n",
    "#     for res in res_list:\n",
    "#         aa = np.asarray(res)\n",
    "#         ind = heapq.nlargest(top_n, range(len(aa)), aa.take)\n",
    "#         aa_prob_list = [nid2bias_prob[candidate_nid[idx]] for idx in ind]\n",
    "#         aa_arr.append(aa_prob_list)\n",
    "#     aa_arr = np.asarray(aa_arr)\n",
    "    \n",
    "#     look_num_list = [i*10 for i in range(1, 11)]\n",
    "#     mean_val_list = []\n",
    "#     std_val_list = []\n",
    "#     display_score_list = []\n",
    "#     for look_num in look_num_list:\n",
    "#         bb_arr = aa_arr[:, :look_num]\n",
    "#         bias_prob_list = []\n",
    "#         for bb in bb_arr:\n",
    "#             temp = np.count_nonzero(bb >= 0.5)\n",
    "#             bias_prob_list.append(temp/len(bb))\n",
    "#         bias_prob_list = np.asarray(bias_prob_list)\n",
    "        \n",
    "#         mean_val = np.mean(bias_prob_list, dtype=np.float64)\n",
    "#         std_val = np.std(bias_prob_list, dtype=np.float64)\n",
    "#         display_score = f'{mean_val*100:.2f}'\n",
    "#         mean_val_list.append(mean_val)\n",
    "#         std_val_list.append(std_val)\n",
    "#         display_score_list.append(display_score)\n",
    "        \n",
    "#     tmp_suffix = f'bias_prop_behaviors_{j}'\n",
    "#     print(tmp_suffix)\n",
    "#     print('mean', mean_val_list)\n",
    "#     print('std', std_val_list)\n",
    "#     print('display', display_score_list)\n",
    "#     print('*'*10)"
   ]
  }
 ],
 "metadata": {
  "kernelspec": {
   "display_name": "Python 3",
   "language": "python",
   "name": "python3"
  },
  "language_info": {
   "codemirror_mode": {
    "name": "ipython",
    "version": 3
   },
   "file_extension": ".py",
   "mimetype": "text/x-python",
   "name": "python",
   "nbconvert_exporter": "python",
   "pygments_lexer": "ipython3",
   "version": "3.6.8"
  }
 },
 "nbformat": 4,
 "nbformat_minor": 5
}
