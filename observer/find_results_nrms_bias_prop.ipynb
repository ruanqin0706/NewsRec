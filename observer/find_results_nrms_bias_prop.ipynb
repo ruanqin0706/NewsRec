{
 "cells": [
  {
   "cell_type": "code",
   "execution_count": 1,
   "id": "3620c055",
   "metadata": {},
   "outputs": [],
   "source": [
    "import pickle\n",
    "import os\n",
    "import pandas as pd\n",
    "import numpy as np\n",
    "import heapq"
   ]
  },
  {
   "cell_type": "code",
   "execution_count": 2,
   "id": "3356df79",
   "metadata": {},
   "outputs": [],
   "source": [
    "test_news_path = '../infer/mind/large_test/news.tsv'\n",
    "bias_prob_lstur_dir = '../infer/bias_prob_nrms/infer_large_nrms/'\n",
    "candidate_news_file = 'data/news_new_with_time.tsv'\n",
    "bias_prob_lstur_dir = '../infer/bias_prob_nrms/infer_large_nrms/'\n",
    "bias_detection_path = 'data/0929_concat_mind_over_res.csv'"
   ]
  },
  {
   "cell_type": "code",
   "execution_count": 4,
   "id": "ff30d941",
   "metadata": {},
   "outputs": [],
   "source": [
    "with open(os.path.join(bias_prob_lstur_dir, 'news.pkl'), 'rb') as f:\n",
    "    bias_prob_lstur_news = pickle.load(f)"
   ]
  },
  {
   "cell_type": "code",
   "execution_count": 5,
   "id": "33d9463f",
   "metadata": {},
   "outputs": [
    {
     "name": "stdout",
     "output_type": "stream",
     "text": [
      "(2000, 400)\n",
      "(2000, 400)\n",
      "(2000, 400)\n",
      "(2000, 400)\n",
      "(2000, 400)\n"
     ]
    }
   ],
   "source": [
    "\n",
    "for i in range(1, 6):\n",
    "    with open(os.path.join(bias_prob_lstur_dir, f'user{i}.pkl'), 'rb') as f:\n",
    "        bias_prob_lstur_user = pickle.load(f)\n",
    "\n",
    "        v_list = []\n",
    "        for k, v in bias_prob_lstur_user.items():\n",
    "            v_list.append(v)\n",
    "\n",
    "        v_vec = np.asarray(v_list)\n",
    "        print(v_vec.shape)\n",
    "        \n",
    "        with open(os.path.join(bias_prob_lstur_dir, f'user{i}.npy'), 'wb') as f:\n",
    "            pickle.dump(v_vec, f)"
   ]
  },
  {
   "cell_type": "code",
   "execution_count": 6,
   "id": "d644d42b",
   "metadata": {},
   "outputs": [
    {
     "name": "stdout",
     "output_type": "stream",
     "text": [
      "  120961 /Users/qin/2022/NewsRec/data/mind/large_test/news.tsv\r\n"
     ]
    }
   ],
   "source": [
    "!wc -l $test_news_path"
   ]
  },
  {
   "cell_type": "code",
   "execution_count": 7,
   "id": "9a85c2bc",
   "metadata": {},
   "outputs": [],
   "source": [
    "news_df = pd.read_csv(test_news_path, sep='\\t', header=None)"
   ]
  },
  {
   "cell_type": "code",
   "execution_count": 8,
   "id": "7070f668",
   "metadata": {},
   "outputs": [],
   "source": [
    "nid_list = news_df[0].tolist()"
   ]
  },
  {
   "cell_type": "code",
   "execution_count": 9,
   "id": "766daf00",
   "metadata": {},
   "outputs": [],
   "source": [
    "nid2vecs = dict()\n",
    "for idx, nid in enumerate(nid_list):\n",
    "    nid2vecs[nid] = bias_prob_lstur_news[idx+1]"
   ]
  },
  {
   "cell_type": "code",
   "execution_count": 10,
   "id": "68d6dab5",
   "metadata": {},
   "outputs": [
    {
     "data": {
      "text/plain": [
       "(22283, 9)"
      ]
     },
     "execution_count": 10,
     "metadata": {},
     "output_type": "execute_result"
    }
   ],
   "source": [
    "news_df = pd.read_csv(candidate_news_file, sep='\\t', header=None)\n",
    "news_df.columns = ['nid', 'category', 'subcategory', 'title', 'abstract', 'url', 'entity1', 'entity2', 'timestamp']\n",
    "news_df.shape"
   ]
  },
  {
   "cell_type": "code",
   "execution_count": 11,
   "id": "52f94cd0",
   "metadata": {},
   "outputs": [],
   "source": [
    "nid_list = news_df['nid'].tolist()"
   ]
  },
  {
   "cell_type": "code",
   "execution_count": 12,
   "id": "927773b4",
   "metadata": {},
   "outputs": [],
   "source": [
    "nid_vecs_arr = []\n",
    "candidate_nid = []\n",
    "for nid in nid_list:\n",
    "    nid_vecs_arr.append(nid2vecs[nid])\n",
    "    candidate_nid.append(nid)"
   ]
  },
  {
   "cell_type": "code",
   "execution_count": 13,
   "id": "f30818b8",
   "metadata": {},
   "outputs": [],
   "source": [
    "with open(os.path.join(bias_prob_lstur_dir, f'candiate_nid_list.pkl'), 'wb') as f:\n",
    "     pickle.dump(candidate_nid, f)"
   ]
  },
  {
   "cell_type": "code",
   "execution_count": 14,
   "id": "0c2b758a",
   "metadata": {},
   "outputs": [],
   "source": [
    "nid_vecs_arr = np.asarray(nid_vecs_arr)"
   ]
  },
  {
   "cell_type": "code",
   "execution_count": 15,
   "id": "1b36701c",
   "metadata": {},
   "outputs": [
    {
     "data": {
      "text/plain": [
       "(22283, 400)"
      ]
     },
     "execution_count": 15,
     "metadata": {},
     "output_type": "execute_result"
    }
   ],
   "source": [
    "nid_vecs_arr.shape"
   ]
  },
  {
   "cell_type": "code",
   "execution_count": 16,
   "id": "1585a0fa",
   "metadata": {},
   "outputs": [],
   "source": [
    "with open(os.path.join(bias_prob_lstur_dir, f'news.npy'), 'wb') as f:\n",
    "     pickle.dump(nid_vecs_arr, f)"
   ]
  },
  {
   "cell_type": "code",
   "execution_count": 18,
   "id": "b6c12222",
   "metadata": {},
   "outputs": [
    {
     "name": "stdout",
     "output_type": "stream",
     "text": [
      "bias_prop_behaviors_1\n",
      "mean [0.23775, 0.19319999999999998, 0.1679166666666667, 0.15145, 0.14031000000000002, 0.132525, 0.12643571428571426, 0.1218375, 0.11788333333333333, 0.114715]\n",
      "std [0.10927002104877623, 0.08469805192564939, 0.07218105129926183, 0.06489239169579128, 0.05964313791208507, 0.05683100618402677, 0.05477253473434008, 0.053282840518782404, 0.05176515076123447, 0.05047592272559265]\n",
      "display ['23.77', '19.32', '16.79', '15.14', '14.03', '13.25', '12.64', '12.18', '11.79', '11.47']\n",
      "**********\n",
      "bias_prop_behaviors_2\n",
      "mean [0.27770000000000006, 0.23597499999999996, 0.2064166666666667, 0.188625, 0.17562000000000003, 0.16591666666666668, 0.15848571428571426, 0.15258124999999997, 0.14835555555555555, 0.14470499999999997]\n",
      "std [0.10877826069578424, 0.08456978996663052, 0.06902852671178779, 0.061277927306657494, 0.05670287117950906, 0.05318723478847574, 0.05097250959776139, 0.0489448952745585, 0.04786051750454093, 0.047108523379532925]\n",
      "display ['27.77', '23.60', '20.64', '18.86', '17.56', '16.59', '15.85', '15.26', '14.84', '14.47']\n",
      "**********\n",
      "bias_prop_behaviors_3\n",
      "mean [0.29745, 0.257525, 0.22738333333333335, 0.20852500000000002, 0.19484000000000004, 0.18447500000000003, 0.17739285714285716, 0.17125625000000003, 0.1668722222222222, 0.163135]\n",
      "std [0.10806709721279648, 0.07998202532444398, 0.06535065884221146, 0.05716051412469975, 0.05260964170187818, 0.050532738975176614, 0.048517183469743326, 0.04685883012770912, 0.04646803992603842, 0.045757204623971516]\n",
      "display ['29.74', '25.75', '22.74', '20.85', '19.48', '18.45', '17.74', '17.13', '16.69', '16.31']\n",
      "**********\n",
      "bias_prop_behaviors_4\n",
      "mean [0.30604999999999993, 0.26817499999999994, 0.23933333333333331, 0.2218125, 0.20848000000000003, 0.19952499999999998, 0.19232857142857143, 0.18721875, 0.1828611111111111, 0.17929]\n",
      "std [0.1085283257956189, 0.07809237718881401, 0.06477825423876613, 0.057452391975878606, 0.05435889623603481, 0.05258772498829403, 0.05095141943908082, 0.0502540324097231, 0.049640925158756705, 0.04956708484468297]\n",
      "display ['30.60', '26.82', '23.93', '22.18', '20.85', '19.95', '19.23', '18.72', '18.29', '17.93']\n",
      "**********\n",
      "bias_prop_behaviors_5\n",
      "mean [0.31995, 0.28285, 0.25723333333333337, 0.23823750000000002, 0.22467, 0.21474166666666666, 0.20774285714285715, 0.2020625, 0.19782222222222223, 0.194515]\n",
      "std [0.1080138764233559, 0.07783557991047539, 0.06501205871050214, 0.05908748677808187, 0.05530272235613723, 0.054436914941364316, 0.054811804180769495, 0.05440986669483762, 0.05420079722433136, 0.054034847783629415]\n",
      "display ['32.00', '28.29', '25.72', '23.82', '22.47', '21.47', '20.77', '20.21', '19.78', '19.45']\n",
      "**********\n"
     ]
    }
   ],
   "source": [
    "# for j in range(1, 6):\n",
    "#     with open(os.path.join(bias_prob_lstur_dir, f'news.npy'), 'rb') as f:\n",
    "#          news_vec = pickle.load(f)\n",
    "#     with open(os.path.join(bias_prob_lstur_dir, f'user{j}.npy'), 'rb') as f:\n",
    "#          user_vec = pickle.load(f)\n",
    "#     with open(os.path.join(bias_prob_lstur_dir, f'candiate_nid_list.pkl'), 'rb') as f:\n",
    "#          candidate_nid = pickle.load(f)\n",
    "\n",
    "#     bias_detection_df = pd.read_csv(bias_detection_path, header=None, sep='\\t')\n",
    "#     bias_detection_df.columns = ['nid', 'category', 'sub_category', 'bias_prob']\n",
    "\n",
    "#     nis2bias_prob = dict(zip(bias_detection_df['nid'], bias_detection_df['bias_prob']))\n",
    "\n",
    "#     a = np.dot(user_vec, news_vec.T)\n",
    "\n",
    "#     top_n = 100\n",
    "#     aa_arr = []\n",
    "#     for aa in a:\n",
    "#         ind = heapq.nlargest(top_n, range(len(aa)), aa.take)\n",
    "#         aa_prob_list = [nis2bias_prob[candidate_nid[idx]] for idx in ind]\n",
    "#         aa_arr.append(aa_prob_list)\n",
    "#     aa_arr = np.asarray(aa_arr)\n",
    "\n",
    "#     look_num_list = [i*10 for i in range(1, 11)]\n",
    "#     mean_val_list = []\n",
    "#     std_val_list = []\n",
    "#     display_score_list = []\n",
    "#     for look_num in look_num_list:\n",
    "#         bb_arr = aa_arr[:, :look_num]\n",
    "#         bias_prob_list = []\n",
    "#         for bb in bb_arr:\n",
    "#             temp = np.count_nonzero(bb >= 0.5)\n",
    "#             bias_prob_list.append(temp/len(bb))\n",
    "#         bias_prob_list = np.asarray(bias_prob_list)\n",
    "        \n",
    "#         mean_val = np.mean(bias_prob_list, dtype=np.float64)\n",
    "#         std_val = np.std(bias_prob_list, dtype=np.float64)\n",
    "#         display_score = f'{mean_val*100:.2f}'\n",
    "#         mean_val_list.append(mean_val)\n",
    "#         std_val_list.append(std_val)\n",
    "#         display_score_list.append(display_score)\n",
    "    \n",
    "#     tmp_suffix = f'bias_prop_behaviors_{j}'\n",
    "#     print(tmp_suffix)\n",
    "#     print('mean', mean_val_list)\n",
    "#     print('std', std_val_list)\n",
    "#     print('display', display_score_list)\n",
    "#     print('*'*10)"
   ]
  },
  {
   "cell_type": "code",
   "execution_count": null,
   "id": "e1dbbb8d",
   "metadata": {},
   "outputs": [],
   "source": []
  }
 ],
 "metadata": {
  "kernelspec": {
   "display_name": "Python 3",
   "language": "python",
   "name": "python3"
  },
  "language_info": {
   "codemirror_mode": {
    "name": "ipython",
    "version": 3
   },
   "file_extension": ".py",
   "mimetype": "text/x-python",
   "name": "python",
   "nbconvert_exporter": "python",
   "pygments_lexer": "ipython3",
   "version": "3.6.8"
  }
 },
 "nbformat": 4,
 "nbformat_minor": 5
}
