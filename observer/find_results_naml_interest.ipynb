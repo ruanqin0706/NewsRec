{
 "cells": [
  {
   "cell_type": "code",
   "execution_count": 1,
   "id": "c1d2e4f2",
   "metadata": {},
   "outputs": [],
   "source": [
    "import pickle\n",
    "import glob\n",
    "import os\n",
    "import pandas as pd\n",
    "import numpy as np\n",
    "import heapq"
   ]
  },
  {
   "cell_type": "code",
   "execution_count": 2,
   "id": "ac09ec5b",
   "metadata": {},
   "outputs": [],
   "source": [
    "test_news_path = '../infer/mind/large_test/news.tsv'\n",
    "bias_detection_path = 'data/0929_concat_mind_over_res.csv'\n",
    "infer_dir = '../infer/interest_infer_naml/'\n",
    "infer_dir_processed = '../infer/interest_infer_naml/processed'\n",
    "candidate_news_file = 'data/news_new_with_time.tsv'"
   ]
  },
  {
   "cell_type": "code",
   "execution_count": 4,
   "id": "903b0e51",
   "metadata": {},
   "outputs": [
    {
     "name": "stdout",
     "output_type": "stream",
     "text": [
      "total 132904\r\n",
      "drwxr-xr-x  14 qin  staff   448B  8 May 02:49 \u001b[1m\u001b[36m.\u001b[m\u001b[m\r\n",
      "drwxr-xr-x  14 qin  staff   448B  8 May 02:49 \u001b[1m\u001b[36m..\u001b[m\u001b[m\r\n",
      "-rw-r--r--   1 qin  staff    34M 17 May 05:57 candiate_news_vec.npy\r\n",
      "-rw-r--r--   1 qin  staff   351K 17 May 05:57 candiate_nid_list.pkl\r\n",
      "-rw-r--r--   1 qin  staff   3.1M 17 May 05:57 interest_behaviors_high_0_user.npy\r\n",
      "-rw-r--r--   1 qin  staff   3.1M 17 May 05:57 interest_behaviors_high_1_user.npy\r\n",
      "-rw-r--r--   1 qin  staff   3.1M 17 May 05:57 interest_behaviors_high_2_user.npy\r\n",
      "-rw-r--r--   1 qin  staff   3.1M 17 May 05:57 interest_behaviors_high_3_user.npy\r\n",
      "-rw-r--r--   1 qin  staff   3.1M 17 May 05:57 interest_behaviors_high_4_user.npy\r\n",
      "-rw-r--r--   1 qin  staff   3.1M 17 May 05:57 interest_behaviors_low_0_user.npy\r\n",
      "-rw-r--r--   1 qin  staff   3.1M 17 May 05:57 interest_behaviors_low_1_user.npy\r\n",
      "-rw-r--r--   1 qin  staff   3.1M 17 May 05:57 interest_behaviors_low_2_user.npy\r\n",
      "-rw-r--r--   1 qin  staff   3.1M 17 May 05:57 interest_behaviors_low_3_user.npy\r\n",
      "-rw-r--r--   1 qin  staff   3.1M 17 May 05:57 interest_behaviors_low_4_user.npy\r\n"
     ]
    }
   ],
   "source": [
    "!ls -ahl $infer_dir_processed"
   ]
  },
  {
   "cell_type": "markdown",
   "id": "6b0c2d1e",
   "metadata": {},
   "source": [
    "### convert user dict to user vecs"
   ]
  },
  {
   "cell_type": "code",
   "execution_count": 5,
   "id": "92cbad1d",
   "metadata": {},
   "outputs": [],
   "source": [
    "os.makedirs(infer_dir_processed, exist_ok=True)"
   ]
  },
  {
   "cell_type": "code",
   "execution_count": 6,
   "id": "e3558427",
   "metadata": {},
   "outputs": [],
   "source": [
    "# convert user dict to user vecs\n",
    "\n",
    "for file_name in sorted(glob.glob(os.path.join(infer_dir, '*user.pkl'))):\n",
    "    with open(file_name, 'rb') as f:\n",
    "        user_dict = pickle.load(f)\n",
    "        \n",
    "    v_list = []\n",
    "    for k, v in user_dict.items():\n",
    "        v_list.append(v)\n",
    "\n",
    "    v_vec = np.asarray(v_list)\n",
    "    file_suffix = file_name.split(\"/\")[-1].split(\".pkl\")[0]\n",
    "\n",
    "    with open(os.path.join(infer_dir_processed, f'{file_suffix}.npy'), 'wb') as f:\n",
    "        pickle.dump(v_vec, f)"
   ]
  },
  {
   "cell_type": "code",
   "execution_count": 7,
   "id": "4cb5dda6",
   "metadata": {},
   "outputs": [
    {
     "name": "stdout",
     "output_type": "stream",
     "text": [
      "candiate_news_vec.npy              interest_behaviors_high_4_user.npy\r\n",
      "candiate_nid_list.pkl              interest_behaviors_low_0_user.npy\r\n",
      "interest_behaviors_high_0_user.npy interest_behaviors_low_1_user.npy\r\n",
      "interest_behaviors_high_1_user.npy interest_behaviors_low_2_user.npy\r\n",
      "interest_behaviors_high_2_user.npy interest_behaviors_low_3_user.npy\r\n",
      "interest_behaviors_high_3_user.npy interest_behaviors_low_4_user.npy\r\n"
     ]
    }
   ],
   "source": [
    "!ls $infer_dir_processed"
   ]
  },
  {
   "cell_type": "markdown",
   "id": "2d5dc270",
   "metadata": {},
   "source": [
    "### find vectors of candidate news"
   ]
  },
  {
   "cell_type": "code",
   "execution_count": 8,
   "id": "6c743ac7",
   "metadata": {},
   "outputs": [
    {
     "name": "stdout",
     "output_type": "stream",
     "text": [
      "  120961 /Users/qin/2022/NewsRec/data/mind/large_test/news.tsv\r\n"
     ]
    }
   ],
   "source": [
    "!wc -l $test_news_path"
   ]
  },
  {
   "cell_type": "code",
   "execution_count": 9,
   "id": "8a8026d6",
   "metadata": {},
   "outputs": [
    {
     "name": "stdout",
     "output_type": "stream",
     "text": [
      "120961\n"
     ]
    }
   ],
   "source": [
    "nid_list = []\n",
    "with open(test_news_path, 'r') as f:\n",
    "    for line in f:\n",
    "        line_split = line.split('\\t')\n",
    "        nid_list.append(line_split[0])\n",
    "print(len(nid_list))"
   ]
  },
  {
   "cell_type": "code",
   "execution_count": 10,
   "id": "9c7758ca",
   "metadata": {},
   "outputs": [],
   "source": [
    "# news_df = pd.read_csv(test_news_path, sep='\\t', header=None)"
   ]
  },
  {
   "cell_type": "code",
   "execution_count": 11,
   "id": "d46a8452",
   "metadata": {},
   "outputs": [],
   "source": [
    "# news_df.shape"
   ]
  },
  {
   "cell_type": "code",
   "execution_count": 12,
   "id": "83e566fa",
   "metadata": {},
   "outputs": [],
   "source": [
    "with open(os.path.join(infer_dir, 'interest_behaviors_high_0_news.pkl'), 'rb') as f:\n",
    "    full_news_dict = pickle.load(f)"
   ]
  },
  {
   "cell_type": "code",
   "execution_count": 13,
   "id": "4fa0ed2d",
   "metadata": {},
   "outputs": [
    {
     "data": {
      "text/plain": [
       "(120961, 120962)"
      ]
     },
     "execution_count": 13,
     "metadata": {},
     "output_type": "execute_result"
    }
   ],
   "source": [
    "len(nid_list), len(full_news_dict)"
   ]
  },
  {
   "cell_type": "code",
   "execution_count": 14,
   "id": "5ca26811",
   "metadata": {},
   "outputs": [],
   "source": [
    "nid2vecs = dict()\n",
    "for idx, nid in enumerate(nid_list):\n",
    "    nid2vecs[nid] = full_news_dict[idx+1]"
   ]
  },
  {
   "cell_type": "code",
   "execution_count": 15,
   "id": "c2fc65ba",
   "metadata": {},
   "outputs": [
    {
     "data": {
      "text/plain": [
       "(22283, 9)"
      ]
     },
     "execution_count": 15,
     "metadata": {},
     "output_type": "execute_result"
    }
   ],
   "source": [
    "news_df = pd.read_csv(candidate_news_file, sep='\\t', header=None)\n",
    "news_df.columns = ['nid', 'category', 'subcategory', 'title', 'abstract', 'url', 'entity1', 'entity2', 'timestamp']\n",
    "news_df.shape"
   ]
  },
  {
   "cell_type": "code",
   "execution_count": 16,
   "id": "6d3adb0b",
   "metadata": {},
   "outputs": [
    {
     "data": {
      "text/plain": [
       "22283"
      ]
     },
     "execution_count": 16,
     "metadata": {},
     "output_type": "execute_result"
    }
   ],
   "source": [
    "nid_list = news_df['nid'].tolist()\n",
    "len(nid_list)"
   ]
  },
  {
   "cell_type": "code",
   "execution_count": 17,
   "id": "cbaae9aa",
   "metadata": {},
   "outputs": [],
   "source": [
    "nid_vecs_arr = []\n",
    "candidate_nid = []\n",
    "for nid in nid_list:\n",
    "    nid_vecs_arr.append(nid2vecs[nid])\n",
    "    candidate_nid.append(nid)"
   ]
  },
  {
   "cell_type": "code",
   "execution_count": 18,
   "id": "9e135a00",
   "metadata": {},
   "outputs": [],
   "source": [
    "with open(os.path.join(infer_dir_processed, f'candiate_nid_list.pkl'), 'wb') as f:\n",
    "     pickle.dump(candidate_nid, f)"
   ]
  },
  {
   "cell_type": "code",
   "execution_count": 19,
   "id": "487e53ff",
   "metadata": {},
   "outputs": [],
   "source": [
    "nid_vecs_arr = np.asarray(nid_vecs_arr)"
   ]
  },
  {
   "cell_type": "code",
   "execution_count": 20,
   "id": "82549142",
   "metadata": {},
   "outputs": [
    {
     "data": {
      "text/plain": [
       "(22283, 400)"
      ]
     },
     "execution_count": 20,
     "metadata": {},
     "output_type": "execute_result"
    }
   ],
   "source": [
    "nid_vecs_arr.shape"
   ]
  },
  {
   "cell_type": "code",
   "execution_count": 21,
   "id": "34531cb1",
   "metadata": {},
   "outputs": [],
   "source": [
    "with open(os.path.join(infer_dir_processed, f'candiate_news_vec.npy'), 'wb') as f:\n",
    "     pickle.dump(nid_vecs_arr, f)"
   ]
  },
  {
   "cell_type": "markdown",
   "id": "76640a78",
   "metadata": {},
   "source": [
    "### results"
   ]
  },
  {
   "cell_type": "code",
   "execution_count": 22,
   "id": "54717a68",
   "metadata": {},
   "outputs": [
    {
     "name": "stdout",
     "output_type": "stream",
     "text": [
      "interest_behaviors_high_0\n",
      "mean [0.18645, 0.187125, 0.1831, 0.1821, 0.18067000000000003, 0.17935833333333334, 0.17797857142857143, 0.176525, 0.17482222222222218, 0.173815]\n",
      "std [0.17283343860491812, 0.1551869336477785, 0.14510896671888412, 0.1403240535332414, 0.13622243244047583, 0.13378944667523918, 0.13130528204088646, 0.12902950001840666, 0.12649854534858748, 0.12488673178124247]\n",
      "display ['18.64', '18.71', '18.31', '18.21', '18.07', '17.94', '17.80', '17.65', '17.48', '17.38']\n",
      "**********\n",
      "interest_behaviors_high_1\n",
      "mean [0.1096, 0.10292500000000002, 0.10141666666666667, 0.1002375, 0.09962000000000001, 0.098575, 0.09759999999999999, 0.096575, 0.09568333333333334, 0.09524]\n",
      "std [0.12384603344475752, 0.09657998951646247, 0.08500126633043639, 0.07842356848390668, 0.07360880110421579, 0.07091111366821612, 0.06808124798012014, 0.06595207066499126, 0.06413293269105627, 0.06253432977173419]\n",
      "display ['10.96', '10.29', '10.14', '10.02', '9.96', '9.86', '9.76', '9.66', '9.57', '9.52']\n",
      "**********\n",
      "interest_behaviors_high_2\n",
      "mean [0.15825000000000003, 0.1424, 0.13553333333333337, 0.13367500000000002, 0.13193000000000002, 0.13035833333333335, 0.1295285714285714, 0.1288, 0.1277111111111111, 0.12707000000000002]\n",
      "std [0.1716739278399606, 0.14181762936955333, 0.12902042904560157, 0.12110323849922429, 0.11527131082797662, 0.1105172658079572, 0.1077786005415448, 0.10534955505364035, 0.10307731965452194, 0.10168389793866087]\n",
      "display ['15.83', '14.24', '13.55', '13.37', '13.19', '13.04', '12.95', '12.88', '12.77', '12.71']\n",
      "**********\n",
      "interest_behaviors_high_3\n",
      "mean [0.15635000000000002, 0.138875, 0.12896666666666667, 0.1252625, 0.12252, 0.120125, 0.11859285714285714, 0.1167625, 0.11503888888888888, 0.11359500000000002]\n",
      "std [0.1438738249300407, 0.12088210940829913, 0.11026654070931943, 0.10751276014385455, 0.10488684188209692, 0.10245248729424669, 0.10153173601572735, 0.09932484504770192, 0.09716063938488163, 0.09495222996328208]\n",
      "display ['15.64', '13.89', '12.90', '12.53', '12.25', '12.01', '11.86', '11.68', '11.50', '11.36']\n",
      "**********\n",
      "interest_behaviors_high_4\n",
      "mean [0.11625, 0.1443, 0.13795000000000002, 0.13201249999999998, 0.12676, 0.12335833333333333, 0.12043571428571428, 0.1186, 0.11739444444444444, 0.11683000000000002]\n",
      "std [0.09685523992020258, 0.07478308632304499, 0.06548382115708684, 0.05982171297906806, 0.05575215152799038, 0.053643104946799386, 0.05188521426363847, 0.05124063329038782, 0.05088077294573615, 0.050074455563690355]\n",
      "display ['11.62', '14.43', '13.80', '13.20', '12.68', '12.34', '12.04', '11.86', '11.74', '11.68']\n",
      "**********\n",
      "interest_behaviors_low_0\n",
      "mean [0.0994, 0.1014, 0.10265, 0.1031, 0.10368000000000001, 0.10351666666666666, 0.10325, 0.10258125000000001, 0.10161666666666666, 0.10104]\n",
      "std [0.12377253330202141, 0.10387752403672318, 0.10053843792301528, 0.09865224275200235, 0.09709818535894481, 0.09501970409692227, 0.09416739735433807, 0.09290776487160532, 0.09103745650914419, 0.08975421104327083]\n",
      "display ['9.94', '10.14', '10.27', '10.31', '10.37', '10.35', '10.32', '10.26', '10.16', '10.10']\n",
      "**********\n",
      "interest_behaviors_low_1\n",
      "mean [0.06465, 0.06552499999999999, 0.06606666666666666, 0.0669, 0.06694000000000001, 0.06745, 0.06697142857142856, 0.0668, 0.0665388888888889, 0.06628]\n",
      "std [0.0963087612836963, 0.07309394212244952, 0.06311960427984672, 0.05734775496913545, 0.054249759446471285, 0.05199303105011072, 0.04937498333763604, 0.04791539418600248, 0.04706492462152287, 0.04595281928239006]\n",
      "display ['6.46', '6.55', '6.61', '6.69', '6.69', '6.74', '6.70', '6.68', '6.65', '6.63']\n",
      "**********\n",
      "interest_behaviors_low_2\n",
      "mean [0.0655, 0.06425, 0.06423333333333334, 0.066025, 0.06729, 0.06870833333333334, 0.06934285714285712, 0.07025, 0.07065555555555555, 0.07101000000000002]\n",
      "std [0.09984863544385571, 0.08297251050799898, 0.07252333724012185, 0.06731511253054547, 0.06362904918352937, 0.06123609536049796, 0.05940295464375626, 0.05807269151675338, 0.0566787775729196, 0.05551468184183351]\n",
      "display ['6.55', '6.42', '6.42', '6.60', '6.73', '6.87', '6.93', '7.03', '7.07', '7.10']\n",
      "**********\n",
      "interest_behaviors_low_3\n",
      "mean [0.06735, 0.059175000000000005, 0.05528333333333333, 0.0532125, 0.05227, 0.05096666666666667, 0.04984285714285714, 0.049193749999999994, 0.04872777777777777, 0.04826999999999999]\n",
      "std [0.1077449650795804, 0.08856957364129062, 0.08161479815436523, 0.07730615980470121, 0.07518275799676413, 0.07263041144497714, 0.07054869356171882, 0.06863210317291392, 0.06752584301812634, 0.06607349771277436]\n",
      "display ['6.73', '5.92', '5.53', '5.32', '5.23', '5.10', '4.98', '4.92', '4.87', '4.83']\n",
      "**********\n",
      "interest_behaviors_low_4\n",
      "mean [0.07685, 0.104525, 0.10368333333333334, 0.10058750000000001, 0.09737000000000001, 0.09490833333333333, 0.09312142857142856, 0.09163750000000001, 0.09103333333333333, 0.09024000000000001]\n",
      "std [0.08348100083252476, 0.06964750085250726, 0.0598357915001084, 0.053810708448690764, 0.049429577178041896, 0.04738192854641712, 0.04574699220624639, 0.04462594361747436, 0.043801954688893745, 0.04348956656486703]\n",
      "display ['7.69', '10.45', '10.37', '10.06', '9.74', '9.49', '9.31', '9.16', '9.10', '9.02']\n",
      "**********\n"
     ]
    }
   ],
   "source": [
    "\n",
    "# for file_name in sorted(glob.glob(os.path.join(infer_dir_processed, '*user.npy'))):\n",
    "#     file_suffix = file_name.split(\"/\")[-1].split(\".npy\")[0]\n",
    "#     with open(os.path.join(infer_dir_processed, f'candiate_news_vec.npy'), 'rb') as f:\n",
    "#          news_vec = pickle.load(f)\n",
    "#     with open(file_name, 'rb') as f:\n",
    "#          user_vec = pickle.load(f)\n",
    "#     with open(os.path.join(infer_dir_processed, f'candiate_nid_list.pkl'), 'rb') as f:\n",
    "#          candidate_nid = pickle.load(f)\n",
    "            \n",
    "#     bias_detection_df = pd.read_csv(bias_detection_path, header=None, sep='\\t')\n",
    "#     bias_detection_df.columns = ['nid', 'category', 'sub_category', 'bias_prob']\n",
    "\n",
    "#     nis2bias_prob = dict(zip(bias_detection_df['nid'], bias_detection_df['bias_prob']))\n",
    "\n",
    "#     a = np.dot(user_vec, news_vec.T)\n",
    "\n",
    "#     top_n = 100\n",
    "#     aa_arr = []\n",
    "#     for aa in a:\n",
    "#         ind = heapq.nlargest(top_n, range(len(aa)), aa.take)\n",
    "#         aa_prob_list = [nis2bias_prob[candidate_nid[idx]] for idx in ind]\n",
    "#         aa_arr.append(aa_prob_list)\n",
    "#     aa_arr = np.asarray(aa_arr)\n",
    "\n",
    "#     look_num_list = [i*10 for i in range(1, 11)]\n",
    "#     mean_val_list = []\n",
    "#     std_val_list = []\n",
    "#     display_score_list = []\n",
    "#     for look_num in look_num_list:\n",
    "#         bb_arr = aa_arr[:, :look_num]\n",
    "#         bias_prob_list = []\n",
    "#         for bb in bb_arr:\n",
    "#             temp = np.count_nonzero(bb >= 0.5)\n",
    "#             bias_prob_list.append(temp/len(bb))\n",
    "#         bias_prob_list = np.asarray(bias_prob_list)\n",
    "        \n",
    "#         mean_val = np.mean(bias_prob_list, dtype=np.float64)\n",
    "#         std_val = np.std(bias_prob_list, dtype=np.float64)\n",
    "#         display_score = f'{mean_val*100:.2f}'\n",
    "#         mean_val_list.append(mean_val)\n",
    "#         std_val_list.append(std_val)\n",
    "#         display_score_list.append(display_score)\n",
    "        \n",
    "#     file_suffix = file_suffix.split(\"_user\")[0]\n",
    "#     print(file_suffix)\n",
    "#     print('mean', mean_val_list)\n",
    "#     print('std', std_val_list)\n",
    "#     print('display', display_score_list)\n",
    "#     print('*'*10)\n"
   ]
  },
  {
   "cell_type": "code",
   "execution_count": null,
   "id": "3400e6c8",
   "metadata": {},
   "outputs": [],
   "source": []
  }
 ],
 "metadata": {
  "kernelspec": {
   "display_name": "Python 3",
   "language": "python",
   "name": "python3"
  },
  "language_info": {
   "codemirror_mode": {
    "name": "ipython",
    "version": 3
   },
   "file_extension": ".py",
   "mimetype": "text/x-python",
   "name": "python",
   "nbconvert_exporter": "python",
   "pygments_lexer": "ipython3",
   "version": "3.6.8"
  }
 },
 "nbformat": 4,
 "nbformat_minor": 5
}
