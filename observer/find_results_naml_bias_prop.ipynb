{
 "cells": [
  {
   "cell_type": "code",
   "execution_count": 1,
   "id": "9bfc8dd2",
   "metadata": {},
   "outputs": [],
   "source": [
    "import pickle\n",
    "import os\n",
    "import pandas as pd\n",
    "import numpy as np\n",
    "import heapq"
   ]
  },
  {
   "cell_type": "code",
   "execution_count": 3,
   "id": "9634800d",
   "metadata": {},
   "outputs": [],
   "source": [
    "test_news_path = '../infer/mind/large_test/news.tsv'\n",
    "bias_prob_lstur_dir = '../infer/bias_prob_naml/infer_large_naml/'\n",
    "candidate_news_file = 'data/news_new_with_time.tsv'\n",
    "bias_detection_path = 'data/0929_concat_mind_over_res.csv'"
   ]
  },
  {
   "cell_type": "code",
   "execution_count": 4,
   "id": "145ecd83",
   "metadata": {},
   "outputs": [],
   "source": [
    "with open(os.path.join(bias_prob_lstur_dir, 'news.pkl'), 'rb') as f:\n",
    "    bias_prob_lstur_news = pickle.load(f)"
   ]
  },
  {
   "cell_type": "code",
   "execution_count": 5,
   "id": "291a37a0",
   "metadata": {},
   "outputs": [
    {
     "name": "stdout",
     "output_type": "stream",
     "text": [
      "(2000, 400)\n",
      "(2000, 400)\n",
      "(2000, 400)\n",
      "(2000, 400)\n",
      "(2000, 400)\n"
     ]
    }
   ],
   "source": [
    "\n",
    "for i in range(1, 6):\n",
    "    with open(os.path.join(bias_prob_lstur_dir, f'user{i}.pkl'), 'rb') as f:\n",
    "        bias_prob_lstur_user = pickle.load(f)\n",
    "\n",
    "        v_list = []\n",
    "        for k, v in bias_prob_lstur_user.items():\n",
    "            v_list.append(v)\n",
    "\n",
    "        v_vec = np.asarray(v_list)\n",
    "        print(v_vec.shape)\n",
    "        \n",
    "        with open(os.path.join(bias_prob_lstur_dir, f'user{i}.npy'), 'wb') as f:\n",
    "            pickle.dump(v_vec, f)"
   ]
  },
  {
   "cell_type": "code",
   "execution_count": 6,
   "id": "56cc5653",
   "metadata": {},
   "outputs": [
    {
     "name": "stdout",
     "output_type": "stream",
     "text": [
      "  120961 /Users/qin/2022/NewsRec/data/mind/large_test/news.tsv\r\n"
     ]
    }
   ],
   "source": [
    "!wc -l $test_news_path"
   ]
  },
  {
   "cell_type": "code",
   "execution_count": 7,
   "id": "d6ee1019",
   "metadata": {},
   "outputs": [],
   "source": [
    "news_df = pd.read_csv(test_news_path, sep='\\t', header=None)"
   ]
  },
  {
   "cell_type": "code",
   "execution_count": 8,
   "id": "537983e5",
   "metadata": {},
   "outputs": [],
   "source": [
    "nid_list = news_df[0].tolist()"
   ]
  },
  {
   "cell_type": "code",
   "execution_count": 9,
   "id": "25c2ab3a",
   "metadata": {},
   "outputs": [],
   "source": [
    "nid2vecs = dict()\n",
    "for idx, nid in enumerate(nid_list):\n",
    "    nid2vecs[nid] = bias_prob_lstur_news[idx+1]"
   ]
  },
  {
   "cell_type": "code",
   "execution_count": 10,
   "id": "c7ea53ee",
   "metadata": {},
   "outputs": [
    {
     "data": {
      "text/plain": [
       "(22283, 9)"
      ]
     },
     "execution_count": 10,
     "metadata": {},
     "output_type": "execute_result"
    }
   ],
   "source": [
    "news_df = pd.read_csv(candidate_news_file, sep='\\t', header=None)\n",
    "news_df.columns = ['nid', 'category', 'subcategory', 'title', 'abstract', 'url', 'entity1', 'entity2', 'timestamp']\n",
    "news_df.shape"
   ]
  },
  {
   "cell_type": "code",
   "execution_count": 11,
   "id": "31dff8c0",
   "metadata": {},
   "outputs": [],
   "source": [
    "nid_list = news_df['nid'].tolist()"
   ]
  },
  {
   "cell_type": "code",
   "execution_count": 12,
   "id": "6992ffa0",
   "metadata": {},
   "outputs": [],
   "source": [
    "nid_vecs_arr = []\n",
    "candidate_nid = []\n",
    "for nid in nid_list:\n",
    "    nid_vecs_arr.append(nid2vecs[nid])\n",
    "    candidate_nid.append(nid)"
   ]
  },
  {
   "cell_type": "code",
   "execution_count": 13,
   "id": "c42f56b9",
   "metadata": {},
   "outputs": [],
   "source": [
    "with open(os.path.join(bias_prob_lstur_dir, f'candiate_nid_list.pkl'), 'wb') as f:\n",
    "     pickle.dump(candidate_nid, f)"
   ]
  },
  {
   "cell_type": "code",
   "execution_count": 14,
   "id": "03dbbf99",
   "metadata": {},
   "outputs": [],
   "source": [
    "nid_vecs_arr = np.asarray(nid_vecs_arr)"
   ]
  },
  {
   "cell_type": "code",
   "execution_count": 15,
   "id": "b1a08d05",
   "metadata": {},
   "outputs": [
    {
     "data": {
      "text/plain": [
       "(22283, 400)"
      ]
     },
     "execution_count": 15,
     "metadata": {},
     "output_type": "execute_result"
    }
   ],
   "source": [
    "nid_vecs_arr.shape"
   ]
  },
  {
   "cell_type": "code",
   "execution_count": 16,
   "id": "e0bce5e3",
   "metadata": {},
   "outputs": [],
   "source": [
    "with open(os.path.join(bias_prob_lstur_dir, f'news.npy'), 'wb') as f:\n",
    "     pickle.dump(nid_vecs_arr, f)"
   ]
  },
  {
   "cell_type": "code",
   "execution_count": 18,
   "id": "5c25e3fe",
   "metadata": {},
   "outputs": [
    {
     "name": "stdout",
     "output_type": "stream",
     "text": [
      "bias_prop_behaviors_1\n",
      "mean [0.05615, 0.06635, 0.06776666666666667, 0.06867500000000001, 0.07022, 0.07118333333333333, 0.07166428571428571, 0.07167500000000002, 0.07167777777777777, 0.071745]\n",
      "std [0.07907071202411169, 0.06507824137144456, 0.058060418722415554, 0.05447471317042431, 0.05251620321386533, 0.05149314679320605, 0.05118838306905669, 0.050259084999629666, 0.04960659927225433, 0.049104021983947505]\n",
      "display ['5.62', '6.64', '6.78', '6.87', '7.02', '7.12', '7.17', '7.17', '7.17', '7.17']\n",
      "**********\n",
      "bias_prop_behaviors_2\n",
      "mean [0.0836, 0.09402500000000001, 0.09505000000000001, 0.09536250000000002, 0.09570000000000002, 0.09565, 0.09532142857142857, 0.09509375, 0.09487222222222222, 0.09448500000000001]\n",
      "std [0.09618232685894015, 0.07594767524421007, 0.0701620960506613, 0.0657081128457514, 0.06473569340016372, 0.06350170382666034, 0.062208083584573685, 0.06131048512234673, 0.0608332245052299, 0.0599385917001726]\n",
      "display ['8.36', '9.40', '9.51', '9.54', '9.57', '9.56', '9.53', '9.51', '9.49', '9.45']\n",
      "**********\n",
      "bias_prop_behaviors_3\n",
      "mean [0.10805000000000001, 0.12000000000000001, 0.12145, 0.121375, 0.12144, 0.12094166666666668, 0.12035, 0.12001250000000001, 0.1198388888888889, 0.1194]\n",
      "std [0.10954541295736668, 0.09265527507918803, 0.08573478323035263, 0.08111325030474367, 0.07774269354736817, 0.07500316243332678, 0.07323473547157686, 0.07218119452980812, 0.07107420027298544, 0.06985585158023629]\n",
      "display ['10.81', '12.00', '12.14', '12.14', '12.14', '12.09', '12.04', '12.00', '11.98', '11.94']\n",
      "**********\n",
      "bias_prop_behaviors_4\n",
      "mean [0.1428, 0.15707500000000002, 0.15623333333333334, 0.15585, 0.15506000000000003, 0.154125, 0.15355000000000002, 0.15278125, 0.15175, 0.15041000000000002]\n",
      "std [0.13482640690903247, 0.11198747418796444, 0.09980553870179527, 0.09492840723408352, 0.09221928431732704, 0.09044679797477018, 0.08880757431155319, 0.08751070805014378, 0.08616535477903825, 0.08478815896102473]\n",
      "display ['14.28', '15.71', '15.62', '15.58', '15.51', '15.41', '15.36', '15.28', '15.17', '15.04']\n",
      "**********\n",
      "bias_prop_behaviors_5\n",
      "mean [0.1775, 0.18464999999999998, 0.18428333333333335, 0.18338749999999998, 0.18180000000000002, 0.18130833333333335, 0.18003571428571427, 0.17916250000000003, 0.17786666666666667, 0.17658500000000002]\n",
      "std [0.15447896296907226, 0.1295255862754537, 0.11677227482012444, 0.11077268320190678, 0.10743909902824018, 0.10491893398397324, 0.10270076778720612, 0.10112732614753542, 0.09936150234446009, 0.09755761259378994]\n",
      "display ['17.75', '18.46', '18.43', '18.34', '18.18', '18.13', '18.00', '17.92', '17.79', '17.66']\n",
      "**********\n"
     ]
    }
   ],
   "source": [
    "\n",
    "# for j in range(1, 6):\n",
    "#     with open(os.path.join(bias_prob_lstur_dir, f'news.npy'), 'rb') as f:\n",
    "#          news_vec = pickle.load(f)\n",
    "#     with open(os.path.join(bias_prob_lstur_dir, f'user{j}.npy'), 'rb') as f:\n",
    "#          user_vec = pickle.load(f)\n",
    "#     with open(os.path.join(bias_prob_lstur_dir, f'candiate_nid_list.pkl'), 'rb') as f:\n",
    "#          candidate_nid = pickle.load(f)\n",
    "\n",
    "#     bias_detection_df = pd.read_csv(bias_detection_path, header=None, sep='\\t')\n",
    "#     bias_detection_df.columns = ['nid', 'category', 'sub_category', 'bias_prob']\n",
    "\n",
    "#     nis2bias_prob = dict(zip(bias_detection_df['nid'], bias_detection_df['bias_prob']))\n",
    "\n",
    "#     a = np.dot(user_vec, news_vec.T)\n",
    "\n",
    "#     top_n = 100\n",
    "#     aa_arr = []\n",
    "#     for aa in a:\n",
    "#         ind = heapq.nlargest(top_n, range(len(aa)), aa.take)\n",
    "#         aa_prob_list = [nis2bias_prob[candidate_nid[idx]] for idx in ind]\n",
    "#         aa_arr.append(aa_prob_list)\n",
    "#     aa_arr = np.asarray(aa_arr)\n",
    "\n",
    "#     look_num_list = [i*10 for i in range(1, 11)]\n",
    "#     mean_val_list = []\n",
    "#     std_val_list = []\n",
    "#     display_score_list = []\n",
    "    \n",
    "#     for look_num in look_num_list:\n",
    "#         bb_arr = aa_arr[:, :look_num]\n",
    "#         bias_prob_list = []\n",
    "#         for bb in bb_arr:\n",
    "#             temp = np.count_nonzero(bb >= 0.5)\n",
    "#             bias_prob_list.append(temp/len(bb))\n",
    "#         bias_prob_list = np.asarray(bias_prob_list)\n",
    "        \n",
    "#         mean_val = np.mean(bias_prob_list, dtype=np.float64)\n",
    "#         std_val = np.std(bias_prob_list, dtype=np.float64)\n",
    "#         display_score = f'{mean_val*100:.2f}'\n",
    "#         mean_val_list.append(mean_val)\n",
    "#         std_val_list.append(std_val)\n",
    "#         display_score_list.append(display_score)\n",
    "    \n",
    "#     tmp_suffix = f'bias_prop_behaviors_{j}'\n",
    "#     print(tmp_suffix)\n",
    "#     print('mean', mean_val_list)\n",
    "#     print('std', std_val_list)\n",
    "#     print('display', display_score_list)\n",
    "#     print('*'*10)"
   ]
  }
 ],
 "metadata": {
  "kernelspec": {
   "display_name": "Python 3",
   "language": "python",
   "name": "python3"
  },
  "language_info": {
   "codemirror_mode": {
    "name": "ipython",
    "version": 3
   },
   "file_extension": ".py",
   "mimetype": "text/x-python",
   "name": "python",
   "nbconvert_exporter": "python",
   "pygments_lexer": "ipython3",
   "version": "3.6.8"
  }
 },
 "nbformat": 4,
 "nbformat_minor": 5
}
