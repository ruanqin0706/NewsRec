{
 "cells": [
  {
   "cell_type": "code",
   "execution_count": 2,
   "id": "c2676070",
   "metadata": {},
   "outputs": [],
   "source": [
    "import pickle\n",
    "import glob\n",
    "import os\n",
    "import pandas as pd\n",
    "import numpy as np\n",
    "import heapq"
   ]
  },
  {
   "cell_type": "code",
   "execution_count": 3,
   "id": "e7a49863",
   "metadata": {},
   "outputs": [],
   "source": [
    "test_news_path = '../infer/mind/large_test/news.tsv'\n",
    "bias_detection_path = 'data/0929_concat_mind_over_res.csv'\n",
    "infer_dir = '../infer/interest_infer_lstur/'\n",
    "infer_dir_processed = '../infer/interest_infer_lstur/processed'\n",
    "candidate_news_file = 'data/news_new_with_time.tsv'"
   ]
  },
  {
   "cell_type": "code",
   "execution_count": 5,
   "id": "4baf7a50",
   "metadata": {},
   "outputs": [
    {
     "name": "stdout",
     "output_type": "stream",
     "text": [
      "total 467632\r\n",
      "drwxr-xr-x  14 qin  staff   448B  8 May 02:00 \u001b[1m\u001b[36m.\u001b[m\u001b[m\r\n",
      "drwxr-xr-x  16 qin  staff   512B  1 Jun 09:49 \u001b[1m\u001b[36m..\u001b[m\u001b[m\r\n",
      "-rw-r--r--   1 qin  staff   194M  8 May 00:59 interest_behaviors_high_0_news.pkl\r\n",
      "-rw-r--r--   1 qin  staff   3.2M  8 May 01:00 interest_behaviors_high_0_user.pkl\r\n",
      "-rw-r--r--   1 qin  staff   3.2M  8 May 01:22 interest_behaviors_high_1_user.pkl\r\n",
      "-rw-r--r--   1 qin  staff   3.2M  8 May 01:24 interest_behaviors_high_2_user.pkl\r\n",
      "-rw-r--r--   1 qin  staff   3.2M  8 May 01:27 interest_behaviors_high_3_user.pkl\r\n",
      "-rw-r--r--   1 qin  staff   3.2M  8 May 01:28 interest_behaviors_high_4_user.pkl\r\n",
      "-rw-r--r--   1 qin  staff   3.2M  8 May 01:29 interest_behaviors_low_0_user.pkl\r\n",
      "-rw-r--r--   1 qin  staff   3.2M  8 May 01:31 interest_behaviors_low_1_user.pkl\r\n",
      "-rw-r--r--   1 qin  staff   3.2M  8 May 01:32 interest_behaviors_low_2_user.pkl\r\n",
      "-rw-r--r--   1 qin  staff   3.2M  8 May 01:33 interest_behaviors_low_3_user.pkl\r\n",
      "-rw-r--r--   1 qin  staff   3.2M  8 May 01:34 interest_behaviors_low_4_user.pkl\r\n",
      "drwxr-xr-x  14 qin  staff   448B  8 May 02:00 \u001b[1m\u001b[36mprocessed\u001b[m\u001b[m\r\n"
     ]
    }
   ],
   "source": [
    "!ls -ahl $infer_dir"
   ]
  },
  {
   "cell_type": "markdown",
   "id": "d6e175fb",
   "metadata": {},
   "source": [
    "### convert user dict to user vecs"
   ]
  },
  {
   "cell_type": "code",
   "execution_count": 6,
   "id": "fcb329d4",
   "metadata": {},
   "outputs": [],
   "source": [
    "os.makedirs(infer_dir_processed, exist_ok=True)"
   ]
  },
  {
   "cell_type": "code",
   "execution_count": 7,
   "id": "d8ce3526",
   "metadata": {},
   "outputs": [],
   "source": [
    "# convert user dict to user vecs\n",
    "\n",
    "for file_name in sorted(glob.glob(os.path.join(infer_dir, '*user.pkl'))):\n",
    "    with open(file_name, 'rb') as f:\n",
    "        user_dict = pickle.load(f)\n",
    "        \n",
    "    v_list = []\n",
    "    for k, v in user_dict.items():\n",
    "        v_list.append(v)\n",
    "\n",
    "    v_vec = np.asarray(v_list)\n",
    "    file_suffix = file_name.split(\"/\")[-1].split(\".pkl\")[0]\n",
    "\n",
    "    with open(os.path.join(infer_dir_processed, f'{file_suffix}.npy'), 'wb') as f:\n",
    "        pickle.dump(v_vec, f)"
   ]
  },
  {
   "cell_type": "code",
   "execution_count": 8,
   "id": "49550cf8",
   "metadata": {},
   "outputs": [
    {
     "name": "stdout",
     "output_type": "stream",
     "text": [
      "candiate_news_vec.npy              interest_behaviors_high_4_user.npy\r\n",
      "candiate_nid_list.pkl              interest_behaviors_low_0_user.npy\r\n",
      "interest_behaviors_high_0_user.npy interest_behaviors_low_1_user.npy\r\n",
      "interest_behaviors_high_1_user.npy interest_behaviors_low_2_user.npy\r\n",
      "interest_behaviors_high_2_user.npy interest_behaviors_low_3_user.npy\r\n",
      "interest_behaviors_high_3_user.npy interest_behaviors_low_4_user.npy\r\n"
     ]
    }
   ],
   "source": [
    "!ls $infer_dir_processed"
   ]
  },
  {
   "cell_type": "markdown",
   "id": "a4c35661",
   "metadata": {},
   "source": [
    "### find vectors of candidate news"
   ]
  },
  {
   "cell_type": "code",
   "execution_count": 9,
   "id": "cd3c537c",
   "metadata": {},
   "outputs": [
    {
     "name": "stdout",
     "output_type": "stream",
     "text": [
      "  120961 /Users/qin/2022/NewsRec/data/mind/large_test/news.tsv\r\n"
     ]
    }
   ],
   "source": [
    "!wc -l $test_news_path"
   ]
  },
  {
   "cell_type": "code",
   "execution_count": 10,
   "id": "7fcfbdce",
   "metadata": {},
   "outputs": [
    {
     "name": "stdout",
     "output_type": "stream",
     "text": [
      "120961\n"
     ]
    }
   ],
   "source": [
    "nid_list = []\n",
    "with open(test_news_path, 'r') as f:\n",
    "    for line in f:\n",
    "        line_split = line.split('\\t')\n",
    "        nid_list.append(line_split[0])\n",
    "print(len(nid_list))"
   ]
  },
  {
   "cell_type": "code",
   "execution_count": 11,
   "id": "8e07a179",
   "metadata": {},
   "outputs": [],
   "source": [
    "with open(os.path.join(infer_dir, 'interest_behaviors_high_0_news.pkl'), 'rb') as f:\n",
    "    full_news_dict = pickle.load(f)"
   ]
  },
  {
   "cell_type": "code",
   "execution_count": 12,
   "id": "007e4b3d",
   "metadata": {},
   "outputs": [
    {
     "data": {
      "text/plain": [
       "(120961, 120962)"
      ]
     },
     "execution_count": 12,
     "metadata": {},
     "output_type": "execute_result"
    }
   ],
   "source": [
    "len(nid_list), len(full_news_dict)"
   ]
  },
  {
   "cell_type": "code",
   "execution_count": 13,
   "id": "ba161ded",
   "metadata": {},
   "outputs": [],
   "source": [
    "nid2vecs = dict()\n",
    "for idx, nid in enumerate(nid_list):\n",
    "    nid2vecs[nid] = full_news_dict[idx+1]"
   ]
  },
  {
   "cell_type": "code",
   "execution_count": 14,
   "id": "aa6dfcfa",
   "metadata": {},
   "outputs": [
    {
     "data": {
      "text/plain": [
       "(22283, 9)"
      ]
     },
     "execution_count": 14,
     "metadata": {},
     "output_type": "execute_result"
    }
   ],
   "source": [
    "news_df = pd.read_csv(candidate_news_file, sep='\\t', header=None)\n",
    "news_df.columns = ['nid', 'category', 'subcategory', 'title', 'abstract', 'url', 'entity1', 'entity2', 'timestamp']\n",
    "news_df.shape"
   ]
  },
  {
   "cell_type": "code",
   "execution_count": 15,
   "id": "0c2fad39",
   "metadata": {},
   "outputs": [
    {
     "data": {
      "text/plain": [
       "22283"
      ]
     },
     "execution_count": 15,
     "metadata": {},
     "output_type": "execute_result"
    }
   ],
   "source": [
    "nid_list = news_df['nid'].tolist()\n",
    "len(nid_list)"
   ]
  },
  {
   "cell_type": "code",
   "execution_count": 16,
   "id": "da65991a",
   "metadata": {},
   "outputs": [],
   "source": [
    "nid_vecs_arr = []\n",
    "candidate_nid = []\n",
    "for nid in nid_list:\n",
    "    nid_vecs_arr.append(nid2vecs[nid])\n",
    "    candidate_nid.append(nid)"
   ]
  },
  {
   "cell_type": "code",
   "execution_count": 17,
   "id": "505e14b8",
   "metadata": {},
   "outputs": [],
   "source": [
    "with open(os.path.join(infer_dir_processed, f'candiate_nid_list.pkl'), 'wb') as f:\n",
    "     pickle.dump(candidate_nid, f)"
   ]
  },
  {
   "cell_type": "code",
   "execution_count": 18,
   "id": "bdcf183a",
   "metadata": {},
   "outputs": [],
   "source": [
    "nid_vecs_arr = np.asarray(nid_vecs_arr)"
   ]
  },
  {
   "cell_type": "code",
   "execution_count": 19,
   "id": "284b97d4",
   "metadata": {},
   "outputs": [
    {
     "data": {
      "text/plain": [
       "(22283, 400)"
      ]
     },
     "execution_count": 19,
     "metadata": {},
     "output_type": "execute_result"
    }
   ],
   "source": [
    "nid_vecs_arr.shape"
   ]
  },
  {
   "cell_type": "code",
   "execution_count": 20,
   "id": "2c46f727",
   "metadata": {},
   "outputs": [],
   "source": [
    "with open(os.path.join(infer_dir_processed, f'candiate_news_vec.npy'), 'wb') as f:\n",
    "     pickle.dump(nid_vecs_arr, f)"
   ]
  },
  {
   "cell_type": "markdown",
   "id": "753be77f",
   "metadata": {},
   "source": [
    "### results"
   ]
  },
  {
   "cell_type": "code",
   "execution_count": 23,
   "id": "1d44c63f",
   "metadata": {},
   "outputs": [
    {
     "name": "stdout",
     "output_type": "stream",
     "text": [
      "interest_behaviors_high_0\n",
      "mean [0.14935, 0.162375, 0.1644666666666667, 0.1638875, 0.16321000000000005, 0.16345833333333334, 0.16295714285714286, 0.16276875000000002, 0.16189444444444445, 0.160995]\n",
      "std [0.14835625197476515, 0.13584222235740992, 0.12737365853617022, 0.12002062257691384, 0.11510297954440624, 0.11207939119461506, 0.10960350713143355, 0.10803792574109103, 0.1064766999087443, 0.10507835160012743]\n",
      "display ['14.94', '16.24', '16.45', '16.39', '16.32', '16.35', '16.30', '16.28', '16.19', '16.10']\n",
      "**********\n",
      "interest_behaviors_high_1\n",
      "mean [0.10160000000000001, 0.10085000000000002, 0.09841666666666667, 0.0979375, 0.09696, 0.09586666666666667, 0.09506428571428571, 0.09445625, 0.09348888888888889, 0.092905]\n",
      "std [0.114531393076309, 0.0926648665892311, 0.08332829151414702, 0.07939495320075451, 0.07683722014753007, 0.07429202140502332, 0.0724288951105757, 0.07119713801086038, 0.06939385179298428, 0.06880051580475251]\n",
      "display ['10.16', '10.09', '9.84', '9.79', '9.70', '9.59', '9.51', '9.45', '9.35', '9.29']\n",
      "**********\n",
      "interest_behaviors_high_2\n",
      "mean [0.10840000000000001, 0.115725, 0.11916666666666666, 0.1200625, 0.12158000000000001, 0.12209166666666667, 0.12247857142857142, 0.12239375000000001, 0.12262222222222222, 0.12299000000000002]\n",
      "std [0.12640980974592123, 0.11177644821249243, 0.10645486784966149, 0.10206766674001125, 0.09979731258906724, 0.09748012582344955, 0.09552176560387497, 0.09358320808744217, 0.09279654101684695, 0.09170147163486528]\n",
      "display ['10.84', '11.57', '11.92', '12.01', '12.16', '12.21', '12.25', '12.24', '12.26', '12.30']\n",
      "**********\n",
      "interest_behaviors_high_3\n",
      "mean [0.15975, 0.143275, 0.13561666666666666, 0.1293875, 0.12422000000000001, 0.12157500000000002, 0.11891428571428571, 0.11753125, 0.11641666666666667, 0.11518]\n",
      "std [0.17965226828515138, 0.14587160235974647, 0.13557616862856098, 0.12613658209952416, 0.11897138983806149, 0.11495261070690536, 0.11133881366608604, 0.10950349148971232, 0.10789254699714372, 0.10624249432312854]\n",
      "display ['15.97', '14.33', '13.56', '12.94', '12.42', '12.16', '11.89', '11.75', '11.64', '11.52']\n",
      "**********\n",
      "interest_behaviors_high_4\n",
      "mean [0.055850000000000004, 0.066525, 0.06723333333333334, 0.06842500000000001, 0.07012, 0.0714, 0.07318571428571428, 0.07430625, 0.0756, 0.076865]\n",
      "std [0.07263454756519104, 0.051871710739091685, 0.045088936805187836, 0.04171204112723327, 0.03992975832634102, 0.03894206523085857, 0.03860810689955345, 0.03833532099692789, 0.03804413291668921, 0.038407314082085975]\n",
      "display ['5.58', '6.65', '6.72', '6.84', '7.01', '7.14', '7.32', '7.43', '7.56', '7.69']\n",
      "**********\n",
      "interest_behaviors_low_0\n",
      "mean [0.094, 0.09982500000000001, 0.10063333333333334, 0.101675, 0.10229000000000002, 0.10223333333333333, 0.10212142857142857, 0.10211875000000001, 0.10205000000000002, 0.10180000000000002]\n",
      "std [0.11451637437502114, 0.10236561617554989, 0.09486035935931182, 0.09206489219566814, 0.08996752691943911, 0.08799628148709214, 0.08691591966858968, 0.08644070379998939, 0.08571735044124186, 0.08437867029054202]\n",
      "display ['9.40', '9.98', '10.06', '10.17', '10.23', '10.22', '10.21', '10.21', '10.21', '10.18']\n",
      "**********\n",
      "interest_behaviors_low_1\n",
      "mean [0.0685, 0.07035, 0.06923333333333334, 0.06730000000000001, 0.06683000000000001, 0.06550833333333334, 0.06507142857142856, 0.06425, 0.06368888888888888, 0.06344000000000001]\n",
      "std [0.09245404263740986, 0.07194357163777734, 0.06336026620314449, 0.05850286317779669, 0.05646194382059477, 0.05431561508136189, 0.053412096390390136, 0.05226793950405927, 0.05154786341083617, 0.05066425169683255]\n",
      "display ['6.85', '7.03', '6.92', '6.73', '6.68', '6.55', '6.51', '6.42', '6.37', '6.34']\n",
      "**********\n",
      "interest_behaviors_low_2\n",
      "mean [0.05145, 0.060875000000000005, 0.06493333333333334, 0.0675125, 0.06974000000000001, 0.07115833333333335, 0.07242857142857141, 0.07266875, 0.0733, 0.07371000000000001]\n",
      "std [0.08571987809137388, 0.07138266158528975, 0.06459528706578453, 0.061956636801475916, 0.06036167989710028, 0.05977473860252339, 0.05921096837166408, 0.05891296248227126, 0.05879929347858057, 0.058290958990224205]\n",
      "display ['5.15', '6.09', '6.49', '6.75', '6.97', '7.12', '7.24', '7.27', '7.33', '7.37']\n",
      "**********\n",
      "interest_behaviors_low_3\n",
      "mean [0.0728, 0.0645, 0.060033333333333334, 0.05675, 0.054810000000000005, 0.053325000000000004, 0.05239999999999999, 0.05159999999999999, 0.051199999999999996, 0.050605000000000004]\n",
      "std [0.12549964143375072, 0.1003356865726248, 0.09161149248623535, 0.08518032343211665, 0.08031478008436553, 0.07686875494055508, 0.07517703731044148, 0.07325534963400283, 0.0723437746346917, 0.0709562116731157]\n",
      "display ['7.28', '6.45', '6.00', '5.67', '5.48', '5.33', '5.24', '5.16', '5.12', '5.06']\n",
      "**********\n",
      "interest_behaviors_low_4\n",
      "mean [0.045200000000000004, 0.05260000000000001, 0.05188333333333332, 0.05265, 0.053800000000000014, 0.05463333333333334, 0.054928571428571424, 0.0556, 0.05611666666666666, 0.05688000000000001]\n",
      "std [0.06585559961005594, 0.04517455035747451, 0.03885596979730256, 0.03663812904611806, 0.03540564926674838, 0.034273070089114184, 0.03275442017218938, 0.031598793489625514, 0.031138776885515685, 0.030590286039852584]\n",
      "display ['4.52', '5.26', '5.19', '5.27', '5.38', '5.46', '5.49', '5.56', '5.61', '5.69']\n",
      "**********\n"
     ]
    }
   ],
   "source": [
    "\n",
    "# for file_name in sorted(glob.glob(os.path.join(infer_dir_processed, '*user.npy'))):\n",
    "#     file_suffix = file_name.split(\"/\")[-1].split(\".npy\")[0]\n",
    "#     with open(os.path.join(infer_dir_processed, f'candiate_news_vec.npy'), 'rb') as f:\n",
    "#          news_vec = pickle.load(f)\n",
    "#     with open(file_name, 'rb') as f:\n",
    "#          user_vec = pickle.load(f)\n",
    "#     with open(os.path.join(infer_dir_processed, f'candiate_nid_list.pkl'), 'rb') as f:\n",
    "#          candidate_nid = pickle.load(f)\n",
    "            \n",
    "#     bias_detection_df = pd.read_csv(bias_detection_path, header=None, sep='\\t')\n",
    "#     bias_detection_df.columns = ['nid', 'category', 'sub_category', 'bias_prob']\n",
    "\n",
    "#     nis2bias_prob = dict(zip(bias_detection_df['nid'], bias_detection_df['bias_prob']))\n",
    "\n",
    "#     a = np.dot(user_vec, news_vec.T)\n",
    "\n",
    "#     top_n = 100\n",
    "#     aa_arr = []\n",
    "#     for aa in a:\n",
    "#         ind = heapq.nlargest(top_n, range(len(aa)), aa.take)\n",
    "#         aa_prob_list = [nis2bias_prob[candidate_nid[idx]] for idx in ind]\n",
    "#         aa_arr.append(aa_prob_list)\n",
    "#     aa_arr = np.asarray(aa_arr)\n",
    "\n",
    "#     look_num_list = [i*10 for i in range(1, 11)]\n",
    "#     mean_val_list = []\n",
    "#     std_val_list = []\n",
    "#     display_score_list = []\n",
    "#     for look_num in look_num_list:\n",
    "#         bb_arr = aa_arr[:, :look_num]\n",
    "#         bias_prob_list = []\n",
    "#         for bb in bb_arr:\n",
    "#             temp = np.count_nonzero(bb >= 0.5)\n",
    "#             bias_prob_list.append(temp/len(bb))\n",
    "#         bias_prob_list = np.asarray(bias_prob_list)\n",
    "        \n",
    "#         mean_val = np.mean(bias_prob_list, dtype=np.float64)\n",
    "#         std_val = np.std(bias_prob_list, dtype=np.float64)\n",
    "#         display_score = f'{mean_val*100:.2f}'\n",
    "#         mean_val_list.append(mean_val)\n",
    "#         std_val_list.append(std_val)\n",
    "#         display_score_list.append(display_score)\n",
    "    \n",
    "#     file_suffix = file_suffix.split(\"_user\")[0]\n",
    "#     print(file_suffix)\n",
    "#     print('mean', mean_val_list)\n",
    "#     print('std', std_val_list)\n",
    "#     print('display', display_score_list)\n",
    "#     print('*'*10)"
   ]
  }
 ],
 "metadata": {
  "kernelspec": {
   "display_name": "Python 3",
   "language": "python",
   "name": "python3"
  },
  "language_info": {
   "codemirror_mode": {
    "name": "ipython",
    "version": 3
   },
   "file_extension": ".py",
   "mimetype": "text/x-python",
   "name": "python",
   "nbconvert_exporter": "python",
   "pygments_lexer": "ipython3",
   "version": "3.6.8"
  }
 },
 "nbformat": 4,
 "nbformat_minor": 5
}
