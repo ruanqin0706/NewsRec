{
 "cells": [
  {
   "cell_type": "code",
   "execution_count": 2,
   "id": "8a2d401d",
   "metadata": {},
   "outputs": [],
   "source": [
    "import pandas as pd\n",
    "import matplotlib.pyplot as plt\n",
    "from collections import defaultdict\n",
    "import pickle"
   ]
  },
  {
   "cell_type": "code",
   "execution_count": 3,
   "id": "9f21e61a",
   "metadata": {},
   "outputs": [],
   "source": [
    "behavior_path = 'data/behaviors_new.tsv'\n",
    "bias_detection_path = 'data/0929_concat_mind_over_res.csv'"
   ]
  },
  {
   "cell_type": "code",
   "execution_count": 4,
   "id": "66f31ee6",
   "metadata": {},
   "outputs": [],
   "source": [
    "behavior_df = pd.read_csv(behavior_path, sep='\\t', header=None)\n",
    "behavior_df.columns = ['idx', 'uid', 'date', 'history', 'impression']"
   ]
  },
  {
   "cell_type": "code",
   "execution_count": 5,
   "id": "3c5da527",
   "metadata": {},
   "outputs": [
    {
     "data": {
      "text/html": [
       "<div>\n",
       "<style scoped>\n",
       "    .dataframe tbody tr th:only-of-type {\n",
       "        vertical-align: middle;\n",
       "    }\n",
       "\n",
       "    .dataframe tbody tr th {\n",
       "        vertical-align: top;\n",
       "    }\n",
       "\n",
       "    .dataframe thead th {\n",
       "        text-align: right;\n",
       "    }\n",
       "</style>\n",
       "<table border=\"1\" class=\"dataframe\">\n",
       "  <thead>\n",
       "    <tr style=\"text-align: right;\">\n",
       "      <th></th>\n",
       "      <th>idx</th>\n",
       "      <th>uid</th>\n",
       "      <th>date</th>\n",
       "      <th>history</th>\n",
       "      <th>impression</th>\n",
       "    </tr>\n",
       "  </thead>\n",
       "  <tbody>\n",
       "    <tr>\n",
       "      <th>0</th>\n",
       "      <td>2</td>\n",
       "      <td>U231077</td>\n",
       "      <td>11/19/2019 5:28:08 AM</td>\n",
       "      <td>N45124 N84730 N45128 N104312 N70022 N99111 N26...</td>\n",
       "      <td>N14657 N51253 N49521 N126571 N74286 N101071 N1...</td>\n",
       "    </tr>\n",
       "    <tr>\n",
       "      <th>1</th>\n",
       "      <td>4</td>\n",
       "      <td>U320649</td>\n",
       "      <td>11/21/2019 6:03:51 AM</td>\n",
       "      <td>N110863 N7889 N86335 N85056 N115743 N63372 N19...</td>\n",
       "      <td>N119559 N37657 N108085 N91287 N39136 N130190 N...</td>\n",
       "    </tr>\n",
       "    <tr>\n",
       "      <th>2</th>\n",
       "      <td>7</td>\n",
       "      <td>U593249</td>\n",
       "      <td>11/21/2019 10:26:28 AM</td>\n",
       "      <td>N130269 N110630 N127780 N103724 N88400 N57296 ...</td>\n",
       "      <td>N40488 N69116 N47516</td>\n",
       "    </tr>\n",
       "    <tr>\n",
       "      <th>3</th>\n",
       "      <td>9</td>\n",
       "      <td>U394469</td>\n",
       "      <td>11/18/2019 9:21:22 AM</td>\n",
       "      <td>N58992 N109724 N79285 N53198 N121550 N28461 N5...</td>\n",
       "      <td>N55737 N31058 N21387 N111735 N78312 N60321 N12...</td>\n",
       "    </tr>\n",
       "    <tr>\n",
       "      <th>4</th>\n",
       "      <td>14</td>\n",
       "      <td>U44514</td>\n",
       "      <td>11/19/2019 11:45:01 AM</td>\n",
       "      <td>N60061 N124453 N95072 N90578 N80545 N16463 N36...</td>\n",
       "      <td>N2296 N62785 N15647 N16531 N101071 N54103 N646...</td>\n",
       "    </tr>\n",
       "  </tbody>\n",
       "</table>\n",
       "</div>"
      ],
      "text/plain": [
       "   idx      uid                    date  \\\n",
       "0    2  U231077   11/19/2019 5:28:08 AM   \n",
       "1    4  U320649   11/21/2019 6:03:51 AM   \n",
       "2    7  U593249  11/21/2019 10:26:28 AM   \n",
       "3    9  U394469   11/18/2019 9:21:22 AM   \n",
       "4   14   U44514  11/19/2019 11:45:01 AM   \n",
       "\n",
       "                                             history  \\\n",
       "0  N45124 N84730 N45128 N104312 N70022 N99111 N26...   \n",
       "1  N110863 N7889 N86335 N85056 N115743 N63372 N19...   \n",
       "2  N130269 N110630 N127780 N103724 N88400 N57296 ...   \n",
       "3  N58992 N109724 N79285 N53198 N121550 N28461 N5...   \n",
       "4  N60061 N124453 N95072 N90578 N80545 N16463 N36...   \n",
       "\n",
       "                                          impression  \n",
       "0  N14657 N51253 N49521 N126571 N74286 N101071 N1...  \n",
       "1  N119559 N37657 N108085 N91287 N39136 N130190 N...  \n",
       "2                               N40488 N69116 N47516  \n",
       "3  N55737 N31058 N21387 N111735 N78312 N60321 N12...  \n",
       "4  N2296 N62785 N15647 N16531 N101071 N54103 N646...  "
      ]
     },
     "execution_count": 5,
     "metadata": {},
     "output_type": "execute_result"
    }
   ],
   "source": [
    "behavior_df.head()"
   ]
  },
  {
   "cell_type": "code",
   "execution_count": 16,
   "id": "7be8f6df",
   "metadata": {},
   "outputs": [
    {
     "data": {
      "text/plain": [
       "(122137, 4)"
      ]
     },
     "execution_count": 16,
     "metadata": {},
     "output_type": "execute_result"
    }
   ],
   "source": [
    "bias_detection_df = pd.read_csv(bias_detection_path, header=None, sep='\\t')\n",
    "bias_detection_df.columns = ['nid', 'category', 'sub_category', 'bias_prob']\n",
    "print(bias_detection_df.shape)\n",
    "bias_detection_df.head()"
   ]
  },
  {
   "cell_type": "markdown",
   "id": "d10bc0f1",
   "metadata": {},
   "source": [
    "### Step 1: the number of behaviors after filtering historical articles without body content"
   ]
  },
  {
   "cell_type": "code",
   "execution_count": 6,
   "id": "70127d3c",
   "metadata": {},
   "outputs": [
    {
     "name": "stdout",
     "output_type": "stream",
     "text": [
      "  334742 data/behaviors_new.tsv\r\n"
     ]
    }
   ],
   "source": [
    "!wc -l $behavior_path"
   ]
  },
  {
   "cell_type": "markdown",
   "id": "f08c8231",
   "metadata": {},
   "source": [
    "### Step 2: length distribution count"
   ]
  },
  {
   "cell_type": "code",
   "execution_count": 7,
   "id": "1326f8e0",
   "metadata": {},
   "outputs": [],
   "source": [
    "len2num = defaultdict(int)\n",
    "for idx, row in behavior_df.iterrows():\n",
    "    len2num[len(row['history'].split())] += 1"
   ]
  },
  {
   "cell_type": "code",
   "execution_count": 8,
   "id": "a8804141",
   "metadata": {},
   "outputs": [
    {
     "data": {
      "text/plain": [
       "<BarContainer object of 194 artists>"
      ]
     },
     "execution_count": 8,
     "metadata": {},
     "output_type": "execute_result"
    },
    {
     "data": {
      "image/png": "[encoded data removed]",
      "text/plain": [
       "<Figure size 432x288 with 1 Axes>"
      ]
     },
     "metadata": {
      "needs_background": "light"
     },
     "output_type": "display_data"
    }
   ],
   "source": [
    "plt.bar(len2num.keys(), len2num.values())"
   ]
  },
  {
   "cell_type": "code",
   "execution_count": 9,
   "id": "d9ac067a",
   "metadata": {},
   "outputs": [
    {
     "data": {
      "text/plain": [
       "(334742, 5)"
      ]
     },
     "execution_count": 9,
     "metadata": {},
     "output_type": "execute_result"
    }
   ],
   "source": [
    "behavior_df.shape"
   ]
  },
  {
   "cell_type": "markdown",
   "id": "ce19018b",
   "metadata": {},
   "source": [
    "### Step 3:  Filter some browsing records that are too short"
   ]
  },
  {
   "cell_type": "code",
   "execution_count": 10,
   "id": "e7271ff2",
   "metadata": {},
   "outputs": [],
   "source": [
    "def filter_by_length(history, min_len=5):\n",
    "    if len(history.split()) < min_len:\n",
    "        return False\n",
    "    else:\n",
    "        return True"
   ]
  },
  {
   "cell_type": "code",
   "execution_count": 11,
   "id": "3b9a1fcd",
   "metadata": {},
   "outputs": [],
   "source": [
    "len_indice = behavior_df.apply(lambda x: filter_by_length(x['history'], min_len=5), axis=1)"
   ]
  },
  {
   "cell_type": "code",
   "execution_count": 12,
   "id": "6d28e0d5",
   "metadata": {},
   "outputs": [],
   "source": [
    "behavior_df = behavior_df[len_indice]"
   ]
  },
  {
   "cell_type": "code",
   "execution_count": 13,
   "id": "1b3188bc",
   "metadata": {},
   "outputs": [
    {
     "data": {
      "text/plain": [
       "(280462, 5)"
      ]
     },
     "execution_count": 13,
     "metadata": {},
     "output_type": "execute_result"
    }
   ],
   "source": [
    "behavior_df.shape"
   ]
  },
  {
   "cell_type": "markdown",
   "id": "9d1f2574",
   "metadata": {},
   "source": [
    "### Step 4: calculate bias proportion for each user"
   ]
  },
  {
   "cell_type": "code",
   "execution_count": 18,
   "id": "4a6f37ce",
   "metadata": {},
   "outputs": [],
   "source": [
    "nid2prob = dict(zip(bias_detection_df['nid'], bias_detection_df['bias_prob']))"
   ]
  },
  {
   "cell_type": "code",
   "execution_count": 19,
   "id": "f771c1f3",
   "metadata": {},
   "outputs": [
    {
     "data": {
      "text/plain": [
       "122137"
      ]
     },
     "execution_count": 19,
     "metadata": {},
     "output_type": "execute_result"
    }
   ],
   "source": [
    "len(nid2prob)"
   ]
  },
  {
   "cell_type": "code",
   "execution_count": 20,
   "id": "15def57f",
   "metadata": {},
   "outputs": [],
   "source": [
    "\n",
    "# uid, num_unbiased, num_biased, num_unknown, unbiased_nid_list, biased_nid_list\n",
    "\n",
    "def get_user_info(user_group, news_bias_path):\n",
    "    empty_uids = []\n",
    "    num_miss_uid = 0\n",
    "    uid_list = []\n",
    "    num_unbiased_list = []\n",
    "    num_biased_list = []\n",
    "    num_unknown_list = []\n",
    "    num_total_list = []\n",
    "    total_nid_unbiased_list = []\n",
    "    total_nid_biased_list = []\n",
    "    total_nid_unknown_list = []\n",
    "    \n",
    "    news_bias_df = pd.read_csv(news_bias_path, sep=\"\\t\", header=None)\n",
    "    news_bias_df.columns = ['nid', 'category', 'sub_category', 'bias_prob']\n",
    "    nid2category = news_bias_df.set_index('nid').to_dict()['category']\n",
    "    nid2sub_category = news_bias_df.set_index('nid').to_dict()['sub_category']\n",
    "    nid2bias_prob = news_bias_df.set_index('nid').to_dict()['bias_prob']\n",
    "    \n",
    "    for uid, grouped in user_group:\n",
    "        \n",
    "        try:\n",
    "            num_unbiased = 0\n",
    "            num_biased = 0\n",
    "            num_unknown = 0\n",
    "            nid_biased_list = []\n",
    "            nid_unbiased_list = []\n",
    "            nid_unknown_list = []\n",
    "            \n",
    "            nid_history_list = grouped.iloc[0][\"history\"].split(\" \")\n",
    "            for nid in nid_history_list:\n",
    "                if nid in nid2bias_prob:\n",
    "                    if nid2bias_prob[nid] >= 0.5:\n",
    "                        num_biased += 1\n",
    "                        nid_biased_list.append(nid)\n",
    "                    else:\n",
    "                        num_unbiased += 1\n",
    "                        nid_unbiased_list.append(nid)\n",
    "                else:\n",
    "                    num_unknown += 1\n",
    "                    nid_unknown_list.append(nid)\n",
    "            \n",
    "            uid_list.append(uid)\n",
    "            num_unbiased_list.append(num_unbiased)\n",
    "            num_biased_list.append(num_biased)\n",
    "            num_unknown_list.append(num_unknown)\n",
    "            num_total_list.append(len(nid_history_list))\n",
    "            total_nid_unbiased_list.append(nid_unbiased_list)\n",
    "            total_nid_biased_list.append(nid_biased_list)\n",
    "            total_nid_unknown_list.append(nid_unknown_list)\n",
    "        except:\n",
    "            empty_uids.append(uid)\n",
    "            num_miss_uid += 1\n",
    "            \n",
    "    assert len(empty_uids) == num_miss_uid\n",
    "    user_info_df = pd.DataFrame(\n",
    "        {'uid': uid_list,\n",
    "         'num_unbiased': num_unbiased_list,\n",
    "         'num_biased': num_biased_list,\n",
    "         'num_unknown': num_unknown_list,\n",
    "         'num_total': num_total_list,\n",
    "         'total_nid_unbiased': total_nid_unbiased_list,\n",
    "         'total_nid_biased': total_nid_biased_list,\n",
    "         'total_nid_unknown': total_nid_unknown_list,\n",
    "        }\n",
    "    )\n",
    "    \n",
    "    return user_info_df, empty_uids\n",
    "\n",
    "\n",
    "\n"
   ]
  },
  {
   "cell_type": "code",
   "execution_count": 21,
   "id": "368316c3",
   "metadata": {},
   "outputs": [],
   "source": [
    "user_group = behavior_df.groupby('uid')"
   ]
  },
  {
   "cell_type": "code",
   "execution_count": 22,
   "id": "a3b918dd",
   "metadata": {},
   "outputs": [],
   "source": [
    "user_info_df, empty_uids = get_user_info(user_group=user_group, \n",
    "                                         news_bias_path=bias_detection_path)"
   ]
  },
  {
   "cell_type": "code",
   "execution_count": 23,
   "id": "1e8d569e",
   "metadata": {},
   "outputs": [
    {
     "data": {
      "text/plain": [
       "[]"
      ]
     },
     "execution_count": 23,
     "metadata": {},
     "output_type": "execute_result"
    }
   ],
   "source": [
    "empty_uids"
   ]
  },
  {
   "cell_type": "code",
   "execution_count": 24,
   "id": "bc3f3404",
   "metadata": {},
   "outputs": [
    {
     "data": {
      "text/html": [
       "<div>\n",
       "<style scoped>\n",
       "    .dataframe tbody tr th:only-of-type {\n",
       "        vertical-align: middle;\n",
       "    }\n",
       "\n",
       "    .dataframe tbody tr th {\n",
       "        vertical-align: top;\n",
       "    }\n",
       "\n",
       "    .dataframe thead th {\n",
       "        text-align: right;\n",
       "    }\n",
       "</style>\n",
       "<table border=\"1\" class=\"dataframe\">\n",
       "  <thead>\n",
       "    <tr style=\"text-align: right;\">\n",
       "      <th></th>\n",
       "      <th>uid</th>\n",
       "      <th>num_unbiased</th>\n",
       "      <th>num_biased</th>\n",
       "      <th>num_unknown</th>\n",
       "      <th>num_total</th>\n",
       "      <th>total_nid_unbiased</th>\n",
       "      <th>total_nid_biased</th>\n",
       "      <th>total_nid_unknown</th>\n",
       "    </tr>\n",
       "  </thead>\n",
       "  <tbody>\n",
       "    <tr>\n",
       "      <th>0</th>\n",
       "      <td>U1000</td>\n",
       "      <td>9</td>\n",
       "      <td>2</td>\n",
       "      <td>0</td>\n",
       "      <td>11</td>\n",
       "      <td>[N20131, N65823, N65823, N111503, N3992, N1047...</td>\n",
       "      <td>[N33446, N70022]</td>\n",
       "      <td>[]</td>\n",
       "    </tr>\n",
       "    <tr>\n",
       "      <th>1</th>\n",
       "      <td>U100008</td>\n",
       "      <td>8</td>\n",
       "      <td>1</td>\n",
       "      <td>0</td>\n",
       "      <td>9</td>\n",
       "      <td>[N85167, N124096, N72980, N6120, N14320, N1196...</td>\n",
       "      <td>[N46329]</td>\n",
       "      <td>[]</td>\n",
       "    </tr>\n",
       "    <tr>\n",
       "      <th>2</th>\n",
       "      <td>U100016</td>\n",
       "      <td>8</td>\n",
       "      <td>4</td>\n",
       "      <td>0</td>\n",
       "      <td>12</td>\n",
       "      <td>[N80883, N124796, N89166, N99279, N107732, N70...</td>\n",
       "      <td>[N20915, N79214, N29936, N29044]</td>\n",
       "      <td>[]</td>\n",
       "    </tr>\n",
       "    <tr>\n",
       "      <th>3</th>\n",
       "      <td>U100019</td>\n",
       "      <td>16</td>\n",
       "      <td>1</td>\n",
       "      <td>0</td>\n",
       "      <td>17</td>\n",
       "      <td>[N55903, N98238, N109468, N29748, N123353, N73...</td>\n",
       "      <td>[N126000]</td>\n",
       "      <td>[]</td>\n",
       "    </tr>\n",
       "    <tr>\n",
       "      <th>4</th>\n",
       "      <td>U100020</td>\n",
       "      <td>5</td>\n",
       "      <td>0</td>\n",
       "      <td>0</td>\n",
       "      <td>5</td>\n",
       "      <td>[N119718, N126611, N127629, N3664, N93856]</td>\n",
       "      <td>[]</td>\n",
       "      <td>[]</td>\n",
       "    </tr>\n",
       "  </tbody>\n",
       "</table>\n",
       "</div>"
      ],
      "text/plain": [
       "       uid  num_unbiased  num_biased  num_unknown  num_total  \\\n",
       "0    U1000             9           2            0         11   \n",
       "1  U100008             8           1            0          9   \n",
       "2  U100016             8           4            0         12   \n",
       "3  U100019            16           1            0         17   \n",
       "4  U100020             5           0            0          5   \n",
       "\n",
       "                                  total_nid_unbiased  \\\n",
       "0  [N20131, N65823, N65823, N111503, N3992, N1047...   \n",
       "1  [N85167, N124096, N72980, N6120, N14320, N1196...   \n",
       "2  [N80883, N124796, N89166, N99279, N107732, N70...   \n",
       "3  [N55903, N98238, N109468, N29748, N123353, N73...   \n",
       "4         [N119718, N126611, N127629, N3664, N93856]   \n",
       "\n",
       "                   total_nid_biased total_nid_unknown  \n",
       "0                  [N33446, N70022]                []  \n",
       "1                          [N46329]                []  \n",
       "2  [N20915, N79214, N29936, N29044]                []  \n",
       "3                         [N126000]                []  \n",
       "4                                []                []  "
      ]
     },
     "execution_count": 24,
     "metadata": {},
     "output_type": "execute_result"
    }
   ],
   "source": [
    "user_info_df.head()"
   ]
  },
  {
   "cell_type": "code",
   "execution_count": 22,
   "id": "a8dc8442",
   "metadata": {},
   "outputs": [
    {
     "data": {
      "text/html": [
       "<div>\n",
       "<style scoped>\n",
       "    .dataframe tbody tr th:only-of-type {\n",
       "        vertical-align: middle;\n",
       "    }\n",
       "\n",
       "    .dataframe tbody tr th {\n",
       "        vertical-align: top;\n",
       "    }\n",
       "\n",
       "    .dataframe thead th {\n",
       "        text-align: right;\n",
       "    }\n",
       "</style>\n",
       "<table border=\"1\" class=\"dataframe\">\n",
       "  <thead>\n",
       "    <tr style=\"text-align: right;\">\n",
       "      <th></th>\n",
       "      <th>uid</th>\n",
       "      <th>num_unbiased</th>\n",
       "      <th>num_biased</th>\n",
       "      <th>num_unknown</th>\n",
       "      <th>num_total</th>\n",
       "      <th>total_nid_unbiased</th>\n",
       "      <th>total_nid_biased</th>\n",
       "      <th>total_nid_unknown</th>\n",
       "    </tr>\n",
       "  </thead>\n",
       "  <tbody>\n",
       "    <tr>\n",
       "      <th>0</th>\n",
       "      <td>U1000</td>\n",
       "      <td>9</td>\n",
       "      <td>2</td>\n",
       "      <td>0</td>\n",
       "      <td>11</td>\n",
       "      <td>[N20131, N65823, N65823, N111503, N3992, N1047...</td>\n",
       "      <td>[N33446, N70022]</td>\n",
       "      <td>[]</td>\n",
       "    </tr>\n",
       "    <tr>\n",
       "      <th>1</th>\n",
       "      <td>U100008</td>\n",
       "      <td>8</td>\n",
       "      <td>1</td>\n",
       "      <td>0</td>\n",
       "      <td>9</td>\n",
       "      <td>[N85167, N124096, N72980, N6120, N14320, N1196...</td>\n",
       "      <td>[N46329]</td>\n",
       "      <td>[]</td>\n",
       "    </tr>\n",
       "    <tr>\n",
       "      <th>2</th>\n",
       "      <td>U100016</td>\n",
       "      <td>8</td>\n",
       "      <td>4</td>\n",
       "      <td>0</td>\n",
       "      <td>12</td>\n",
       "      <td>[N80883, N124796, N89166, N99279, N107732, N70...</td>\n",
       "      <td>[N20915, N79214, N29936, N29044]</td>\n",
       "      <td>[]</td>\n",
       "    </tr>\n",
       "    <tr>\n",
       "      <th>3</th>\n",
       "      <td>U100019</td>\n",
       "      <td>16</td>\n",
       "      <td>1</td>\n",
       "      <td>0</td>\n",
       "      <td>17</td>\n",
       "      <td>[N55903, N98238, N109468, N29748, N123353, N73...</td>\n",
       "      <td>[N126000]</td>\n",
       "      <td>[]</td>\n",
       "    </tr>\n",
       "    <tr>\n",
       "      <th>4</th>\n",
       "      <td>U100020</td>\n",
       "      <td>5</td>\n",
       "      <td>0</td>\n",
       "      <td>0</td>\n",
       "      <td>5</td>\n",
       "      <td>[N119718, N126611, N127629, N3664, N93856]</td>\n",
       "      <td>[]</td>\n",
       "      <td>[]</td>\n",
       "    </tr>\n",
       "  </tbody>\n",
       "</table>\n",
       "</div>"
      ],
      "text/plain": [
       "       uid  num_unbiased  num_biased  num_unknown  num_total  \\\n",
       "0    U1000             9           2            0         11   \n",
       "1  U100008             8           1            0          9   \n",
       "2  U100016             8           4            0         12   \n",
       "3  U100019            16           1            0         17   \n",
       "4  U100020             5           0            0          5   \n",
       "\n",
       "                                  total_nid_unbiased  \\\n",
       "0  [N20131, N65823, N65823, N111503, N3992, N1047...   \n",
       "1  [N85167, N124096, N72980, N6120, N14320, N1196...   \n",
       "2  [N80883, N124796, N89166, N99279, N107732, N70...   \n",
       "3  [N55903, N98238, N109468, N29748, N123353, N73...   \n",
       "4         [N119718, N126611, N127629, N3664, N93856]   \n",
       "\n",
       "                   total_nid_biased total_nid_unknown  \n",
       "0                  [N33446, N70022]                []  \n",
       "1                          [N46329]                []  \n",
       "2  [N20915, N79214, N29936, N29044]                []  \n",
       "3                         [N126000]                []  \n",
       "4                                []                []  "
      ]
     },
     "execution_count": 22,
     "metadata": {},
     "output_type": "execute_result"
    }
   ],
   "source": [
    "user_info_df.head()"
   ]
  },
  {
   "cell_type": "code",
   "execution_count": 25,
   "id": "763ffc1c",
   "metadata": {},
   "outputs": [],
   "source": [
    "user_info_df['bias_prop'] = user_info_df['num_biased'] / user_info_df['num_total']"
   ]
  },
  {
   "cell_type": "code",
   "execution_count": 26,
   "id": "abbccb2f",
   "metadata": {},
   "outputs": [
    {
     "data": {
      "text/html": [
       "<div>\n",
       "<style scoped>\n",
       "    .dataframe tbody tr th:only-of-type {\n",
       "        vertical-align: middle;\n",
       "    }\n",
       "\n",
       "    .dataframe tbody tr th {\n",
       "        vertical-align: top;\n",
       "    }\n",
       "\n",
       "    .dataframe thead th {\n",
       "        text-align: right;\n",
       "    }\n",
       "</style>\n",
       "<table border=\"1\" class=\"dataframe\">\n",
       "  <thead>\n",
       "    <tr style=\"text-align: right;\">\n",
       "      <th></th>\n",
       "      <th>uid</th>\n",
       "      <th>num_unbiased</th>\n",
       "      <th>num_biased</th>\n",
       "      <th>num_unknown</th>\n",
       "      <th>num_total</th>\n",
       "      <th>total_nid_unbiased</th>\n",
       "      <th>total_nid_biased</th>\n",
       "      <th>total_nid_unknown</th>\n",
       "      <th>bias_prop</th>\n",
       "    </tr>\n",
       "  </thead>\n",
       "  <tbody>\n",
       "    <tr>\n",
       "      <th>0</th>\n",
       "      <td>U1000</td>\n",
       "      <td>9</td>\n",
       "      <td>2</td>\n",
       "      <td>0</td>\n",
       "      <td>11</td>\n",
       "      <td>[N20131, N65823, N65823, N111503, N3992, N1047...</td>\n",
       "      <td>[N33446, N70022]</td>\n",
       "      <td>[]</td>\n",
       "      <td>0.181818</td>\n",
       "    </tr>\n",
       "    <tr>\n",
       "      <th>1</th>\n",
       "      <td>U100008</td>\n",
       "      <td>8</td>\n",
       "      <td>1</td>\n",
       "      <td>0</td>\n",
       "      <td>9</td>\n",
       "      <td>[N85167, N124096, N72980, N6120, N14320, N1196...</td>\n",
       "      <td>[N46329]</td>\n",
       "      <td>[]</td>\n",
       "      <td>0.111111</td>\n",
       "    </tr>\n",
       "    <tr>\n",
       "      <th>2</th>\n",
       "      <td>U100016</td>\n",
       "      <td>8</td>\n",
       "      <td>4</td>\n",
       "      <td>0</td>\n",
       "      <td>12</td>\n",
       "      <td>[N80883, N124796, N89166, N99279, N107732, N70...</td>\n",
       "      <td>[N20915, N79214, N29936, N29044]</td>\n",
       "      <td>[]</td>\n",
       "      <td>0.333333</td>\n",
       "    </tr>\n",
       "    <tr>\n",
       "      <th>3</th>\n",
       "      <td>U100019</td>\n",
       "      <td>16</td>\n",
       "      <td>1</td>\n",
       "      <td>0</td>\n",
       "      <td>17</td>\n",
       "      <td>[N55903, N98238, N109468, N29748, N123353, N73...</td>\n",
       "      <td>[N126000]</td>\n",
       "      <td>[]</td>\n",
       "      <td>0.058824</td>\n",
       "    </tr>\n",
       "    <tr>\n",
       "      <th>4</th>\n",
       "      <td>U100020</td>\n",
       "      <td>5</td>\n",
       "      <td>0</td>\n",
       "      <td>0</td>\n",
       "      <td>5</td>\n",
       "      <td>[N119718, N126611, N127629, N3664, N93856]</td>\n",
       "      <td>[]</td>\n",
       "      <td>[]</td>\n",
       "      <td>0.000000</td>\n",
       "    </tr>\n",
       "  </tbody>\n",
       "</table>\n",
       "</div>"
      ],
      "text/plain": [
       "       uid  num_unbiased  num_biased  num_unknown  num_total  \\\n",
       "0    U1000             9           2            0         11   \n",
       "1  U100008             8           1            0          9   \n",
       "2  U100016             8           4            0         12   \n",
       "3  U100019            16           1            0         17   \n",
       "4  U100020             5           0            0          5   \n",
       "\n",
       "                                  total_nid_unbiased  \\\n",
       "0  [N20131, N65823, N65823, N111503, N3992, N1047...   \n",
       "1  [N85167, N124096, N72980, N6120, N14320, N1196...   \n",
       "2  [N80883, N124796, N89166, N99279, N107732, N70...   \n",
       "3  [N55903, N98238, N109468, N29748, N123353, N73...   \n",
       "4         [N119718, N126611, N127629, N3664, N93856]   \n",
       "\n",
       "                   total_nid_biased total_nid_unknown  bias_prop  \n",
       "0                  [N33446, N70022]                []   0.181818  \n",
       "1                          [N46329]                []   0.111111  \n",
       "2  [N20915, N79214, N29936, N29044]                []   0.333333  \n",
       "3                         [N126000]                []   0.058824  \n",
       "4                                []                []   0.000000  "
      ]
     },
     "execution_count": 26,
     "metadata": {},
     "output_type": "execute_result"
    }
   ],
   "source": [
    "user_info_df.head()"
   ]
  },
  {
   "cell_type": "code",
   "execution_count": 28,
   "id": "e6a48c9a",
   "metadata": {},
   "outputs": [],
   "source": [
    "user_info_df_1 = user_info_df.loc[(user_info_df['bias_prop'] > 0.0) & (user_info_df['bias_prop'] < 0.1)]  # too many 0 shaould be consided\n",
    "user_info_df_2 = user_info_df.loc[(user_info_df['bias_prop'] >= 0.1) & (user_info_df['bias_prop'] < 0.2)] \n",
    "user_info_df_3 = user_info_df.loc[(user_info_df['bias_prop'] >= 0.2) & (user_info_df['bias_prop'] < 0.3)] \n",
    "user_info_df_4 = user_info_df.loc[(user_info_df['bias_prop'] >= 0.3) & (user_info_df['bias_prop'] < 0.4)] \n",
    "user_info_df_5 = user_info_df.loc[(user_info_df['bias_prop'] >= 0.4)] "
   ]
  },
  {
   "cell_type": "code",
   "execution_count": 29,
   "id": "05e19ded",
   "metadata": {},
   "outputs": [
    {
     "data": {
      "text/plain": [
       "((43149, 9), (82000, 9), (44965, 9), (14248, 9), (10776, 9))"
      ]
     },
     "execution_count": 29,
     "metadata": {},
     "output_type": "execute_result"
    }
   ],
   "source": [
    "user_info_df_1.shape, user_info_df_2.shape, user_info_df_3.shape, user_info_df_4.shape, user_info_df_5.shape"
   ]
  },
  {
   "cell_type": "markdown",
   "id": "591a4fbc",
   "metadata": {},
   "source": [
    "### Step 5. Count the number of users in each interval"
   ]
  },
  {
   "cell_type": "code",
   "execution_count": 32,
   "id": "4e3c5d98",
   "metadata": {},
   "outputs": [],
   "source": [
    "\n",
    "intervals = {\n",
    "    '(0%~10%)': user_info_df_1.shape[0],\n",
    "    '[10%~20%)': user_info_df_2.shape[0],\n",
    "    '[20%~30%)': user_info_df_3.shape[0],\n",
    "    '[30%~40%)': user_info_df_4.shape[0],\n",
    "    '[40%~100%]': user_info_df_5.shape[0],\n",
    "}\n"
   ]
  },
  {
   "cell_type": "code",
   "execution_count": 33,
   "id": "660cf4d8",
   "metadata": {},
   "outputs": [
    {
     "data": {
      "text/plain": [
       "{'(0%~10%)': 43149,\n",
       " '[10%~20%)': 82000,\n",
       " '[20%~30%)': 44965,\n",
       " '[30%~40%)': 14248,\n",
       " '[40%~100%]': 10776}"
      ]
     },
     "execution_count": 33,
     "metadata": {},
     "output_type": "execute_result"
    }
   ],
   "source": [
    "# the number of users in each group\n",
    "intervals\n",
    "\n",
    "\n",
    "# {'(0%~10%)': 43149,\n",
    "#  '[10%~20%)': 82000,\n",
    "#  '[20%~30%)': 44965,\n",
    "#  '[30%~40%)': 14248,\n",
    "#  '[40%~100%]': 10776}"
   ]
  },
  {
   "cell_type": "code",
   "execution_count": 34,
   "id": "d4c0c2f8",
   "metadata": {},
   "outputs": [
    {
     "data": {
      "image/png": "[encoded data removed]",
      "text/plain": [
       "<Figure size 432x288 with 1 Axes>"
      ]
     },
     "metadata": {
      "needs_background": "light"
     },
     "output_type": "display_data"
    }
   ],
   "source": [
    "\n",
    "\n",
    "plt.bar(intervals.keys(), intervals.values())\n",
    "plt.xlabel('Bias Proportion Intervals')\n",
    "plt.ylabel('The Number of Users')\n",
    "plt.legend('loc=upper right')\n",
    "plt.savefig(f'data/user_biasprop_distribution.png')"
   ]
  },
  {
   "cell_type": "code",
   "execution_count": 35,
   "id": "005e8973",
   "metadata": {},
   "outputs": [],
   "source": [
    "intervals = {\n",
    "    '0.0~0.1': user_info_df_1.shape[0],\n",
    "    '0.1~0.2': user_info_df_2.shape[0],\n",
    "    '0.2~0.3': user_info_df_3.shape[0],\n",
    "    '0.3~0.4': user_info_df_4.shape[0],\n",
    "    '0.4~0.5': user_info_df_5.shape[0],\n",
    "}"
   ]
  },
  {
   "cell_type": "code",
   "execution_count": 36,
   "id": "d2dd57a7",
   "metadata": {},
   "outputs": [
    {
     "data": {
      "text/plain": [
       "{'0.0~0.1': 43149,\n",
       " '0.1~0.2': 82000,\n",
       " '0.2~0.3': 44965,\n",
       " '0.3~0.4': 14248,\n",
       " '0.4~0.5': 10776}"
      ]
     },
     "execution_count": 36,
     "metadata": {},
     "output_type": "execute_result"
    }
   ],
   "source": [
    "intervals"
   ]
  },
  {
   "cell_type": "code",
   "execution_count": 37,
   "id": "765eb1e7",
   "metadata": {},
   "outputs": [
    {
     "data": {
      "text/plain": [
       "<BarContainer object of 5 artists>"
      ]
     },
     "execution_count": 37,
     "metadata": {},
     "output_type": "execute_result"
    },
    {
     "data": {
      "image/png": "[encoded data removed]",
      "text/plain": [
       "<Figure size 432x288 with 1 Axes>"
      ]
     },
     "metadata": {
      "needs_background": "light"
     },
     "output_type": "display_data"
    }
   ],
   "source": [
    "plt.bar(intervals.keys(), intervals.values())\n"
   ]
  },
  {
   "cell_type": "markdown",
   "id": "22a999b4",
   "metadata": {},
   "source": [
    "### Step 6. random sample n from each interval"
   ]
  },
  {
   "cell_type": "code",
   "execution_count": 38,
   "id": "08357628",
   "metadata": {},
   "outputs": [],
   "source": [
    "num_sample = 2000"
   ]
  },
  {
   "cell_type": "code",
   "execution_count": 39,
   "id": "6ad0c951",
   "metadata": {},
   "outputs": [],
   "source": [
    "user_info_df_1 = user_info_df_1.sample(n=num_sample, random_state=2022)\n",
    "user_info_df_2 = user_info_df_2.sample(n=num_sample, random_state=2022)\n",
    "user_info_df_3 = user_info_df_3.sample(n=num_sample, random_state=2022)\n",
    "user_info_df_4 = user_info_df_4.sample(n=num_sample, random_state=2022)\n",
    "user_info_df_5 = user_info_df_5.sample(n=num_sample, random_state=2022)"
   ]
  },
  {
   "cell_type": "code",
   "execution_count": 40,
   "id": "5ba75921",
   "metadata": {},
   "outputs": [
    {
     "data": {
      "text/plain": [
       "(2000, 9)"
      ]
     },
     "execution_count": 40,
     "metadata": {},
     "output_type": "execute_result"
    }
   ],
   "source": [
    "user_info_df_1.shape"
   ]
  },
  {
   "cell_type": "code",
   "execution_count": 41,
   "id": "311cb6be",
   "metadata": {},
   "outputs": [
    {
     "data": {
      "text/plain": [
       "0.4715652631304113"
      ]
     },
     "execution_count": 41,
     "metadata": {},
     "output_type": "execute_result"
    }
   ],
   "source": [
    "user_info_df_5['bias_prop'].mean()"
   ]
  },
  {
   "cell_type": "code",
   "execution_count": 42,
   "id": "f4a69542",
   "metadata": {},
   "outputs": [
    {
     "data": {
      "text/plain": [
       "0.3358246675705566"
      ]
     },
     "execution_count": 42,
     "metadata": {},
     "output_type": "execute_result"
    }
   ],
   "source": [
    "user_info_df_4['bias_prop'].mean()"
   ]
  },
  {
   "cell_type": "code",
   "execution_count": 43,
   "id": "915ab77f",
   "metadata": {},
   "outputs": [
    {
     "data": {
      "text/plain": [
       "0.2306141069167364"
      ]
     },
     "execution_count": 43,
     "metadata": {},
     "output_type": "execute_result"
    }
   ],
   "source": [
    "user_info_df_3['bias_prop'].mean()"
   ]
  },
  {
   "cell_type": "code",
   "execution_count": 44,
   "id": "fb437c43",
   "metadata": {},
   "outputs": [
    {
     "data": {
      "text/plain": [
       "0.139937218405384"
      ]
     },
     "execution_count": 44,
     "metadata": {},
     "output_type": "execute_result"
    }
   ],
   "source": [
    "user_info_df_2['bias_prop'].mean()"
   ]
  },
  {
   "cell_type": "code",
   "execution_count": 45,
   "id": "00f1ff73",
   "metadata": {},
   "outputs": [
    {
     "data": {
      "text/plain": [
       "0.06918186697908019"
      ]
     },
     "execution_count": 45,
     "metadata": {},
     "output_type": "execute_result"
    }
   ],
   "source": [
    "user_info_df_1['bias_prop'].mean()"
   ]
  },
  {
   "cell_type": "markdown",
   "id": "86ee3611",
   "metadata": {},
   "source": [
    "### 保存userid"
   ]
  },
  {
   "cell_type": "code",
   "execution_count": 46,
   "id": "9720099a",
   "metadata": {},
   "outputs": [],
   "source": [
    "user_info_dict_2000 = {\n",
    "    '1': user_info_df_1,\n",
    "    '2': user_info_df_2,\n",
    "    '3': user_info_df_3,\n",
    "    '4': user_info_df_4,\n",
    "    '5': user_info_df_5,\n",
    "}"
   ]
  },
  {
   "cell_type": "code",
   "execution_count": 47,
   "id": "54e9dcb4",
   "metadata": {},
   "outputs": [],
   "source": [
    "with open('data/user_info_dict_2000.pkl', \"wb\") as f:\n",
    "    pickle.dump(user_info_dict_2000, f)"
   ]
  },
  {
   "cell_type": "code",
   "execution_count": null,
   "id": "f75e58f5",
   "metadata": {},
   "outputs": [],
   "source": []
  }
 ],
 "metadata": {
  "kernelspec": {
   "display_name": "Python 3",
   "language": "python",
   "name": "python3"
  },
  "language_info": {
   "codemirror_mode": {
    "name": "ipython",
    "version": 3
   },
   "file_extension": ".py",
   "mimetype": "text/x-python",
   "name": "python",
   "nbconvert_exporter": "python",
   "pygments_lexer": "ipython3",
   "version": "3.6.8"
  }
 },
 "nbformat": 4,
 "nbformat_minor": 5
}
