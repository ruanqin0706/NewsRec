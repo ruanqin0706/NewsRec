{
 "cells": [
  {
   "cell_type": "code",
   "execution_count": 1,
   "id": "6ddeb27f",
   "metadata": {},
   "outputs": [],
   "source": [
    "import pickle\n",
    "import os\n",
    "import pandas as pd\n",
    "import numpy as np\n",
    "import heapq"
   ]
  },
  {
   "cell_type": "code",
   "execution_count": 3,
   "id": "e11c8e7c",
   "metadata": {},
   "outputs": [],
   "source": [
    "test_news_path = '..infer/mind/large_test/news.tsv'\n",
    "bias_prob_lstur_dir = '../infer/bias_prob_lstur/infer_large_lstur/'\n",
    "bias_detection_path = 'data/0929_concat_mind_over_res.csv'\n",
    "candidate_news_file = 'data/news_new_with_time.tsv'"
   ]
  },
  {
   "cell_type": "code",
   "execution_count": 4,
   "id": "5f081faa",
   "metadata": {},
   "outputs": [],
   "source": [
    "with open(os.path.join(bias_prob_lstur_dir, 'news.pkl'), 'rb') as f:\n",
    "    bias_prob_lstur_news = pickle.load(f)"
   ]
  },
  {
   "cell_type": "code",
   "execution_count": 5,
   "id": "b1c3321c",
   "metadata": {},
   "outputs": [
    {
     "data": {
      "text/plain": [
       "dict"
      ]
     },
     "execution_count": 5,
     "metadata": {},
     "output_type": "execute_result"
    }
   ],
   "source": [
    "type(bias_prob_lstur_news)"
   ]
  },
  {
   "cell_type": "code",
   "execution_count": 6,
   "id": "655f8a69",
   "metadata": {},
   "outputs": [
    {
     "name": "stdout",
     "output_type": "stream",
     "text": [
      "(2000, 400)\n",
      "(2000, 400)\n",
      "(2000, 400)\n",
      "(2000, 400)\n",
      "(2000, 400)\n"
     ]
    }
   ],
   "source": [
    "\n",
    "for i in range(1, 6):\n",
    "    with open(os.path.join(bias_prob_lstur_dir, f'user{i}.pkl'), 'rb') as f:\n",
    "        bias_prob_lstur_user = pickle.load(f)\n",
    "\n",
    "        v_list = []\n",
    "        for k, v in bias_prob_lstur_user.items():\n",
    "            v_list.append(v)\n",
    "\n",
    "        v_vec = np.asarray(v_list)\n",
    "        print(v_vec.shape)\n",
    "        \n",
    "        with open(os.path.join(bias_prob_lstur_dir, f'user{i}.npy'), 'wb') as f:\n",
    "            pickle.dump(v_vec, f)"
   ]
  },
  {
   "cell_type": "code",
   "execution_count": 7,
   "id": "e5dcb73c",
   "metadata": {},
   "outputs": [
    {
     "name": "stdout",
     "output_type": "stream",
     "text": [
      "  120961 /Users/qin/2022/NewsRec/data/mind/large_test/news.tsv\r\n"
     ]
    }
   ],
   "source": [
    "!wc -l $test_news_path"
   ]
  },
  {
   "cell_type": "code",
   "execution_count": 8,
   "id": "3dd6d940",
   "metadata": {},
   "outputs": [],
   "source": [
    "news_df = pd.read_csv(test_news_path, sep='\\t', header=None)\n",
    "nid_list = news_df[0].tolist()"
   ]
  },
  {
   "cell_type": "code",
   "execution_count": 9,
   "id": "cfe2d98f",
   "metadata": {},
   "outputs": [],
   "source": [
    "nid2vecs = dict()\n",
    "for idx, nid in enumerate(nid_list):\n",
    "    nid2vecs[nid] = bias_prob_lstur_news[idx+1]"
   ]
  },
  {
   "cell_type": "code",
   "execution_count": 10,
   "id": "37b222be",
   "metadata": {},
   "outputs": [
    {
     "data": {
      "text/plain": [
       "(22283, 9)"
      ]
     },
     "execution_count": 10,
     "metadata": {},
     "output_type": "execute_result"
    }
   ],
   "source": [
    "news_df = pd.read_csv(candidate_news_file, sep='\\t', header=None)\n",
    "news_df.columns = ['nid', 'category', 'subcategory', 'title', 'abstract', 'url', 'entity1', 'entity2', 'timestamp']\n",
    "news_df.shape"
   ]
  },
  {
   "cell_type": "code",
   "execution_count": 11,
   "id": "7cc10db4",
   "metadata": {},
   "outputs": [],
   "source": [
    "nid_list = news_df['nid'].tolist()"
   ]
  },
  {
   "cell_type": "code",
   "execution_count": 12,
   "id": "f9caa83f",
   "metadata": {},
   "outputs": [],
   "source": [
    "nid_vecs_arr = []\n",
    "candidate_nid = []\n",
    "for nid in nid_list:\n",
    "    nid_vecs_arr.append(nid2vecs[nid])\n",
    "    candidate_nid.append(nid)"
   ]
  },
  {
   "cell_type": "code",
   "execution_count": 13,
   "id": "8bd9a8cd",
   "metadata": {},
   "outputs": [],
   "source": [
    "with open(os.path.join(bias_prob_lstur_dir, f'candiate_nid_list.pkl'), 'wb') as f:\n",
    "     pickle.dump(candidate_nid, f)"
   ]
  },
  {
   "cell_type": "code",
   "execution_count": 14,
   "id": "680854ed",
   "metadata": {},
   "outputs": [],
   "source": [
    "nid_vecs_arr = np.asarray(nid_vecs_arr)"
   ]
  },
  {
   "cell_type": "code",
   "execution_count": 15,
   "id": "4b53758d",
   "metadata": {},
   "outputs": [
    {
     "data": {
      "text/plain": [
       "(22283, 400)"
      ]
     },
     "execution_count": 15,
     "metadata": {},
     "output_type": "execute_result"
    }
   ],
   "source": [
    "nid_vecs_arr.shape"
   ]
  },
  {
   "cell_type": "code",
   "execution_count": 16,
   "id": "067ceb5d",
   "metadata": {},
   "outputs": [],
   "source": [
    "with open(os.path.join(bias_prob_lstur_dir, f'news.npy'), 'wb') as f:\n",
    "     pickle.dump(nid_vecs_arr, f)"
   ]
  },
  {
   "cell_type": "code",
   "execution_count": 18,
   "id": "53bba97b",
   "metadata": {},
   "outputs": [
    {
     "name": "stdout",
     "output_type": "stream",
     "text": [
      "group: 1\n",
      "mean: [0.06484999999999999, 0.0671, 0.06756666666666666, 0.0680625, 0.06855000000000001, 0.068875, 0.06942142857142858, 0.0697625, 0.07015, 0.07063000000000001]\n",
      "std: [0.08479078664571994, 0.05962457547018679, 0.052400922383739265, 0.04927913953946436, 0.04688173951550859, 0.046490571774166094, 0.04533044152191139, 0.044147195196863866, 0.04372080013217428, 0.04326202838517861]\n",
      "display: ['6.48', '6.71', '6.76', '6.81', '6.86', '6.89', '6.94', '6.98', '7.02', '7.06']\n",
      "**********\n",
      "group: 2\n",
      "mean: [0.08280000000000001, 0.08665, 0.08896666666666667, 0.088675, 0.08871000000000001, 0.08916666666666666, 0.08970714285714286, 0.0902125, 0.09025555555555555, 0.09059500000000001]\n",
      "std: [0.10027043432637558, 0.07575801937748901, 0.06749846911844248, 0.06233874697970757, 0.060642690408655185, 0.05867163804693978, 0.057161389405572624, 0.05593231260863438, 0.055726261069979445, 0.05514885288924875]\n",
      "display: ['8.28', '8.67', '8.90', '8.87', '8.87', '8.92', '8.97', '9.02', '9.03', '9.06']\n",
      "**********\n",
      "group: 3\n",
      "mean: [0.10255000000000002, 0.10635, 0.10778333333333334, 0.109125, 0.10948000000000002, 0.10984166666666667, 0.10972857142857143, 0.10995625, 0.11034444444444444, 0.11055500000000001]\n",
      "std: [0.11596765712904611, 0.08753386487525842, 0.07923928423873267, 0.077248685263893, 0.07272227719206818, 0.07094170092798421, 0.06820772444136651, 0.06681608123002651, 0.06574195627462583, 0.0641524900140283]\n",
      "display: ['10.26', '10.63', '10.78', '10.91', '10.95', '10.98', '10.97', '11.00', '11.03', '11.06']\n",
      "**********\n",
      "group: 4\n",
      "mean: [0.13485000000000003, 0.13290000000000005, 0.13291666666666668, 0.134075, 0.13493, 0.13476666666666665, 0.1346142857142857, 0.13466875, 0.13486111111111113, 0.135685]\n",
      "std: [0.134575174159278, 0.1067360763753287, 0.09729304959759459, 0.09217588825175486, 0.08827284463525575, 0.08521313800634787, 0.0825957341884098, 0.0809708645034589, 0.07968812182037709, 0.07837557511750712]\n",
      "display: ['13.49', '13.29', '13.29', '13.41', '13.49', '13.48', '13.46', '13.47', '13.49', '13.57']\n",
      "**********\n",
      "group: 5\n",
      "mean: [0.15585000000000002, 0.154875, 0.15613333333333335, 0.15664999999999998, 0.15686000000000003, 0.15574166666666667, 0.15503571428571428, 0.15465625, 0.15413333333333332, 0.15384500000000004]\n",
      "std: [0.14555334932594302, 0.1199165725619274, 0.11127615298087107, 0.10411905445210305, 0.09972231645925601, 0.09582075243506609, 0.09239637742479133, 0.09029097386193981, 0.08830965161238738, 0.08654401178013416]\n",
      "display: ['15.59', '15.49', '15.61', '15.66', '15.69', '15.57', '15.50', '15.47', '15.41', '15.38']\n",
      "**********\n"
     ]
    }
   ],
   "source": [
    "\n",
    "for j in range(1, 6):\n",
    "    with open(os.path.join(bias_prob_lstur_dir, f'news.npy'), 'rb') as f:\n",
    "         news_vec = pickle.load(f)\n",
    "    with open(os.path.join(bias_prob_lstur_dir, f'user{j}.npy'), 'rb') as f:\n",
    "         user_vec = pickle.load(f)\n",
    "    with open(os.path.join(bias_prob_lstur_dir, f'candiate_nid_list.pkl'), 'rb') as f:\n",
    "         candidate_nid = pickle.load(f)\n",
    "\n",
    "    bias_detection_df = pd.read_csv(bias_detection_path, header=None, sep='\\t')\n",
    "    bias_detection_df.columns = ['nid', 'category', 'sub_category', 'bias_prob']\n",
    "\n",
    "    nis2bias_prob = dict(zip(bias_detection_df['nid'], bias_detection_df['bias_prob']))\n",
    "\n",
    "    a = np.dot(user_vec, news_vec.T)\n",
    "\n",
    "    top_n = 100\n",
    "    aa_arr = []\n",
    "    for aa in a:\n",
    "        ind = heapq.nlargest(top_n, range(len(aa)), aa.take)\n",
    "        aa_prob_list = [nis2bias_prob[candidate_nid[idx]] for idx in ind]\n",
    "        aa_arr.append(aa_prob_list)\n",
    "    aa_arr = np.asarray(aa_arr)\n",
    "\n",
    "    look_num_list = [i*10 for i in range(1, 11)]\n",
    "    mean_val_list = []\n",
    "    std_val_list = []\n",
    "    display_score_list = []\n",
    "    for look_num in look_num_list:\n",
    "        bb_arr = aa_arr[:, :look_num]\n",
    "        bias_prob_list = []\n",
    "        for bb in bb_arr:\n",
    "            temp = np.count_nonzero(bb >= 0.5)\n",
    "            bias_prob_list.append(temp/len(bb))\n",
    "        \n",
    "        # computing the mean and std in float 64 are more accurate\n",
    "        bias_prob_list = np.asarray(bias_prob_list)\n",
    "        mean_val = np.mean(bias_prob_list, dtype=np.float64)\n",
    "        std_val = np.std(bias_prob_list, dtype=np.float64)\n",
    "        display_score = f'{mean_val*100:.2f}'\n",
    "        mean_val_list.append(mean_val)\n",
    "        std_val_list.append(std_val)\n",
    "        display_score_list.append(display_score)\n",
    "        \n",
    "    print(f'group: {j}')\n",
    "    print(f'mean: {mean_val_list}')\n",
    "    print(f'std: {std_val_list}')\n",
    "    print(f'display: {display_score_list}')\n",
    "    print(\"*\"*10)"
   ]
  }
 ],
 "metadata": {
  "kernelspec": {
   "display_name": "Python 3",
   "language": "python",
   "name": "python3"
  },
  "language_info": {
   "codemirror_mode": {
    "name": "ipython",
    "version": 3
   },
   "file_extension": ".py",
   "mimetype": "text/x-python",
   "name": "python",
   "nbconvert_exporter": "python",
   "pygments_lexer": "ipython3",
   "version": "3.6.8"
  }
 },
 "nbformat": 4,
 "nbformat_minor": 5
}
